{
 "cells": [
  {
   "cell_type": "code",
   "execution_count": 9,
   "metadata": {},
   "outputs": [
    {
     "name": "stdout",
     "output_type": "stream",
     "text": [
      "{'odata.metadata': 'https://192.168.250.40:50000/b1s/v1/$metadata#B1Sessions/@Element', 'SessionId': '968b49ac-9e1e-11ed-8000-089204b66136', 'Version': '1000180', 'SessionTimeout': 30}\n"
     ]
    }
   ],
   "source": [
    "import json\n",
    "import requests\n",
    "import pandas as pd\n",
    "from requests.packages.urllib3.exceptions import InsecureRequestWarning\n",
    "\n",
    "requests.packages.urllib3.disable_warnings(InsecureRequestWarning)\n",
    "\n",
    "df = pd.read_csv('/data/cnwls/cnwls_obsap/TF_DATA.csv', delimiter=';')\n",
    "\n",
    "\n",
    "CompanyDB = \"IGU_NEW\" \n",
    "UserName =  \"manager\"\n",
    "Password = \"8610550\"\n",
    "url =  \"https://192.168.250.40:50000/b1s/v1/\"\n",
    "\n",
    "mylist = df.values.tolist()\n",
    "\n",
    "#print(mylist)\n",
    "\n",
    "appSession = requests.Session()\n",
    "\n",
    "#########################\n",
    "# LOGIN\n",
    "#########################\n",
    "\n",
    "urllogin = url + \"Login\"\n",
    "\n",
    "\n",
    "payload = { \"CompanyDB\" :CompanyDB ,\n",
    "\t\t\t\"UserName\" : UserName,\n",
    "\t\t\t\"Password\" : Password\n",
    "\t\t\t}\n",
    "response = appSession.post(urllogin, json=payload,verify=False)\n",
    "\n",
    "print(response.json())\n",
    "\n",
    "\n",
    "#########################\n",
    "# UPDATE TF\n",
    "#########################\n",
    "\n",
    "\n",
    "\n",
    "\n",
    "for line in mylist : \n",
    "\n",
    "\turlbp = url + \"Invoices(\"  + str(line[1]) + \")\"\n",
    "   \n",
    "\tpayload = {\n",
    "\t\t\t\t\"DocDueDate\" : line[5] ,\n",
    "\t\t\t\t\"U_LT_No\" : line[3] ,\n",
    "\t\t\t\t\"U_TF_date\" : line[5] ,\n",
    "\t\t\t\t\"U_Coll_Name\" : line[6] ,\n",
    "\t\t\t\t\"U_Tagihan_date\" : line[5],\n",
    "\t\t\t\t\"U_RemDelay\" : line[2]\n",
    "\t\t\t\t\n",
    "\t\t\t}               \n",
    "\n",
    "\trsp = appSession.patch(urlbp,json=payload,verify=False)\n",
    "\t#print(urlbp)\n",
    "\t#print(payload)\n",
    "\t#print(rsp.status_code)\n",
    "\tif rsp.status_code >=400 :\n",
    "\t\tprint(urlbp)\n",
    "\t\tprint(payload)\n",
    "\t\tprint(rsp.json())\n",
    "\n",
    "\t#apdp = rsp.json()\n",
    "\n",
    "\n",
    "urllogout = url + \"Logout\"\n",
    "rsplogout = appSession.post(urllogout,json=payload,verify=False)\n",
    "\n"
   ]
  }
 ],
 "metadata": {
  "kernelspec": {
   "display_name": "Python 3.8.10 64-bit",
   "language": "python",
   "name": "python3"
  },
  "language_info": {
   "codemirror_mode": {
    "name": "ipython",
    "version": 3
   },
   "file_extension": ".py",
   "mimetype": "text/x-python",
   "name": "python",
   "nbconvert_exporter": "python",
   "pygments_lexer": "ipython3",
   "version": "3.8.10"
  },
  "orig_nbformat": 4,
  "vscode": {
   "interpreter": {
    "hash": "916dbcbb3f70747c44a77c7bcd40155683ae19c65e1c03b4aa3499c5328201f1"
   }
  }
 },
 "nbformat": 4,
 "nbformat_minor": 2
}
