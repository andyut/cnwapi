{
 "cells": [
  {
   "cell_type": "code",
   "execution_count": 3,
   "metadata": {},
   "outputs": [
    {
     "name": "stderr",
     "output_type": "stream",
     "text": [
      "/usr/local/lib/python3.8/dist-packages/urllib3/connectionpool.py:1056: InsecureRequestWarning: Unverified HTTPS request is being made to host '192.168.250.10'. Adding certificate verification is strongly advised. See: https://urllib3.readthedocs.io/en/1.26.x/advanced-usage.html#ssl-warnings\n",
      "  warnings.warn(\n"
     ]
    },
    {
     "name": "stdout",
     "output_type": "stream",
     "text": [
      "{\n",
      "   \"odata.metadata\" : \"https://192.168.250.10:50000/b1s/v1/$metadata#B1Sessions/@Element\",\n",
      "   \"SessionId\" : \"19551180-140b-11ee-8000-1866dae8f350\",\n",
      "   \"Version\" : \"1000180\",\n",
      "   \"SessionTimeout\" : 30\n",
      "}\n",
      "\n"
     ]
    },
    {
     "name": "stderr",
     "output_type": "stream",
     "text": [
      "/usr/local/lib/python3.8/dist-packages/urllib3/connectionpool.py:1056: InsecureRequestWarning: Unverified HTTPS request is being made to host '192.168.250.10'. Adding certificate verification is strongly advised. See: https://urllib3.readthedocs.io/en/1.26.x/advanced-usage.html#ssl-warnings\n",
      "  warnings.warn(\n"
     ]
    },
    {
     "name": "stdout",
     "output_type": "stream",
     "text": [
      "{'error': {'code': -1000, 'message': {'lang': 'en-us', 'value': \"Property 'CarCode' of 'BusinessPartner' is invalid\"}}}\n",
      "{'error': {'code': -1000, 'message': {'lang': 'en-us', 'value': \"Property 'CarCode' of 'BusinessPartner' is invalid\"}}}\n",
      "{'error': {'code': -1000, 'message': {'lang': 'en-us', 'value': \"Property 'CarCode' of 'BusinessPartner' is invalid\"}}}\n",
      "{'error': {'code': -1000, 'message': {'lang': 'en-us', 'value': \"Property 'CarCode' of 'BusinessPartner' is invalid\"}}}\n",
      "{'error': {'code': -1000, 'message': {'lang': 'en-us', 'value': \"Property 'CarCode' of 'BusinessPartner' is invalid\"}}}\n",
      "{'error': {'code': -1000, 'message': {'lang': 'en-us', 'value': \"Property 'CarCode' of 'BusinessPartner' is invalid\"}}}\n",
      "{'error': {'code': -1000, 'message': {'lang': 'en-us', 'value': \"Property 'CarCode' of 'BusinessPartner' is invalid\"}}}\n"
     ]
    },
    {
     "name": "stderr",
     "output_type": "stream",
     "text": [
      "/usr/local/lib/python3.8/dist-packages/urllib3/connectionpool.py:1056: InsecureRequestWarning: Unverified HTTPS request is being made to host '192.168.250.10'. Adding certificate verification is strongly advised. See: https://urllib3.readthedocs.io/en/1.26.x/advanced-usage.html#ssl-warnings\n",
      "  warnings.warn(\n",
      "/usr/local/lib/python3.8/dist-packages/urllib3/connectionpool.py:1056: InsecureRequestWarning: Unverified HTTPS request is being made to host '192.168.250.10'. Adding certificate verification is strongly advised. See: https://urllib3.readthedocs.io/en/1.26.x/advanced-usage.html#ssl-warnings\n",
      "  warnings.warn(\n",
      "/usr/local/lib/python3.8/dist-packages/urllib3/connectionpool.py:1056: InsecureRequestWarning: Unverified HTTPS request is being made to host '192.168.250.10'. Adding certificate verification is strongly advised. See: https://urllib3.readthedocs.io/en/1.26.x/advanced-usage.html#ssl-warnings\n",
      "  warnings.warn(\n",
      "/usr/local/lib/python3.8/dist-packages/urllib3/connectionpool.py:1056: InsecureRequestWarning: Unverified HTTPS request is being made to host '192.168.250.10'. Adding certificate verification is strongly advised. See: https://urllib3.readthedocs.io/en/1.26.x/advanced-usage.html#ssl-warnings\n",
      "  warnings.warn(\n",
      "/usr/local/lib/python3.8/dist-packages/urllib3/connectionpool.py:1056: InsecureRequestWarning: Unverified HTTPS request is being made to host '192.168.250.10'. Adding certificate verification is strongly advised. See: https://urllib3.readthedocs.io/en/1.26.x/advanced-usage.html#ssl-warnings\n",
      "  warnings.warn(\n",
      "/usr/local/lib/python3.8/dist-packages/urllib3/connectionpool.py:1056: InsecureRequestWarning: Unverified HTTPS request is being made to host '192.168.250.10'. Adding certificate verification is strongly advised. See: https://urllib3.readthedocs.io/en/1.26.x/advanced-usage.html#ssl-warnings\n",
      "  warnings.warn(\n",
      "/usr/local/lib/python3.8/dist-packages/urllib3/connectionpool.py:1056: InsecureRequestWarning: Unverified HTTPS request is being made to host '192.168.250.10'. Adding certificate verification is strongly advised. See: https://urllib3.readthedocs.io/en/1.26.x/advanced-usage.html#ssl-warnings\n",
      "  warnings.warn(\n"
     ]
    },
    {
     "name": "stdout",
     "output_type": "stream",
     "text": [
      "{'error': {'code': -1000, 'message': {'lang': 'en-us', 'value': \"Property 'CarCode' of 'BusinessPartner' is invalid\"}}}\n",
      "{'error': {'code': -1000, 'message': {'lang': 'en-us', 'value': \"Property 'CarCode' of 'BusinessPartner' is invalid\"}}}\n",
      "{'error': {'code': -1000, 'message': {'lang': 'en-us', 'value': \"Property 'CarCode' of 'BusinessPartner' is invalid\"}}}\n",
      "{'error': {'code': -1000, 'message': {'lang': 'en-us', 'value': \"Property 'CarCode' of 'BusinessPartner' is invalid\"}}}\n",
      "{'error': {'code': -1000, 'message': {'lang': 'en-us', 'value': \"Property 'CarCode' of 'BusinessPartner' is invalid\"}}}\n",
      "{'error': {'code': -1000, 'message': {'lang': 'en-us', 'value': \"Property 'CarCode' of 'BusinessPartner' is invalid\"}}}\n",
      "{'error': {'code': -1000, 'message': {'lang': 'en-us', 'value': \"Property 'CarCode' of 'BusinessPartner' is invalid\"}}}\n",
      "{'error': {'code': -1000, 'message': {'lang': 'en-us', 'value': \"Property 'CarCode' of 'BusinessPartner' is invalid\"}}}\n"
     ]
    },
    {
     "name": "stderr",
     "output_type": "stream",
     "text": [
      "/usr/local/lib/python3.8/dist-packages/urllib3/connectionpool.py:1056: InsecureRequestWarning: Unverified HTTPS request is being made to host '192.168.250.10'. Adding certificate verification is strongly advised. See: https://urllib3.readthedocs.io/en/1.26.x/advanced-usage.html#ssl-warnings\n",
      "  warnings.warn(\n",
      "/usr/local/lib/python3.8/dist-packages/urllib3/connectionpool.py:1056: InsecureRequestWarning: Unverified HTTPS request is being made to host '192.168.250.10'. Adding certificate verification is strongly advised. See: https://urllib3.readthedocs.io/en/1.26.x/advanced-usage.html#ssl-warnings\n",
      "  warnings.warn(\n",
      "/usr/local/lib/python3.8/dist-packages/urllib3/connectionpool.py:1056: InsecureRequestWarning: Unverified HTTPS request is being made to host '192.168.250.10'. Adding certificate verification is strongly advised. See: https://urllib3.readthedocs.io/en/1.26.x/advanced-usage.html#ssl-warnings\n",
      "  warnings.warn(\n",
      "/usr/local/lib/python3.8/dist-packages/urllib3/connectionpool.py:1056: InsecureRequestWarning: Unverified HTTPS request is being made to host '192.168.250.10'. Adding certificate verification is strongly advised. See: https://urllib3.readthedocs.io/en/1.26.x/advanced-usage.html#ssl-warnings\n",
      "  warnings.warn(\n",
      "/usr/local/lib/python3.8/dist-packages/urllib3/connectionpool.py:1056: InsecureRequestWarning: Unverified HTTPS request is being made to host '192.168.250.10'. Adding certificate verification is strongly advised. See: https://urllib3.readthedocs.io/en/1.26.x/advanced-usage.html#ssl-warnings\n",
      "  warnings.warn(\n",
      "/usr/local/lib/python3.8/dist-packages/urllib3/connectionpool.py:1056: InsecureRequestWarning: Unverified HTTPS request is being made to host '192.168.250.10'. Adding certificate verification is strongly advised. See: https://urllib3.readthedocs.io/en/1.26.x/advanced-usage.html#ssl-warnings\n",
      "  warnings.warn(\n",
      "/usr/local/lib/python3.8/dist-packages/urllib3/connectionpool.py:1056: InsecureRequestWarning: Unverified HTTPS request is being made to host '192.168.250.10'. Adding certificate verification is strongly advised. See: https://urllib3.readthedocs.io/en/1.26.x/advanced-usage.html#ssl-warnings\n",
      "  warnings.warn(\n",
      "/usr/local/lib/python3.8/dist-packages/urllib3/connectionpool.py:1056: InsecureRequestWarning: Unverified HTTPS request is being made to host '192.168.250.10'. Adding certificate verification is strongly advised. See: https://urllib3.readthedocs.io/en/1.26.x/advanced-usage.html#ssl-warnings\n",
      "  warnings.warn(\n"
     ]
    },
    {
     "name": "stdout",
     "output_type": "stream",
     "text": [
      "{'error': {'code': -1000, 'message': {'lang': 'en-us', 'value': \"Property 'CarCode' of 'BusinessPartner' is invalid\"}}}\n",
      "{'error': {'code': -1000, 'message': {'lang': 'en-us', 'value': \"Property 'CarCode' of 'BusinessPartner' is invalid\"}}}\n",
      "{'error': {'code': -1000, 'message': {'lang': 'en-us', 'value': \"Property 'CarCode' of 'BusinessPartner' is invalid\"}}}\n",
      "{'error': {'code': -1000, 'message': {'lang': 'en-us', 'value': \"Property 'CarCode' of 'BusinessPartner' is invalid\"}}}\n",
      "{'error': {'code': -1000, 'message': {'lang': 'en-us', 'value': \"Property 'CarCode' of 'BusinessPartner' is invalid\"}}}\n",
      "{'error': {'code': -1000, 'message': {'lang': 'en-us', 'value': \"Property 'CarCode' of 'BusinessPartner' is invalid\"}}}\n"
     ]
    },
    {
     "name": "stderr",
     "output_type": "stream",
     "text": [
      "/usr/local/lib/python3.8/dist-packages/urllib3/connectionpool.py:1056: InsecureRequestWarning: Unverified HTTPS request is being made to host '192.168.250.10'. Adding certificate verification is strongly advised. See: https://urllib3.readthedocs.io/en/1.26.x/advanced-usage.html#ssl-warnings\n",
      "  warnings.warn(\n",
      "/usr/local/lib/python3.8/dist-packages/urllib3/connectionpool.py:1056: InsecureRequestWarning: Unverified HTTPS request is being made to host '192.168.250.10'. Adding certificate verification is strongly advised. See: https://urllib3.readthedocs.io/en/1.26.x/advanced-usage.html#ssl-warnings\n",
      "  warnings.warn(\n",
      "/usr/local/lib/python3.8/dist-packages/urllib3/connectionpool.py:1056: InsecureRequestWarning: Unverified HTTPS request is being made to host '192.168.250.10'. Adding certificate verification is strongly advised. See: https://urllib3.readthedocs.io/en/1.26.x/advanced-usage.html#ssl-warnings\n",
      "  warnings.warn(\n",
      "/usr/local/lib/python3.8/dist-packages/urllib3/connectionpool.py:1056: InsecureRequestWarning: Unverified HTTPS request is being made to host '192.168.250.10'. Adding certificate verification is strongly advised. See: https://urllib3.readthedocs.io/en/1.26.x/advanced-usage.html#ssl-warnings\n",
      "  warnings.warn(\n",
      "/usr/local/lib/python3.8/dist-packages/urllib3/connectionpool.py:1056: InsecureRequestWarning: Unverified HTTPS request is being made to host '192.168.250.10'. Adding certificate verification is strongly advised. See: https://urllib3.readthedocs.io/en/1.26.x/advanced-usage.html#ssl-warnings\n",
      "  warnings.warn(\n",
      "/usr/local/lib/python3.8/dist-packages/urllib3/connectionpool.py:1056: InsecureRequestWarning: Unverified HTTPS request is being made to host '192.168.250.10'. Adding certificate verification is strongly advised. See: https://urllib3.readthedocs.io/en/1.26.x/advanced-usage.html#ssl-warnings\n",
      "  warnings.warn(\n",
      "/usr/local/lib/python3.8/dist-packages/urllib3/connectionpool.py:1056: InsecureRequestWarning: Unverified HTTPS request is being made to host '192.168.250.10'. Adding certificate verification is strongly advised. See: https://urllib3.readthedocs.io/en/1.26.x/advanced-usage.html#ssl-warnings\n",
      "  warnings.warn(\n",
      "/usr/local/lib/python3.8/dist-packages/urllib3/connectionpool.py:1056: InsecureRequestWarning: Unverified HTTPS request is being made to host '192.168.250.10'. Adding certificate verification is strongly advised. See: https://urllib3.readthedocs.io/en/1.26.x/advanced-usage.html#ssl-warnings\n",
      "  warnings.warn(\n",
      "/usr/local/lib/python3.8/dist-packages/urllib3/connectionpool.py:1056: InsecureRequestWarning: Unverified HTTPS request is being made to host '192.168.250.10'. Adding certificate verification is strongly advised. See: https://urllib3.readthedocs.io/en/1.26.x/advanced-usage.html#ssl-warnings\n",
      "  warnings.warn(\n",
      "/usr/local/lib/python3.8/dist-packages/urllib3/connectionpool.py:1056: InsecureRequestWarning: Unverified HTTPS request is being made to host '192.168.250.10'. Adding certificate verification is strongly advised. See: https://urllib3.readthedocs.io/en/1.26.x/advanced-usage.html#ssl-warnings\n",
      "  warnings.warn(\n",
      "/usr/local/lib/python3.8/dist-packages/urllib3/connectionpool.py:1056: InsecureRequestWarning: Unverified HTTPS request is being made to host '192.168.250.10'. Adding certificate verification is strongly advised. See: https://urllib3.readthedocs.io/en/1.26.x/advanced-usage.html#ssl-warnings\n",
      "  warnings.warn(\n",
      "/usr/local/lib/python3.8/dist-packages/urllib3/connectionpool.py:1056: InsecureRequestWarning: Unverified HTTPS request is being made to host '192.168.250.10'. Adding certificate verification is strongly advised. See: https://urllib3.readthedocs.io/en/1.26.x/advanced-usage.html#ssl-warnings\n",
      "  warnings.warn(\n",
      "/usr/local/lib/python3.8/dist-packages/urllib3/connectionpool.py:1056: InsecureRequestWarning: Unverified HTTPS request is being made to host '192.168.250.10'. Adding certificate verification is strongly advised. See: https://urllib3.readthedocs.io/en/1.26.x/advanced-usage.html#ssl-warnings\n",
      "  warnings.warn(\n",
      "/usr/local/lib/python3.8/dist-packages/urllib3/connectionpool.py:1056: InsecureRequestWarning: Unverified HTTPS request is being made to host '192.168.250.10'. Adding certificate verification is strongly advised. See: https://urllib3.readthedocs.io/en/1.26.x/advanced-usage.html#ssl-warnings\n",
      "  warnings.warn(\n",
      "/usr/local/lib/python3.8/dist-packages/urllib3/connectionpool.py:1056: InsecureRequestWarning: Unverified HTTPS request is being made to host '192.168.250.10'. Adding certificate verification is strongly advised. See: https://urllib3.readthedocs.io/en/1.26.x/advanced-usage.html#ssl-warnings\n",
      "  warnings.warn(\n"
     ]
    },
    {
     "name": "stdout",
     "output_type": "stream",
     "text": [
      "{'error': {'code': -1000, 'message': {'lang': 'en-us', 'value': \"Property 'CarCode' of 'BusinessPartner' is invalid\"}}}\n",
      "{'error': {'code': -1000, 'message': {'lang': 'en-us', 'value': \"Property 'CarCode' of 'BusinessPartner' is invalid\"}}}\n",
      "{'error': {'code': -1000, 'message': {'lang': 'en-us', 'value': \"Property 'CarCode' of 'BusinessPartner' is invalid\"}}}\n",
      "{'error': {'code': -1000, 'message': {'lang': 'en-us', 'value': \"Property 'CarCode' of 'BusinessPartner' is invalid\"}}}\n",
      "{'error': {'code': -1000, 'message': {'lang': 'en-us', 'value': \"Property 'CarCode' of 'BusinessPartner' is invalid\"}}}\n",
      "{'error': {'code': -1000, 'message': {'lang': 'en-us', 'value': \"Property 'CarCode' of 'BusinessPartner' is invalid\"}}}\n",
      "{'error': {'code': -1000, 'message': {'lang': 'en-us', 'value': \"Property 'CarCode' of 'BusinessPartner' is invalid\"}}}\n",
      "{'error': {'code': -1000, 'message': {'lang': 'en-us', 'value': \"Property 'CarCode' of 'BusinessPartner' is invalid\"}}}\n",
      "{'error': {'code': -1000, 'message': {'lang': 'en-us', 'value': \"Property 'CarCode' of 'BusinessPartner' is invalid\"}}}\n",
      "{'error': {'code': -1000, 'message': {'lang': 'en-us', 'value': \"Property 'CarCode' of 'BusinessPartner' is invalid\"}}}\n"
     ]
    },
    {
     "name": "stderr",
     "output_type": "stream",
     "text": [
      "/usr/local/lib/python3.8/dist-packages/urllib3/connectionpool.py:1056: InsecureRequestWarning: Unverified HTTPS request is being made to host '192.168.250.10'. Adding certificate verification is strongly advised. See: https://urllib3.readthedocs.io/en/1.26.x/advanced-usage.html#ssl-warnings\n",
      "  warnings.warn(\n",
      "/usr/local/lib/python3.8/dist-packages/urllib3/connectionpool.py:1056: InsecureRequestWarning: Unverified HTTPS request is being made to host '192.168.250.10'. Adding certificate verification is strongly advised. See: https://urllib3.readthedocs.io/en/1.26.x/advanced-usage.html#ssl-warnings\n",
      "  warnings.warn(\n",
      "/usr/local/lib/python3.8/dist-packages/urllib3/connectionpool.py:1056: InsecureRequestWarning: Unverified HTTPS request is being made to host '192.168.250.10'. Adding certificate verification is strongly advised. See: https://urllib3.readthedocs.io/en/1.26.x/advanced-usage.html#ssl-warnings\n",
      "  warnings.warn(\n",
      "/usr/local/lib/python3.8/dist-packages/urllib3/connectionpool.py:1056: InsecureRequestWarning: Unverified HTTPS request is being made to host '192.168.250.10'. Adding certificate verification is strongly advised. See: https://urllib3.readthedocs.io/en/1.26.x/advanced-usage.html#ssl-warnings\n",
      "  warnings.warn(\n",
      "/usr/local/lib/python3.8/dist-packages/urllib3/connectionpool.py:1056: InsecureRequestWarning: Unverified HTTPS request is being made to host '192.168.250.10'. Adding certificate verification is strongly advised. See: https://urllib3.readthedocs.io/en/1.26.x/advanced-usage.html#ssl-warnings\n",
      "  warnings.warn(\n",
      "/usr/local/lib/python3.8/dist-packages/urllib3/connectionpool.py:1056: InsecureRequestWarning: Unverified HTTPS request is being made to host '192.168.250.10'. Adding certificate verification is strongly advised. See: https://urllib3.readthedocs.io/en/1.26.x/advanced-usage.html#ssl-warnings\n",
      "  warnings.warn(\n",
      "/usr/local/lib/python3.8/dist-packages/urllib3/connectionpool.py:1056: InsecureRequestWarning: Unverified HTTPS request is being made to host '192.168.250.10'. Adding certificate verification is strongly advised. See: https://urllib3.readthedocs.io/en/1.26.x/advanced-usage.html#ssl-warnings\n",
      "  warnings.warn(\n",
      "/usr/local/lib/python3.8/dist-packages/urllib3/connectionpool.py:1056: InsecureRequestWarning: Unverified HTTPS request is being made to host '192.168.250.10'. Adding certificate verification is strongly advised. See: https://urllib3.readthedocs.io/en/1.26.x/advanced-usage.html#ssl-warnings\n",
      "  warnings.warn(\n"
     ]
    },
    {
     "name": "stdout",
     "output_type": "stream",
     "text": [
      "{'error': {'code': -1000, 'message': {'lang': 'en-us', 'value': \"Property 'CarCode' of 'BusinessPartner' is invalid\"}}}\n",
      "{'error': {'code': -1000, 'message': {'lang': 'en-us', 'value': \"Property 'CarCode' of 'BusinessPartner' is invalid\"}}}\n",
      "{'error': {'code': -1000, 'message': {'lang': 'en-us', 'value': \"Property 'CarCode' of 'BusinessPartner' is invalid\"}}}\n",
      "{'error': {'code': -1000, 'message': {'lang': 'en-us', 'value': \"Property 'CarCode' of 'BusinessPartner' is invalid\"}}}\n",
      "{'error': {'code': -1000, 'message': {'lang': 'en-us', 'value': \"Property 'CarCode' of 'BusinessPartner' is invalid\"}}}\n",
      "{'error': {'code': -1000, 'message': {'lang': 'en-us', 'value': \"Property 'CarCode' of 'BusinessPartner' is invalid\"}}}\n",
      "{'error': {'code': -1000, 'message': {'lang': 'en-us', 'value': \"Property 'CarCode' of 'BusinessPartner' is invalid\"}}}\n",
      "{'error': {'code': -1000, 'message': {'lang': 'en-us', 'value': \"Property 'CarCode' of 'BusinessPartner' is invalid\"}}}\n",
      "{'error': {'code': -1000, 'message': {'lang': 'en-us', 'value': \"Property 'CarCode' of 'BusinessPartner' is invalid\"}}}\n"
     ]
    },
    {
     "name": "stderr",
     "output_type": "stream",
     "text": [
      "/usr/local/lib/python3.8/dist-packages/urllib3/connectionpool.py:1056: InsecureRequestWarning: Unverified HTTPS request is being made to host '192.168.250.10'. Adding certificate verification is strongly advised. See: https://urllib3.readthedocs.io/en/1.26.x/advanced-usage.html#ssl-warnings\n",
      "  warnings.warn(\n",
      "/usr/local/lib/python3.8/dist-packages/urllib3/connectionpool.py:1056: InsecureRequestWarning: Unverified HTTPS request is being made to host '192.168.250.10'. Adding certificate verification is strongly advised. See: https://urllib3.readthedocs.io/en/1.26.x/advanced-usage.html#ssl-warnings\n",
      "  warnings.warn(\n",
      "/usr/local/lib/python3.8/dist-packages/urllib3/connectionpool.py:1056: InsecureRequestWarning: Unverified HTTPS request is being made to host '192.168.250.10'. Adding certificate verification is strongly advised. See: https://urllib3.readthedocs.io/en/1.26.x/advanced-usage.html#ssl-warnings\n",
      "  warnings.warn(\n",
      "/usr/local/lib/python3.8/dist-packages/urllib3/connectionpool.py:1056: InsecureRequestWarning: Unverified HTTPS request is being made to host '192.168.250.10'. Adding certificate verification is strongly advised. See: https://urllib3.readthedocs.io/en/1.26.x/advanced-usage.html#ssl-warnings\n",
      "  warnings.warn(\n",
      "/usr/local/lib/python3.8/dist-packages/urllib3/connectionpool.py:1056: InsecureRequestWarning: Unverified HTTPS request is being made to host '192.168.250.10'. Adding certificate verification is strongly advised. See: https://urllib3.readthedocs.io/en/1.26.x/advanced-usage.html#ssl-warnings\n",
      "  warnings.warn(\n",
      "/usr/local/lib/python3.8/dist-packages/urllib3/connectionpool.py:1056: InsecureRequestWarning: Unverified HTTPS request is being made to host '192.168.250.10'. Adding certificate verification is strongly advised. See: https://urllib3.readthedocs.io/en/1.26.x/advanced-usage.html#ssl-warnings\n",
      "  warnings.warn(\n",
      "/usr/local/lib/python3.8/dist-packages/urllib3/connectionpool.py:1056: InsecureRequestWarning: Unverified HTTPS request is being made to host '192.168.250.10'. Adding certificate verification is strongly advised. See: https://urllib3.readthedocs.io/en/1.26.x/advanced-usage.html#ssl-warnings\n",
      "  warnings.warn(\n"
     ]
    },
    {
     "name": "stdout",
     "output_type": "stream",
     "text": [
      "{'error': {'code': -1000, 'message': {'lang': 'en-us', 'value': \"Property 'CarCode' of 'BusinessPartner' is invalid\"}}}\n",
      "{'error': {'code': -1000, 'message': {'lang': 'en-us', 'value': \"Property 'CarCode' of 'BusinessPartner' is invalid\"}}}\n",
      "{'error': {'code': -1000, 'message': {'lang': 'en-us', 'value': \"Property 'CarCode' of 'BusinessPartner' is invalid\"}}}\n",
      "{'error': {'code': -1000, 'message': {'lang': 'en-us', 'value': \"Property 'CarCode' of 'BusinessPartner' is invalid\"}}}\n",
      "{'error': {'code': -1000, 'message': {'lang': 'en-us', 'value': \"Property 'CarCode' of 'BusinessPartner' is invalid\"}}}\n",
      "{'error': {'code': -1000, 'message': {'lang': 'en-us', 'value': \"Property 'CarCode' of 'BusinessPartner' is invalid\"}}}\n",
      "{'error': {'code': -1000, 'message': {'lang': 'en-us', 'value': \"Property 'CarCode' of 'BusinessPartner' is invalid\"}}}\n"
     ]
    },
    {
     "name": "stderr",
     "output_type": "stream",
     "text": [
      "/usr/local/lib/python3.8/dist-packages/urllib3/connectionpool.py:1056: InsecureRequestWarning: Unverified HTTPS request is being made to host '192.168.250.10'. Adding certificate verification is strongly advised. See: https://urllib3.readthedocs.io/en/1.26.x/advanced-usage.html#ssl-warnings\n",
      "  warnings.warn(\n",
      "/usr/local/lib/python3.8/dist-packages/urllib3/connectionpool.py:1056: InsecureRequestWarning: Unverified HTTPS request is being made to host '192.168.250.10'. Adding certificate verification is strongly advised. See: https://urllib3.readthedocs.io/en/1.26.x/advanced-usage.html#ssl-warnings\n",
      "  warnings.warn(\n",
      "/usr/local/lib/python3.8/dist-packages/urllib3/connectionpool.py:1056: InsecureRequestWarning: Unverified HTTPS request is being made to host '192.168.250.10'. Adding certificate verification is strongly advised. See: https://urllib3.readthedocs.io/en/1.26.x/advanced-usage.html#ssl-warnings\n",
      "  warnings.warn(\n",
      "/usr/local/lib/python3.8/dist-packages/urllib3/connectionpool.py:1056: InsecureRequestWarning: Unverified HTTPS request is being made to host '192.168.250.10'. Adding certificate verification is strongly advised. See: https://urllib3.readthedocs.io/en/1.26.x/advanced-usage.html#ssl-warnings\n",
      "  warnings.warn(\n",
      "/usr/local/lib/python3.8/dist-packages/urllib3/connectionpool.py:1056: InsecureRequestWarning: Unverified HTTPS request is being made to host '192.168.250.10'. Adding certificate verification is strongly advised. See: https://urllib3.readthedocs.io/en/1.26.x/advanced-usage.html#ssl-warnings\n",
      "  warnings.warn(\n",
      "/usr/local/lib/python3.8/dist-packages/urllib3/connectionpool.py:1056: InsecureRequestWarning: Unverified HTTPS request is being made to host '192.168.250.10'. Adding certificate verification is strongly advised. See: https://urllib3.readthedocs.io/en/1.26.x/advanced-usage.html#ssl-warnings\n",
      "  warnings.warn(\n"
     ]
    },
    {
     "name": "stdout",
     "output_type": "stream",
     "text": [
      "{'error': {'code': -1000, 'message': {'lang': 'en-us', 'value': \"Property 'CarCode' of 'BusinessPartner' is invalid\"}}}\n",
      "{'error': {'code': -1000, 'message': {'lang': 'en-us', 'value': \"Property 'CarCode' of 'BusinessPartner' is invalid\"}}}\n",
      "{'error': {'code': -1000, 'message': {'lang': 'en-us', 'value': \"Property 'CarCode' of 'BusinessPartner' is invalid\"}}}\n",
      "{'error': {'code': -1000, 'message': {'lang': 'en-us', 'value': \"Property 'CarCode' of 'BusinessPartner' is invalid\"}}}\n",
      "{'error': {'code': -1000, 'message': {'lang': 'en-us', 'value': \"Property 'CarCode' of 'BusinessPartner' is invalid\"}}}\n",
      "{'error': {'code': -1000, 'message': {'lang': 'en-us', 'value': \"Property 'CarCode' of 'BusinessPartner' is invalid\"}}}\n"
     ]
    },
    {
     "name": "stderr",
     "output_type": "stream",
     "text": [
      "/usr/local/lib/python3.8/dist-packages/urllib3/connectionpool.py:1056: InsecureRequestWarning: Unverified HTTPS request is being made to host '192.168.250.10'. Adding certificate verification is strongly advised. See: https://urllib3.readthedocs.io/en/1.26.x/advanced-usage.html#ssl-warnings\n",
      "  warnings.warn(\n",
      "/usr/local/lib/python3.8/dist-packages/urllib3/connectionpool.py:1056: InsecureRequestWarning: Unverified HTTPS request is being made to host '192.168.250.10'. Adding certificate verification is strongly advised. See: https://urllib3.readthedocs.io/en/1.26.x/advanced-usage.html#ssl-warnings\n",
      "  warnings.warn(\n",
      "/usr/local/lib/python3.8/dist-packages/urllib3/connectionpool.py:1056: InsecureRequestWarning: Unverified HTTPS request is being made to host '192.168.250.10'. Adding certificate verification is strongly advised. See: https://urllib3.readthedocs.io/en/1.26.x/advanced-usage.html#ssl-warnings\n",
      "  warnings.warn(\n",
      "/usr/local/lib/python3.8/dist-packages/urllib3/connectionpool.py:1056: InsecureRequestWarning: Unverified HTTPS request is being made to host '192.168.250.10'. Adding certificate verification is strongly advised. See: https://urllib3.readthedocs.io/en/1.26.x/advanced-usage.html#ssl-warnings\n",
      "  warnings.warn(\n",
      "/usr/local/lib/python3.8/dist-packages/urllib3/connectionpool.py:1056: InsecureRequestWarning: Unverified HTTPS request is being made to host '192.168.250.10'. Adding certificate verification is strongly advised. See: https://urllib3.readthedocs.io/en/1.26.x/advanced-usage.html#ssl-warnings\n",
      "  warnings.warn(\n"
     ]
    },
    {
     "name": "stdout",
     "output_type": "stream",
     "text": [
      "{'error': {'code': -1000, 'message': {'lang': 'en-us', 'value': \"Property 'CarCode' of 'BusinessPartner' is invalid\"}}}\n",
      "{'error': {'code': -1000, 'message': {'lang': 'en-us', 'value': \"Property 'CarCode' of 'BusinessPartner' is invalid\"}}}\n",
      "{'error': {'code': -1000, 'message': {'lang': 'en-us', 'value': \"Property 'CarCode' of 'BusinessPartner' is invalid\"}}}\n",
      "{'error': {'code': -1000, 'message': {'lang': 'en-us', 'value': \"Property 'CarCode' of 'BusinessPartner' is invalid\"}}}\n",
      "{'error': {'code': -1000, 'message': {'lang': 'en-us', 'value': \"Property 'CarCode' of 'BusinessPartner' is invalid\"}}}\n"
     ]
    },
    {
     "name": "stderr",
     "output_type": "stream",
     "text": [
      "/usr/local/lib/python3.8/dist-packages/urllib3/connectionpool.py:1056: InsecureRequestWarning: Unverified HTTPS request is being made to host '192.168.250.10'. Adding certificate verification is strongly advised. See: https://urllib3.readthedocs.io/en/1.26.x/advanced-usage.html#ssl-warnings\n",
      "  warnings.warn(\n",
      "/usr/local/lib/python3.8/dist-packages/urllib3/connectionpool.py:1056: InsecureRequestWarning: Unverified HTTPS request is being made to host '192.168.250.10'. Adding certificate verification is strongly advised. See: https://urllib3.readthedocs.io/en/1.26.x/advanced-usage.html#ssl-warnings\n",
      "  warnings.warn(\n",
      "/usr/local/lib/python3.8/dist-packages/urllib3/connectionpool.py:1056: InsecureRequestWarning: Unverified HTTPS request is being made to host '192.168.250.10'. Adding certificate verification is strongly advised. See: https://urllib3.readthedocs.io/en/1.26.x/advanced-usage.html#ssl-warnings\n",
      "  warnings.warn(\n",
      "/usr/local/lib/python3.8/dist-packages/urllib3/connectionpool.py:1056: InsecureRequestWarning: Unverified HTTPS request is being made to host '192.168.250.10'. Adding certificate verification is strongly advised. See: https://urllib3.readthedocs.io/en/1.26.x/advanced-usage.html#ssl-warnings\n",
      "  warnings.warn(\n",
      "/usr/local/lib/python3.8/dist-packages/urllib3/connectionpool.py:1056: InsecureRequestWarning: Unverified HTTPS request is being made to host '192.168.250.10'. Adding certificate verification is strongly advised. See: https://urllib3.readthedocs.io/en/1.26.x/advanced-usage.html#ssl-warnings\n",
      "  warnings.warn(\n"
     ]
    },
    {
     "name": "stdout",
     "output_type": "stream",
     "text": [
      "{'error': {'code': -1000, 'message': {'lang': 'en-us', 'value': \"Property 'CarCode' of 'BusinessPartner' is invalid\"}}}\n",
      "{'error': {'code': -1000, 'message': {'lang': 'en-us', 'value': \"Property 'CarCode' of 'BusinessPartner' is invalid\"}}}\n",
      "{'error': {'code': -1000, 'message': {'lang': 'en-us', 'value': \"Property 'CarCode' of 'BusinessPartner' is invalid\"}}}\n",
      "{'error': {'code': -1000, 'message': {'lang': 'en-us', 'value': \"Property 'CarCode' of 'BusinessPartner' is invalid\"}}}\n",
      "{'error': {'code': -1000, 'message': {'lang': 'en-us', 'value': \"Property 'CarCode' of 'BusinessPartner' is invalid\"}}}\n"
     ]
    },
    {
     "name": "stderr",
     "output_type": "stream",
     "text": [
      "/usr/local/lib/python3.8/dist-packages/urllib3/connectionpool.py:1056: InsecureRequestWarning: Unverified HTTPS request is being made to host '192.168.250.10'. Adding certificate verification is strongly advised. See: https://urllib3.readthedocs.io/en/1.26.x/advanced-usage.html#ssl-warnings\n",
      "  warnings.warn(\n",
      "/usr/local/lib/python3.8/dist-packages/urllib3/connectionpool.py:1056: InsecureRequestWarning: Unverified HTTPS request is being made to host '192.168.250.10'. Adding certificate verification is strongly advised. See: https://urllib3.readthedocs.io/en/1.26.x/advanced-usage.html#ssl-warnings\n",
      "  warnings.warn(\n",
      "/usr/local/lib/python3.8/dist-packages/urllib3/connectionpool.py:1056: InsecureRequestWarning: Unverified HTTPS request is being made to host '192.168.250.10'. Adding certificate verification is strongly advised. See: https://urllib3.readthedocs.io/en/1.26.x/advanced-usage.html#ssl-warnings\n",
      "  warnings.warn(\n",
      "/usr/local/lib/python3.8/dist-packages/urllib3/connectionpool.py:1056: InsecureRequestWarning: Unverified HTTPS request is being made to host '192.168.250.10'. Adding certificate verification is strongly advised. See: https://urllib3.readthedocs.io/en/1.26.x/advanced-usage.html#ssl-warnings\n",
      "  warnings.warn(\n",
      "/usr/local/lib/python3.8/dist-packages/urllib3/connectionpool.py:1056: InsecureRequestWarning: Unverified HTTPS request is being made to host '192.168.250.10'. Adding certificate verification is strongly advised. See: https://urllib3.readthedocs.io/en/1.26.x/advanced-usage.html#ssl-warnings\n",
      "  warnings.warn(\n"
     ]
    },
    {
     "name": "stdout",
     "output_type": "stream",
     "text": [
      "{'error': {'code': -1000, 'message': {'lang': 'en-us', 'value': \"Property 'CarCode' of 'BusinessPartner' is invalid\"}}}\n",
      "{'error': {'code': -1000, 'message': {'lang': 'en-us', 'value': \"Property 'CarCode' of 'BusinessPartner' is invalid\"}}}\n",
      "{'error': {'code': -1000, 'message': {'lang': 'en-us', 'value': \"Property 'CarCode' of 'BusinessPartner' is invalid\"}}}\n",
      "{'error': {'code': -1000, 'message': {'lang': 'en-us', 'value': \"Property 'CarCode' of 'BusinessPartner' is invalid\"}}}\n",
      "{'error': {'code': -1000, 'message': {'lang': 'en-us', 'value': \"Property 'CarCode' of 'BusinessPartner' is invalid\"}}}\n",
      "{'error': {'code': -1000, 'message': {'lang': 'en-us', 'value': \"Property 'CarCode' of 'BusinessPartner' is invalid\"}}}\n"
     ]
    },
    {
     "name": "stderr",
     "output_type": "stream",
     "text": [
      "/usr/local/lib/python3.8/dist-packages/urllib3/connectionpool.py:1056: InsecureRequestWarning: Unverified HTTPS request is being made to host '192.168.250.10'. Adding certificate verification is strongly advised. See: https://urllib3.readthedocs.io/en/1.26.x/advanced-usage.html#ssl-warnings\n",
      "  warnings.warn(\n",
      "/usr/local/lib/python3.8/dist-packages/urllib3/connectionpool.py:1056: InsecureRequestWarning: Unverified HTTPS request is being made to host '192.168.250.10'. Adding certificate verification is strongly advised. See: https://urllib3.readthedocs.io/en/1.26.x/advanced-usage.html#ssl-warnings\n",
      "  warnings.warn(\n",
      "/usr/local/lib/python3.8/dist-packages/urllib3/connectionpool.py:1056: InsecureRequestWarning: Unverified HTTPS request is being made to host '192.168.250.10'. Adding certificate verification is strongly advised. See: https://urllib3.readthedocs.io/en/1.26.x/advanced-usage.html#ssl-warnings\n",
      "  warnings.warn(\n",
      "/usr/local/lib/python3.8/dist-packages/urllib3/connectionpool.py:1056: InsecureRequestWarning: Unverified HTTPS request is being made to host '192.168.250.10'. Adding certificate verification is strongly advised. See: https://urllib3.readthedocs.io/en/1.26.x/advanced-usage.html#ssl-warnings\n",
      "  warnings.warn(\n",
      "/usr/local/lib/python3.8/dist-packages/urllib3/connectionpool.py:1056: InsecureRequestWarning: Unverified HTTPS request is being made to host '192.168.250.10'. Adding certificate verification is strongly advised. See: https://urllib3.readthedocs.io/en/1.26.x/advanced-usage.html#ssl-warnings\n",
      "  warnings.warn(\n",
      "/usr/local/lib/python3.8/dist-packages/urllib3/connectionpool.py:1056: InsecureRequestWarning: Unverified HTTPS request is being made to host '192.168.250.10'. Adding certificate verification is strongly advised. See: https://urllib3.readthedocs.io/en/1.26.x/advanced-usage.html#ssl-warnings\n",
      "  warnings.warn(\n",
      "/usr/local/lib/python3.8/dist-packages/urllib3/connectionpool.py:1056: InsecureRequestWarning: Unverified HTTPS request is being made to host '192.168.250.10'. Adding certificate verification is strongly advised. See: https://urllib3.readthedocs.io/en/1.26.x/advanced-usage.html#ssl-warnings\n",
      "  warnings.warn(\n",
      "/usr/local/lib/python3.8/dist-packages/urllib3/connectionpool.py:1056: InsecureRequestWarning: Unverified HTTPS request is being made to host '192.168.250.10'. Adding certificate verification is strongly advised. See: https://urllib3.readthedocs.io/en/1.26.x/advanced-usage.html#ssl-warnings\n",
      "  warnings.warn(\n"
     ]
    },
    {
     "name": "stdout",
     "output_type": "stream",
     "text": [
      "{'error': {'code': -1000, 'message': {'lang': 'en-us', 'value': \"Property 'CarCode' of 'BusinessPartner' is invalid\"}}}\n",
      "{'error': {'code': -1000, 'message': {'lang': 'en-us', 'value': \"Property 'CarCode' of 'BusinessPartner' is invalid\"}}}\n",
      "{'error': {'code': -1000, 'message': {'lang': 'en-us', 'value': \"Property 'CarCode' of 'BusinessPartner' is invalid\"}}}\n",
      "{'error': {'code': -1000, 'message': {'lang': 'en-us', 'value': \"Property 'CarCode' of 'BusinessPartner' is invalid\"}}}\n",
      "{'error': {'code': -1000, 'message': {'lang': 'en-us', 'value': \"Property 'CarCode' of 'BusinessPartner' is invalid\"}}}\n",
      "{'error': {'code': -1000, 'message': {'lang': 'en-us', 'value': \"Property 'CarCode' of 'BusinessPartner' is invalid\"}}}\n",
      "{'error': {'code': -1000, 'message': {'lang': 'en-us', 'value': \"Property 'CarCode' of 'BusinessPartner' is invalid\"}}}\n"
     ]
    },
    {
     "name": "stderr",
     "output_type": "stream",
     "text": [
      "/usr/local/lib/python3.8/dist-packages/urllib3/connectionpool.py:1056: InsecureRequestWarning: Unverified HTTPS request is being made to host '192.168.250.10'. Adding certificate verification is strongly advised. See: https://urllib3.readthedocs.io/en/1.26.x/advanced-usage.html#ssl-warnings\n",
      "  warnings.warn(\n",
      "/usr/local/lib/python3.8/dist-packages/urllib3/connectionpool.py:1056: InsecureRequestWarning: Unverified HTTPS request is being made to host '192.168.250.10'. Adding certificate verification is strongly advised. See: https://urllib3.readthedocs.io/en/1.26.x/advanced-usage.html#ssl-warnings\n",
      "  warnings.warn(\n",
      "/usr/local/lib/python3.8/dist-packages/urllib3/connectionpool.py:1056: InsecureRequestWarning: Unverified HTTPS request is being made to host '192.168.250.10'. Adding certificate verification is strongly advised. See: https://urllib3.readthedocs.io/en/1.26.x/advanced-usage.html#ssl-warnings\n",
      "  warnings.warn(\n",
      "/usr/local/lib/python3.8/dist-packages/urllib3/connectionpool.py:1056: InsecureRequestWarning: Unverified HTTPS request is being made to host '192.168.250.10'. Adding certificate verification is strongly advised. See: https://urllib3.readthedocs.io/en/1.26.x/advanced-usage.html#ssl-warnings\n",
      "  warnings.warn(\n",
      "/usr/local/lib/python3.8/dist-packages/urllib3/connectionpool.py:1056: InsecureRequestWarning: Unverified HTTPS request is being made to host '192.168.250.10'. Adding certificate verification is strongly advised. See: https://urllib3.readthedocs.io/en/1.26.x/advanced-usage.html#ssl-warnings\n",
      "  warnings.warn(\n",
      "/usr/local/lib/python3.8/dist-packages/urllib3/connectionpool.py:1056: InsecureRequestWarning: Unverified HTTPS request is being made to host '192.168.250.10'. Adding certificate verification is strongly advised. See: https://urllib3.readthedocs.io/en/1.26.x/advanced-usage.html#ssl-warnings\n",
      "  warnings.warn(\n",
      "/usr/local/lib/python3.8/dist-packages/urllib3/connectionpool.py:1056: InsecureRequestWarning: Unverified HTTPS request is being made to host '192.168.250.10'. Adding certificate verification is strongly advised. See: https://urllib3.readthedocs.io/en/1.26.x/advanced-usage.html#ssl-warnings\n",
      "  warnings.warn(\n"
     ]
    },
    {
     "name": "stdout",
     "output_type": "stream",
     "text": [
      "{'error': {'code': -1000, 'message': {'lang': 'en-us', 'value': \"Property 'CarCode' of 'BusinessPartner' is invalid\"}}}\n",
      "{'error': {'code': -1000, 'message': {'lang': 'en-us', 'value': \"Property 'CarCode' of 'BusinessPartner' is invalid\"}}}\n",
      "{'error': {'code': -1000, 'message': {'lang': 'en-us', 'value': \"Property 'CarCode' of 'BusinessPartner' is invalid\"}}}\n",
      "{'error': {'code': -1000, 'message': {'lang': 'en-us', 'value': \"Property 'CarCode' of 'BusinessPartner' is invalid\"}}}\n",
      "{'error': {'code': -1000, 'message': {'lang': 'en-us', 'value': \"Property 'CarCode' of 'BusinessPartner' is invalid\"}}}\n",
      "{'error': {'code': -1000, 'message': {'lang': 'en-us', 'value': \"Property 'CarCode' of 'BusinessPartner' is invalid\"}}}\n",
      "{'error': {'code': -1000, 'message': {'lang': 'en-us', 'value': \"Property 'CarCode' of 'BusinessPartner' is invalid\"}}}\n"
     ]
    },
    {
     "name": "stderr",
     "output_type": "stream",
     "text": [
      "/usr/local/lib/python3.8/dist-packages/urllib3/connectionpool.py:1056: InsecureRequestWarning: Unverified HTTPS request is being made to host '192.168.250.10'. Adding certificate verification is strongly advised. See: https://urllib3.readthedocs.io/en/1.26.x/advanced-usage.html#ssl-warnings\n",
      "  warnings.warn(\n",
      "/usr/local/lib/python3.8/dist-packages/urllib3/connectionpool.py:1056: InsecureRequestWarning: Unverified HTTPS request is being made to host '192.168.250.10'. Adding certificate verification is strongly advised. See: https://urllib3.readthedocs.io/en/1.26.x/advanced-usage.html#ssl-warnings\n",
      "  warnings.warn(\n",
      "/usr/local/lib/python3.8/dist-packages/urllib3/connectionpool.py:1056: InsecureRequestWarning: Unverified HTTPS request is being made to host '192.168.250.10'. Adding certificate verification is strongly advised. See: https://urllib3.readthedocs.io/en/1.26.x/advanced-usage.html#ssl-warnings\n",
      "  warnings.warn(\n",
      "/usr/local/lib/python3.8/dist-packages/urllib3/connectionpool.py:1056: InsecureRequestWarning: Unverified HTTPS request is being made to host '192.168.250.10'. Adding certificate verification is strongly advised. See: https://urllib3.readthedocs.io/en/1.26.x/advanced-usage.html#ssl-warnings\n",
      "  warnings.warn(\n",
      "/usr/local/lib/python3.8/dist-packages/urllib3/connectionpool.py:1056: InsecureRequestWarning: Unverified HTTPS request is being made to host '192.168.250.10'. Adding certificate verification is strongly advised. See: https://urllib3.readthedocs.io/en/1.26.x/advanced-usage.html#ssl-warnings\n",
      "  warnings.warn(\n",
      "/usr/local/lib/python3.8/dist-packages/urllib3/connectionpool.py:1056: InsecureRequestWarning: Unverified HTTPS request is being made to host '192.168.250.10'. Adding certificate verification is strongly advised. See: https://urllib3.readthedocs.io/en/1.26.x/advanced-usage.html#ssl-warnings\n",
      "  warnings.warn(\n",
      "/usr/local/lib/python3.8/dist-packages/urllib3/connectionpool.py:1056: InsecureRequestWarning: Unverified HTTPS request is being made to host '192.168.250.10'. Adding certificate verification is strongly advised. See: https://urllib3.readthedocs.io/en/1.26.x/advanced-usage.html#ssl-warnings\n",
      "  warnings.warn(\n"
     ]
    },
    {
     "name": "stdout",
     "output_type": "stream",
     "text": [
      "{'error': {'code': -1000, 'message': {'lang': 'en-us', 'value': \"Property 'CarCode' of 'BusinessPartner' is invalid\"}}}\n",
      "{'error': {'code': -1000, 'message': {'lang': 'en-us', 'value': \"Property 'CarCode' of 'BusinessPartner' is invalid\"}}}\n",
      "{'error': {'code': -1000, 'message': {'lang': 'en-us', 'value': \"Property 'CarCode' of 'BusinessPartner' is invalid\"}}}\n",
      "{'error': {'code': -1000, 'message': {'lang': 'en-us', 'value': \"Property 'CarCode' of 'BusinessPartner' is invalid\"}}}\n",
      "{'error': {'code': -1000, 'message': {'lang': 'en-us', 'value': \"Property 'CarCode' of 'BusinessPartner' is invalid\"}}}\n",
      "{'error': {'code': -1000, 'message': {'lang': 'en-us', 'value': \"Property 'CarCode' of 'BusinessPartner' is invalid\"}}}\n",
      "{'error': {'code': -1000, 'message': {'lang': 'en-us', 'value': \"Property 'CarCode' of 'BusinessPartner' is invalid\"}}}\n",
      "{'error': {'code': -1000, 'message': {'lang': 'en-us', 'value': \"Property 'CarCode' of 'BusinessPartner' is invalid\"}}}\n"
     ]
    },
    {
     "name": "stderr",
     "output_type": "stream",
     "text": [
      "/usr/local/lib/python3.8/dist-packages/urllib3/connectionpool.py:1056: InsecureRequestWarning: Unverified HTTPS request is being made to host '192.168.250.10'. Adding certificate verification is strongly advised. See: https://urllib3.readthedocs.io/en/1.26.x/advanced-usage.html#ssl-warnings\n",
      "  warnings.warn(\n",
      "/usr/local/lib/python3.8/dist-packages/urllib3/connectionpool.py:1056: InsecureRequestWarning: Unverified HTTPS request is being made to host '192.168.250.10'. Adding certificate verification is strongly advised. See: https://urllib3.readthedocs.io/en/1.26.x/advanced-usage.html#ssl-warnings\n",
      "  warnings.warn(\n",
      "/usr/local/lib/python3.8/dist-packages/urllib3/connectionpool.py:1056: InsecureRequestWarning: Unverified HTTPS request is being made to host '192.168.250.10'. Adding certificate verification is strongly advised. See: https://urllib3.readthedocs.io/en/1.26.x/advanced-usage.html#ssl-warnings\n",
      "  warnings.warn(\n",
      "/usr/local/lib/python3.8/dist-packages/urllib3/connectionpool.py:1056: InsecureRequestWarning: Unverified HTTPS request is being made to host '192.168.250.10'. Adding certificate verification is strongly advised. See: https://urllib3.readthedocs.io/en/1.26.x/advanced-usage.html#ssl-warnings\n",
      "  warnings.warn(\n",
      "/usr/local/lib/python3.8/dist-packages/urllib3/connectionpool.py:1056: InsecureRequestWarning: Unverified HTTPS request is being made to host '192.168.250.10'. Adding certificate verification is strongly advised. See: https://urllib3.readthedocs.io/en/1.26.x/advanced-usage.html#ssl-warnings\n",
      "  warnings.warn(\n",
      "/usr/local/lib/python3.8/dist-packages/urllib3/connectionpool.py:1056: InsecureRequestWarning: Unverified HTTPS request is being made to host '192.168.250.10'. Adding certificate verification is strongly advised. See: https://urllib3.readthedocs.io/en/1.26.x/advanced-usage.html#ssl-warnings\n",
      "  warnings.warn(\n"
     ]
    },
    {
     "name": "stdout",
     "output_type": "stream",
     "text": [
      "{'error': {'code': -1000, 'message': {'lang': 'en-us', 'value': \"Property 'CarCode' of 'BusinessPartner' is invalid\"}}}\n",
      "{'error': {'code': -1000, 'message': {'lang': 'en-us', 'value': \"Property 'CarCode' of 'BusinessPartner' is invalid\"}}}\n",
      "{'error': {'code': -1000, 'message': {'lang': 'en-us', 'value': \"Property 'CarCode' of 'BusinessPartner' is invalid\"}}}\n",
      "{'error': {'code': -1000, 'message': {'lang': 'en-us', 'value': \"Property 'CarCode' of 'BusinessPartner' is invalid\"}}}\n",
      "{'error': {'code': -1000, 'message': {'lang': 'en-us', 'value': \"Property 'CarCode' of 'BusinessPartner' is invalid\"}}}\n"
     ]
    },
    {
     "name": "stderr",
     "output_type": "stream",
     "text": [
      "/usr/local/lib/python3.8/dist-packages/urllib3/connectionpool.py:1056: InsecureRequestWarning: Unverified HTTPS request is being made to host '192.168.250.10'. Adding certificate verification is strongly advised. See: https://urllib3.readthedocs.io/en/1.26.x/advanced-usage.html#ssl-warnings\n",
      "  warnings.warn(\n",
      "/usr/local/lib/python3.8/dist-packages/urllib3/connectionpool.py:1056: InsecureRequestWarning: Unverified HTTPS request is being made to host '192.168.250.10'. Adding certificate verification is strongly advised. See: https://urllib3.readthedocs.io/en/1.26.x/advanced-usage.html#ssl-warnings\n",
      "  warnings.warn(\n",
      "/usr/local/lib/python3.8/dist-packages/urllib3/connectionpool.py:1056: InsecureRequestWarning: Unverified HTTPS request is being made to host '192.168.250.10'. Adding certificate verification is strongly advised. See: https://urllib3.readthedocs.io/en/1.26.x/advanced-usage.html#ssl-warnings\n",
      "  warnings.warn(\n",
      "/usr/local/lib/python3.8/dist-packages/urllib3/connectionpool.py:1056: InsecureRequestWarning: Unverified HTTPS request is being made to host '192.168.250.10'. Adding certificate verification is strongly advised. See: https://urllib3.readthedocs.io/en/1.26.x/advanced-usage.html#ssl-warnings\n",
      "  warnings.warn(\n",
      "/usr/local/lib/python3.8/dist-packages/urllib3/connectionpool.py:1056: InsecureRequestWarning: Unverified HTTPS request is being made to host '192.168.250.10'. Adding certificate verification is strongly advised. See: https://urllib3.readthedocs.io/en/1.26.x/advanced-usage.html#ssl-warnings\n",
      "  warnings.warn(\n"
     ]
    },
    {
     "name": "stdout",
     "output_type": "stream",
     "text": [
      "{'error': {'code': -1000, 'message': {'lang': 'en-us', 'value': \"Property 'CarCode' of 'BusinessPartner' is invalid\"}}}\n",
      "{'error': {'code': -1000, 'message': {'lang': 'en-us', 'value': \"Property 'CarCode' of 'BusinessPartner' is invalid\"}}}\n",
      "{'error': {'code': -1000, 'message': {'lang': 'en-us', 'value': \"Property 'CarCode' of 'BusinessPartner' is invalid\"}}}\n",
      "{'error': {'code': -1000, 'message': {'lang': 'en-us', 'value': \"Property 'CarCode' of 'BusinessPartner' is invalid\"}}}\n",
      "{'error': {'code': -1000, 'message': {'lang': 'en-us', 'value': \"Property 'CarCode' of 'BusinessPartner' is invalid\"}}}\n",
      "{'error': {'code': -1000, 'message': {'lang': 'en-us', 'value': \"Property 'CarCode' of 'BusinessPartner' is invalid\"}}}\n"
     ]
    },
    {
     "name": "stderr",
     "output_type": "stream",
     "text": [
      "/usr/local/lib/python3.8/dist-packages/urllib3/connectionpool.py:1056: InsecureRequestWarning: Unverified HTTPS request is being made to host '192.168.250.10'. Adding certificate verification is strongly advised. See: https://urllib3.readthedocs.io/en/1.26.x/advanced-usage.html#ssl-warnings\n",
      "  warnings.warn(\n",
      "/usr/local/lib/python3.8/dist-packages/urllib3/connectionpool.py:1056: InsecureRequestWarning: Unverified HTTPS request is being made to host '192.168.250.10'. Adding certificate verification is strongly advised. See: https://urllib3.readthedocs.io/en/1.26.x/advanced-usage.html#ssl-warnings\n",
      "  warnings.warn(\n",
      "/usr/local/lib/python3.8/dist-packages/urllib3/connectionpool.py:1056: InsecureRequestWarning: Unverified HTTPS request is being made to host '192.168.250.10'. Adding certificate verification is strongly advised. See: https://urllib3.readthedocs.io/en/1.26.x/advanced-usage.html#ssl-warnings\n",
      "  warnings.warn(\n",
      "/usr/local/lib/python3.8/dist-packages/urllib3/connectionpool.py:1056: InsecureRequestWarning: Unverified HTTPS request is being made to host '192.168.250.10'. Adding certificate verification is strongly advised. See: https://urllib3.readthedocs.io/en/1.26.x/advanced-usage.html#ssl-warnings\n",
      "  warnings.warn(\n",
      "/usr/local/lib/python3.8/dist-packages/urllib3/connectionpool.py:1056: InsecureRequestWarning: Unverified HTTPS request is being made to host '192.168.250.10'. Adding certificate verification is strongly advised. See: https://urllib3.readthedocs.io/en/1.26.x/advanced-usage.html#ssl-warnings\n",
      "  warnings.warn(\n",
      "/usr/local/lib/python3.8/dist-packages/urllib3/connectionpool.py:1056: InsecureRequestWarning: Unverified HTTPS request is being made to host '192.168.250.10'. Adding certificate verification is strongly advised. See: https://urllib3.readthedocs.io/en/1.26.x/advanced-usage.html#ssl-warnings\n",
      "  warnings.warn(\n",
      "/usr/local/lib/python3.8/dist-packages/urllib3/connectionpool.py:1056: InsecureRequestWarning: Unverified HTTPS request is being made to host '192.168.250.10'. Adding certificate verification is strongly advised. See: https://urllib3.readthedocs.io/en/1.26.x/advanced-usage.html#ssl-warnings\n",
      "  warnings.warn(\n"
     ]
    },
    {
     "name": "stdout",
     "output_type": "stream",
     "text": [
      "{'error': {'code': -1000, 'message': {'lang': 'en-us', 'value': \"Property 'CarCode' of 'BusinessPartner' is invalid\"}}}\n",
      "{'error': {'code': -1000, 'message': {'lang': 'en-us', 'value': \"Property 'CarCode' of 'BusinessPartner' is invalid\"}}}\n",
      "{'error': {'code': -1000, 'message': {'lang': 'en-us', 'value': \"Property 'CarCode' of 'BusinessPartner' is invalid\"}}}\n",
      "{'error': {'code': -1000, 'message': {'lang': 'en-us', 'value': \"Property 'CarCode' of 'BusinessPartner' is invalid\"}}}\n",
      "{'error': {'code': -1000, 'message': {'lang': 'en-us', 'value': \"Property 'CarCode' of 'BusinessPartner' is invalid\"}}}\n",
      "{'error': {'code': -1000, 'message': {'lang': 'en-us', 'value': \"Property 'CarCode' of 'BusinessPartner' is invalid\"}}}\n",
      "{'error': {'code': -1000, 'message': {'lang': 'en-us', 'value': \"Property 'CarCode' of 'BusinessPartner' is invalid\"}}}\n",
      "{'error': {'code': -1000, 'message': {'lang': 'en-us', 'value': \"Property 'CarCode' of 'BusinessPartner' is invalid\"}}}\n"
     ]
    },
    {
     "name": "stderr",
     "output_type": "stream",
     "text": [
      "/usr/local/lib/python3.8/dist-packages/urllib3/connectionpool.py:1056: InsecureRequestWarning: Unverified HTTPS request is being made to host '192.168.250.10'. Adding certificate verification is strongly advised. See: https://urllib3.readthedocs.io/en/1.26.x/advanced-usage.html#ssl-warnings\n",
      "  warnings.warn(\n",
      "/usr/local/lib/python3.8/dist-packages/urllib3/connectionpool.py:1056: InsecureRequestWarning: Unverified HTTPS request is being made to host '192.168.250.10'. Adding certificate verification is strongly advised. See: https://urllib3.readthedocs.io/en/1.26.x/advanced-usage.html#ssl-warnings\n",
      "  warnings.warn(\n",
      "/usr/local/lib/python3.8/dist-packages/urllib3/connectionpool.py:1056: InsecureRequestWarning: Unverified HTTPS request is being made to host '192.168.250.10'. Adding certificate verification is strongly advised. See: https://urllib3.readthedocs.io/en/1.26.x/advanced-usage.html#ssl-warnings\n",
      "  warnings.warn(\n",
      "/usr/local/lib/python3.8/dist-packages/urllib3/connectionpool.py:1056: InsecureRequestWarning: Unverified HTTPS request is being made to host '192.168.250.10'. Adding certificate verification is strongly advised. See: https://urllib3.readthedocs.io/en/1.26.x/advanced-usage.html#ssl-warnings\n",
      "  warnings.warn(\n",
      "/usr/local/lib/python3.8/dist-packages/urllib3/connectionpool.py:1056: InsecureRequestWarning: Unverified HTTPS request is being made to host '192.168.250.10'. Adding certificate verification is strongly advised. See: https://urllib3.readthedocs.io/en/1.26.x/advanced-usage.html#ssl-warnings\n",
      "  warnings.warn(\n",
      "/usr/local/lib/python3.8/dist-packages/urllib3/connectionpool.py:1056: InsecureRequestWarning: Unverified HTTPS request is being made to host '192.168.250.10'. Adding certificate verification is strongly advised. See: https://urllib3.readthedocs.io/en/1.26.x/advanced-usage.html#ssl-warnings\n",
      "  warnings.warn(\n",
      "/usr/local/lib/python3.8/dist-packages/urllib3/connectionpool.py:1056: InsecureRequestWarning: Unverified HTTPS request is being made to host '192.168.250.10'. Adding certificate verification is strongly advised. See: https://urllib3.readthedocs.io/en/1.26.x/advanced-usage.html#ssl-warnings\n",
      "  warnings.warn(\n",
      "/usr/local/lib/python3.8/dist-packages/urllib3/connectionpool.py:1056: InsecureRequestWarning: Unverified HTTPS request is being made to host '192.168.250.10'. Adding certificate verification is strongly advised. See: https://urllib3.readthedocs.io/en/1.26.x/advanced-usage.html#ssl-warnings\n",
      "  warnings.warn(\n",
      "/usr/local/lib/python3.8/dist-packages/urllib3/connectionpool.py:1056: InsecureRequestWarning: Unverified HTTPS request is being made to host '192.168.250.10'. Adding certificate verification is strongly advised. See: https://urllib3.readthedocs.io/en/1.26.x/advanced-usage.html#ssl-warnings\n",
      "  warnings.warn(\n",
      "/usr/local/lib/python3.8/dist-packages/urllib3/connectionpool.py:1056: InsecureRequestWarning: Unverified HTTPS request is being made to host '192.168.250.10'. Adding certificate verification is strongly advised. See: https://urllib3.readthedocs.io/en/1.26.x/advanced-usage.html#ssl-warnings\n",
      "  warnings.warn(\n"
     ]
    },
    {
     "name": "stdout",
     "output_type": "stream",
     "text": [
      "{'error': {'code': -1000, 'message': {'lang': 'en-us', 'value': \"Property 'CarCode' of 'BusinessPartner' is invalid\"}}}\n",
      "{'error': {'code': -1000, 'message': {'lang': 'en-us', 'value': \"Property 'CarCode' of 'BusinessPartner' is invalid\"}}}\n",
      "{'error': {'code': -1000, 'message': {'lang': 'en-us', 'value': \"Property 'CarCode' of 'BusinessPartner' is invalid\"}}}\n",
      "{'error': {'code': -1000, 'message': {'lang': 'en-us', 'value': \"Property 'CarCode' of 'BusinessPartner' is invalid\"}}}\n",
      "{'error': {'code': -1000, 'message': {'lang': 'en-us', 'value': \"Property 'CarCode' of 'BusinessPartner' is invalid\"}}}\n",
      "{'error': {'code': -1000, 'message': {'lang': 'en-us', 'value': \"Property 'CarCode' of 'BusinessPartner' is invalid\"}}}\n",
      "{'error': {'code': -1000, 'message': {'lang': 'en-us', 'value': \"Property 'CarCode' of 'BusinessPartner' is invalid\"}}}\n",
      "{'error': {'code': -1000, 'message': {'lang': 'en-us', 'value': \"Property 'CarCode' of 'BusinessPartner' is invalid\"}}}\n"
     ]
    },
    {
     "name": "stderr",
     "output_type": "stream",
     "text": [
      "/usr/local/lib/python3.8/dist-packages/urllib3/connectionpool.py:1056: InsecureRequestWarning: Unverified HTTPS request is being made to host '192.168.250.10'. Adding certificate verification is strongly advised. See: https://urllib3.readthedocs.io/en/1.26.x/advanced-usage.html#ssl-warnings\n",
      "  warnings.warn(\n",
      "/usr/local/lib/python3.8/dist-packages/urllib3/connectionpool.py:1056: InsecureRequestWarning: Unverified HTTPS request is being made to host '192.168.250.10'. Adding certificate verification is strongly advised. See: https://urllib3.readthedocs.io/en/1.26.x/advanced-usage.html#ssl-warnings\n",
      "  warnings.warn(\n",
      "/usr/local/lib/python3.8/dist-packages/urllib3/connectionpool.py:1056: InsecureRequestWarning: Unverified HTTPS request is being made to host '192.168.250.10'. Adding certificate verification is strongly advised. See: https://urllib3.readthedocs.io/en/1.26.x/advanced-usage.html#ssl-warnings\n",
      "  warnings.warn(\n",
      "/usr/local/lib/python3.8/dist-packages/urllib3/connectionpool.py:1056: InsecureRequestWarning: Unverified HTTPS request is being made to host '192.168.250.10'. Adding certificate verification is strongly advised. See: https://urllib3.readthedocs.io/en/1.26.x/advanced-usage.html#ssl-warnings\n",
      "  warnings.warn(\n"
     ]
    },
    {
     "name": "stdout",
     "output_type": "stream",
     "text": [
      "{'error': {'code': -1000, 'message': {'lang': 'en-us', 'value': \"Property 'CarCode' of 'BusinessPartner' is invalid\"}}}\n",
      "{'error': {'code': -1000, 'message': {'lang': 'en-us', 'value': \"Property 'CarCode' of 'BusinessPartner' is invalid\"}}}\n",
      "{'error': {'code': -1000, 'message': {'lang': 'en-us', 'value': \"Property 'CarCode' of 'BusinessPartner' is invalid\"}}}\n"
     ]
    },
    {
     "name": "stderr",
     "output_type": "stream",
     "text": [
      "/usr/local/lib/python3.8/dist-packages/urllib3/connectionpool.py:1056: InsecureRequestWarning: Unverified HTTPS request is being made to host '192.168.250.10'. Adding certificate verification is strongly advised. See: https://urllib3.readthedocs.io/en/1.26.x/advanced-usage.html#ssl-warnings\n",
      "  warnings.warn(\n",
      "/usr/local/lib/python3.8/dist-packages/urllib3/connectionpool.py:1056: InsecureRequestWarning: Unverified HTTPS request is being made to host '192.168.250.10'. Adding certificate verification is strongly advised. See: https://urllib3.readthedocs.io/en/1.26.x/advanced-usage.html#ssl-warnings\n",
      "  warnings.warn(\n",
      "/usr/local/lib/python3.8/dist-packages/urllib3/connectionpool.py:1056: InsecureRequestWarning: Unverified HTTPS request is being made to host '192.168.250.10'. Adding certificate verification is strongly advised. See: https://urllib3.readthedocs.io/en/1.26.x/advanced-usage.html#ssl-warnings\n",
      "  warnings.warn(\n",
      "/usr/local/lib/python3.8/dist-packages/urllib3/connectionpool.py:1056: InsecureRequestWarning: Unverified HTTPS request is being made to host '192.168.250.10'. Adding certificate verification is strongly advised. See: https://urllib3.readthedocs.io/en/1.26.x/advanced-usage.html#ssl-warnings\n",
      "  warnings.warn(\n",
      "/usr/local/lib/python3.8/dist-packages/urllib3/connectionpool.py:1056: InsecureRequestWarning: Unverified HTTPS request is being made to host '192.168.250.10'. Adding certificate verification is strongly advised. See: https://urllib3.readthedocs.io/en/1.26.x/advanced-usage.html#ssl-warnings\n",
      "  warnings.warn(\n",
      "/usr/local/lib/python3.8/dist-packages/urllib3/connectionpool.py:1056: InsecureRequestWarning: Unverified HTTPS request is being made to host '192.168.250.10'. Adding certificate verification is strongly advised. See: https://urllib3.readthedocs.io/en/1.26.x/advanced-usage.html#ssl-warnings\n",
      "  warnings.warn(\n",
      "/usr/local/lib/python3.8/dist-packages/urllib3/connectionpool.py:1056: InsecureRequestWarning: Unverified HTTPS request is being made to host '192.168.250.10'. Adding certificate verification is strongly advised. See: https://urllib3.readthedocs.io/en/1.26.x/advanced-usage.html#ssl-warnings\n",
      "  warnings.warn(\n"
     ]
    },
    {
     "name": "stdout",
     "output_type": "stream",
     "text": [
      "{'error': {'code': -1000, 'message': {'lang': 'en-us', 'value': \"Property 'CarCode' of 'BusinessPartner' is invalid\"}}}\n",
      "{'error': {'code': -1000, 'message': {'lang': 'en-us', 'value': \"Property 'CarCode' of 'BusinessPartner' is invalid\"}}}\n",
      "{'error': {'code': -1000, 'message': {'lang': 'en-us', 'value': \"Property 'CarCode' of 'BusinessPartner' is invalid\"}}}\n",
      "{'error': {'code': -1000, 'message': {'lang': 'en-us', 'value': \"Property 'CarCode' of 'BusinessPartner' is invalid\"}}}\n",
      "{'error': {'code': -1000, 'message': {'lang': 'en-us', 'value': \"Property 'CarCode' of 'BusinessPartner' is invalid\"}}}\n",
      "{'error': {'code': -1000, 'message': {'lang': 'en-us', 'value': \"Property 'CarCode' of 'BusinessPartner' is invalid\"}}}\n",
      "{'error': {'code': -1000, 'message': {'lang': 'en-us', 'value': \"Property 'CarCode' of 'BusinessPartner' is invalid\"}}}\n"
     ]
    },
    {
     "name": "stderr",
     "output_type": "stream",
     "text": [
      "/usr/local/lib/python3.8/dist-packages/urllib3/connectionpool.py:1056: InsecureRequestWarning: Unverified HTTPS request is being made to host '192.168.250.10'. Adding certificate verification is strongly advised. See: https://urllib3.readthedocs.io/en/1.26.x/advanced-usage.html#ssl-warnings\n",
      "  warnings.warn(\n",
      "/usr/local/lib/python3.8/dist-packages/urllib3/connectionpool.py:1056: InsecureRequestWarning: Unverified HTTPS request is being made to host '192.168.250.10'. Adding certificate verification is strongly advised. See: https://urllib3.readthedocs.io/en/1.26.x/advanced-usage.html#ssl-warnings\n",
      "  warnings.warn(\n",
      "/usr/local/lib/python3.8/dist-packages/urllib3/connectionpool.py:1056: InsecureRequestWarning: Unverified HTTPS request is being made to host '192.168.250.10'. Adding certificate verification is strongly advised. See: https://urllib3.readthedocs.io/en/1.26.x/advanced-usage.html#ssl-warnings\n",
      "  warnings.warn(\n",
      "/usr/local/lib/python3.8/dist-packages/urllib3/connectionpool.py:1056: InsecureRequestWarning: Unverified HTTPS request is being made to host '192.168.250.10'. Adding certificate verification is strongly advised. See: https://urllib3.readthedocs.io/en/1.26.x/advanced-usage.html#ssl-warnings\n",
      "  warnings.warn(\n",
      "/usr/local/lib/python3.8/dist-packages/urllib3/connectionpool.py:1056: InsecureRequestWarning: Unverified HTTPS request is being made to host '192.168.250.10'. Adding certificate verification is strongly advised. See: https://urllib3.readthedocs.io/en/1.26.x/advanced-usage.html#ssl-warnings\n",
      "  warnings.warn(\n",
      "/usr/local/lib/python3.8/dist-packages/urllib3/connectionpool.py:1056: InsecureRequestWarning: Unverified HTTPS request is being made to host '192.168.250.10'. Adding certificate verification is strongly advised. See: https://urllib3.readthedocs.io/en/1.26.x/advanced-usage.html#ssl-warnings\n",
      "  warnings.warn(\n"
     ]
    },
    {
     "name": "stdout",
     "output_type": "stream",
     "text": [
      "{'error': {'code': -1000, 'message': {'lang': 'en-us', 'value': \"Property 'CarCode' of 'BusinessPartner' is invalid\"}}}\n",
      "{'error': {'code': -1000, 'message': {'lang': 'en-us', 'value': \"Property 'CarCode' of 'BusinessPartner' is invalid\"}}}\n",
      "{'error': {'code': -1000, 'message': {'lang': 'en-us', 'value': \"Property 'CarCode' of 'BusinessPartner' is invalid\"}}}\n",
      "{'error': {'code': -1000, 'message': {'lang': 'en-us', 'value': \"Property 'CarCode' of 'BusinessPartner' is invalid\"}}}\n",
      "{'error': {'code': -1000, 'message': {'lang': 'en-us', 'value': \"Property 'CarCode' of 'BusinessPartner' is invalid\"}}}\n",
      "{'error': {'code': -1000, 'message': {'lang': 'en-us', 'value': \"Property 'CarCode' of 'BusinessPartner' is invalid\"}}}\n"
     ]
    },
    {
     "name": "stderr",
     "output_type": "stream",
     "text": [
      "/usr/local/lib/python3.8/dist-packages/urllib3/connectionpool.py:1056: InsecureRequestWarning: Unverified HTTPS request is being made to host '192.168.250.10'. Adding certificate verification is strongly advised. See: https://urllib3.readthedocs.io/en/1.26.x/advanced-usage.html#ssl-warnings\n",
      "  warnings.warn(\n",
      "/usr/local/lib/python3.8/dist-packages/urllib3/connectionpool.py:1056: InsecureRequestWarning: Unverified HTTPS request is being made to host '192.168.250.10'. Adding certificate verification is strongly advised. See: https://urllib3.readthedocs.io/en/1.26.x/advanced-usage.html#ssl-warnings\n",
      "  warnings.warn(\n",
      "/usr/local/lib/python3.8/dist-packages/urllib3/connectionpool.py:1056: InsecureRequestWarning: Unverified HTTPS request is being made to host '192.168.250.10'. Adding certificate verification is strongly advised. See: https://urllib3.readthedocs.io/en/1.26.x/advanced-usage.html#ssl-warnings\n",
      "  warnings.warn(\n",
      "/usr/local/lib/python3.8/dist-packages/urllib3/connectionpool.py:1056: InsecureRequestWarning: Unverified HTTPS request is being made to host '192.168.250.10'. Adding certificate verification is strongly advised. See: https://urllib3.readthedocs.io/en/1.26.x/advanced-usage.html#ssl-warnings\n",
      "  warnings.warn(\n",
      "/usr/local/lib/python3.8/dist-packages/urllib3/connectionpool.py:1056: InsecureRequestWarning: Unverified HTTPS request is being made to host '192.168.250.10'. Adding certificate verification is strongly advised. See: https://urllib3.readthedocs.io/en/1.26.x/advanced-usage.html#ssl-warnings\n",
      "  warnings.warn(\n",
      "/usr/local/lib/python3.8/dist-packages/urllib3/connectionpool.py:1056: InsecureRequestWarning: Unverified HTTPS request is being made to host '192.168.250.10'. Adding certificate verification is strongly advised. See: https://urllib3.readthedocs.io/en/1.26.x/advanced-usage.html#ssl-warnings\n",
      "  warnings.warn(\n",
      "/usr/local/lib/python3.8/dist-packages/urllib3/connectionpool.py:1056: InsecureRequestWarning: Unverified HTTPS request is being made to host '192.168.250.10'. Adding certificate verification is strongly advised. See: https://urllib3.readthedocs.io/en/1.26.x/advanced-usage.html#ssl-warnings\n",
      "  warnings.warn(\n"
     ]
    },
    {
     "name": "stdout",
     "output_type": "stream",
     "text": [
      "{'error': {'code': -1000, 'message': {'lang': 'en-us', 'value': \"Property 'CarCode' of 'BusinessPartner' is invalid\"}}}\n",
      "{'error': {'code': -1000, 'message': {'lang': 'en-us', 'value': \"Property 'CarCode' of 'BusinessPartner' is invalid\"}}}\n",
      "{'error': {'code': -1000, 'message': {'lang': 'en-us', 'value': \"Property 'CarCode' of 'BusinessPartner' is invalid\"}}}\n",
      "{'error': {'code': -1000, 'message': {'lang': 'en-us', 'value': \"Property 'CarCode' of 'BusinessPartner' is invalid\"}}}\n",
      "{'error': {'code': -1000, 'message': {'lang': 'en-us', 'value': \"Property 'CarCode' of 'BusinessPartner' is invalid\"}}}\n",
      "{'error': {'code': -1000, 'message': {'lang': 'en-us', 'value': \"Property 'CarCode' of 'BusinessPartner' is invalid\"}}}\n",
      "{'error': {'code': -1000, 'message': {'lang': 'en-us', 'value': \"Property 'CarCode' of 'BusinessPartner' is invalid\"}}}\n"
     ]
    },
    {
     "name": "stderr",
     "output_type": "stream",
     "text": [
      "/usr/local/lib/python3.8/dist-packages/urllib3/connectionpool.py:1056: InsecureRequestWarning: Unverified HTTPS request is being made to host '192.168.250.10'. Adding certificate verification is strongly advised. See: https://urllib3.readthedocs.io/en/1.26.x/advanced-usage.html#ssl-warnings\n",
      "  warnings.warn(\n",
      "/usr/local/lib/python3.8/dist-packages/urllib3/connectionpool.py:1056: InsecureRequestWarning: Unverified HTTPS request is being made to host '192.168.250.10'. Adding certificate verification is strongly advised. See: https://urllib3.readthedocs.io/en/1.26.x/advanced-usage.html#ssl-warnings\n",
      "  warnings.warn(\n",
      "/usr/local/lib/python3.8/dist-packages/urllib3/connectionpool.py:1056: InsecureRequestWarning: Unverified HTTPS request is being made to host '192.168.250.10'. Adding certificate verification is strongly advised. See: https://urllib3.readthedocs.io/en/1.26.x/advanced-usage.html#ssl-warnings\n",
      "  warnings.warn(\n",
      "/usr/local/lib/python3.8/dist-packages/urllib3/connectionpool.py:1056: InsecureRequestWarning: Unverified HTTPS request is being made to host '192.168.250.10'. Adding certificate verification is strongly advised. See: https://urllib3.readthedocs.io/en/1.26.x/advanced-usage.html#ssl-warnings\n",
      "  warnings.warn(\n",
      "/usr/local/lib/python3.8/dist-packages/urllib3/connectionpool.py:1056: InsecureRequestWarning: Unverified HTTPS request is being made to host '192.168.250.10'. Adding certificate verification is strongly advised. See: https://urllib3.readthedocs.io/en/1.26.x/advanced-usage.html#ssl-warnings\n",
      "  warnings.warn(\n",
      "/usr/local/lib/python3.8/dist-packages/urllib3/connectionpool.py:1056: InsecureRequestWarning: Unverified HTTPS request is being made to host '192.168.250.10'. Adding certificate verification is strongly advised. See: https://urllib3.readthedocs.io/en/1.26.x/advanced-usage.html#ssl-warnings\n",
      "  warnings.warn(\n"
     ]
    },
    {
     "name": "stdout",
     "output_type": "stream",
     "text": [
      "{'error': {'code': -1000, 'message': {'lang': 'en-us', 'value': \"Property 'CarCode' of 'BusinessPartner' is invalid\"}}}\n",
      "{'error': {'code': -1000, 'message': {'lang': 'en-us', 'value': \"Property 'CarCode' of 'BusinessPartner' is invalid\"}}}\n",
      "{'error': {'code': -1000, 'message': {'lang': 'en-us', 'value': \"Property 'CarCode' of 'BusinessPartner' is invalid\"}}}\n",
      "{'error': {'code': -1000, 'message': {'lang': 'en-us', 'value': \"Property 'CarCode' of 'BusinessPartner' is invalid\"}}}\n",
      "{'error': {'code': -1000, 'message': {'lang': 'en-us', 'value': \"Property 'CarCode' of 'BusinessPartner' is invalid\"}}}\n",
      "{'error': {'code': -1000, 'message': {'lang': 'en-us', 'value': \"Property 'CarCode' of 'BusinessPartner' is invalid\"}}}\n"
     ]
    },
    {
     "name": "stderr",
     "output_type": "stream",
     "text": [
      "/usr/local/lib/python3.8/dist-packages/urllib3/connectionpool.py:1056: InsecureRequestWarning: Unverified HTTPS request is being made to host '192.168.250.10'. Adding certificate verification is strongly advised. See: https://urllib3.readthedocs.io/en/1.26.x/advanced-usage.html#ssl-warnings\n",
      "  warnings.warn(\n",
      "/usr/local/lib/python3.8/dist-packages/urllib3/connectionpool.py:1056: InsecureRequestWarning: Unverified HTTPS request is being made to host '192.168.250.10'. Adding certificate verification is strongly advised. See: https://urllib3.readthedocs.io/en/1.26.x/advanced-usage.html#ssl-warnings\n",
      "  warnings.warn(\n",
      "/usr/local/lib/python3.8/dist-packages/urllib3/connectionpool.py:1056: InsecureRequestWarning: Unverified HTTPS request is being made to host '192.168.250.10'. Adding certificate verification is strongly advised. See: https://urllib3.readthedocs.io/en/1.26.x/advanced-usage.html#ssl-warnings\n",
      "  warnings.warn(\n",
      "/usr/local/lib/python3.8/dist-packages/urllib3/connectionpool.py:1056: InsecureRequestWarning: Unverified HTTPS request is being made to host '192.168.250.10'. Adding certificate verification is strongly advised. See: https://urllib3.readthedocs.io/en/1.26.x/advanced-usage.html#ssl-warnings\n",
      "  warnings.warn(\n",
      "/usr/local/lib/python3.8/dist-packages/urllib3/connectionpool.py:1056: InsecureRequestWarning: Unverified HTTPS request is being made to host '192.168.250.10'. Adding certificate verification is strongly advised. See: https://urllib3.readthedocs.io/en/1.26.x/advanced-usage.html#ssl-warnings\n",
      "  warnings.warn(\n",
      "/usr/local/lib/python3.8/dist-packages/urllib3/connectionpool.py:1056: InsecureRequestWarning: Unverified HTTPS request is being made to host '192.168.250.10'. Adding certificate verification is strongly advised. See: https://urllib3.readthedocs.io/en/1.26.x/advanced-usage.html#ssl-warnings\n",
      "  warnings.warn(\n",
      "/usr/local/lib/python3.8/dist-packages/urllib3/connectionpool.py:1056: InsecureRequestWarning: Unverified HTTPS request is being made to host '192.168.250.10'. Adding certificate verification is strongly advised. See: https://urllib3.readthedocs.io/en/1.26.x/advanced-usage.html#ssl-warnings\n",
      "  warnings.warn(\n"
     ]
    },
    {
     "name": "stdout",
     "output_type": "stream",
     "text": [
      "{'error': {'code': -1000, 'message': {'lang': 'en-us', 'value': \"Property 'CarCode' of 'BusinessPartner' is invalid\"}}}\n",
      "{'error': {'code': -1000, 'message': {'lang': 'en-us', 'value': \"Property 'CarCode' of 'BusinessPartner' is invalid\"}}}\n",
      "{'error': {'code': -1000, 'message': {'lang': 'en-us', 'value': \"Property 'CarCode' of 'BusinessPartner' is invalid\"}}}\n",
      "{'error': {'code': -1000, 'message': {'lang': 'en-us', 'value': \"Property 'CarCode' of 'BusinessPartner' is invalid\"}}}\n",
      "{'error': {'code': -1000, 'message': {'lang': 'en-us', 'value': \"Property 'CarCode' of 'BusinessPartner' is invalid\"}}}\n",
      "{'error': {'code': -1000, 'message': {'lang': 'en-us', 'value': \"Property 'CarCode' of 'BusinessPartner' is invalid\"}}}\n",
      "{'error': {'code': -1000, 'message': {'lang': 'en-us', 'value': \"Property 'CarCode' of 'BusinessPartner' is invalid\"}}}\n"
     ]
    },
    {
     "name": "stderr",
     "output_type": "stream",
     "text": [
      "/usr/local/lib/python3.8/dist-packages/urllib3/connectionpool.py:1056: InsecureRequestWarning: Unverified HTTPS request is being made to host '192.168.250.10'. Adding certificate verification is strongly advised. See: https://urllib3.readthedocs.io/en/1.26.x/advanced-usage.html#ssl-warnings\n",
      "  warnings.warn(\n",
      "/usr/local/lib/python3.8/dist-packages/urllib3/connectionpool.py:1056: InsecureRequestWarning: Unverified HTTPS request is being made to host '192.168.250.10'. Adding certificate verification is strongly advised. See: https://urllib3.readthedocs.io/en/1.26.x/advanced-usage.html#ssl-warnings\n",
      "  warnings.warn(\n",
      "/usr/local/lib/python3.8/dist-packages/urllib3/connectionpool.py:1056: InsecureRequestWarning: Unverified HTTPS request is being made to host '192.168.250.10'. Adding certificate verification is strongly advised. See: https://urllib3.readthedocs.io/en/1.26.x/advanced-usage.html#ssl-warnings\n",
      "  warnings.warn(\n",
      "/usr/local/lib/python3.8/dist-packages/urllib3/connectionpool.py:1056: InsecureRequestWarning: Unverified HTTPS request is being made to host '192.168.250.10'. Adding certificate verification is strongly advised. See: https://urllib3.readthedocs.io/en/1.26.x/advanced-usage.html#ssl-warnings\n",
      "  warnings.warn(\n",
      "/usr/local/lib/python3.8/dist-packages/urllib3/connectionpool.py:1056: InsecureRequestWarning: Unverified HTTPS request is being made to host '192.168.250.10'. Adding certificate verification is strongly advised. See: https://urllib3.readthedocs.io/en/1.26.x/advanced-usage.html#ssl-warnings\n",
      "  warnings.warn(\n"
     ]
    },
    {
     "name": "stdout",
     "output_type": "stream",
     "text": [
      "{'error': {'code': -1000, 'message': {'lang': 'en-us', 'value': \"Property 'CarCode' of 'BusinessPartner' is invalid\"}}}\n",
      "{'error': {'code': -1000, 'message': {'lang': 'en-us', 'value': \"Property 'CarCode' of 'BusinessPartner' is invalid\"}}}\n",
      "{'error': {'code': -1000, 'message': {'lang': 'en-us', 'value': \"Property 'CarCode' of 'BusinessPartner' is invalid\"}}}\n",
      "{'error': {'code': -1000, 'message': {'lang': 'en-us', 'value': \"Property 'CarCode' of 'BusinessPartner' is invalid\"}}}\n",
      "{'error': {'code': -1000, 'message': {'lang': 'en-us', 'value': \"Property 'CarCode' of 'BusinessPartner' is invalid\"}}}\n",
      "{'error': {'code': -1000, 'message': {'lang': 'en-us', 'value': \"Property 'CarCode' of 'BusinessPartner' is invalid\"}}}\n"
     ]
    },
    {
     "name": "stderr",
     "output_type": "stream",
     "text": [
      "/usr/local/lib/python3.8/dist-packages/urllib3/connectionpool.py:1056: InsecureRequestWarning: Unverified HTTPS request is being made to host '192.168.250.10'. Adding certificate verification is strongly advised. See: https://urllib3.readthedocs.io/en/1.26.x/advanced-usage.html#ssl-warnings\n",
      "  warnings.warn(\n",
      "/usr/local/lib/python3.8/dist-packages/urllib3/connectionpool.py:1056: InsecureRequestWarning: Unverified HTTPS request is being made to host '192.168.250.10'. Adding certificate verification is strongly advised. See: https://urllib3.readthedocs.io/en/1.26.x/advanced-usage.html#ssl-warnings\n",
      "  warnings.warn(\n",
      "/usr/local/lib/python3.8/dist-packages/urllib3/connectionpool.py:1056: InsecureRequestWarning: Unverified HTTPS request is being made to host '192.168.250.10'. Adding certificate verification is strongly advised. See: https://urllib3.readthedocs.io/en/1.26.x/advanced-usage.html#ssl-warnings\n",
      "  warnings.warn(\n",
      "/usr/local/lib/python3.8/dist-packages/urllib3/connectionpool.py:1056: InsecureRequestWarning: Unverified HTTPS request is being made to host '192.168.250.10'. Adding certificate verification is strongly advised. See: https://urllib3.readthedocs.io/en/1.26.x/advanced-usage.html#ssl-warnings\n",
      "  warnings.warn(\n",
      "/usr/local/lib/python3.8/dist-packages/urllib3/connectionpool.py:1056: InsecureRequestWarning: Unverified HTTPS request is being made to host '192.168.250.10'. Adding certificate verification is strongly advised. See: https://urllib3.readthedocs.io/en/1.26.x/advanced-usage.html#ssl-warnings\n",
      "  warnings.warn(\n",
      "/usr/local/lib/python3.8/dist-packages/urllib3/connectionpool.py:1056: InsecureRequestWarning: Unverified HTTPS request is being made to host '192.168.250.10'. Adding certificate verification is strongly advised. See: https://urllib3.readthedocs.io/en/1.26.x/advanced-usage.html#ssl-warnings\n",
      "  warnings.warn(\n",
      "/usr/local/lib/python3.8/dist-packages/urllib3/connectionpool.py:1056: InsecureRequestWarning: Unverified HTTPS request is being made to host '192.168.250.10'. Adding certificate verification is strongly advised. See: https://urllib3.readthedocs.io/en/1.26.x/advanced-usage.html#ssl-warnings\n",
      "  warnings.warn(\n",
      "/usr/local/lib/python3.8/dist-packages/urllib3/connectionpool.py:1056: InsecureRequestWarning: Unverified HTTPS request is being made to host '192.168.250.10'. Adding certificate verification is strongly advised. See: https://urllib3.readthedocs.io/en/1.26.x/advanced-usage.html#ssl-warnings\n",
      "  warnings.warn(\n"
     ]
    },
    {
     "name": "stdout",
     "output_type": "stream",
     "text": [
      "{'error': {'code': -1000, 'message': {'lang': 'en-us', 'value': \"Property 'CarCode' of 'BusinessPartner' is invalid\"}}}\n",
      "{'error': {'code': -1000, 'message': {'lang': 'en-us', 'value': \"Property 'CarCode' of 'BusinessPartner' is invalid\"}}}\n",
      "{'error': {'code': -1000, 'message': {'lang': 'en-us', 'value': \"Property 'CarCode' of 'BusinessPartner' is invalid\"}}}\n",
      "{'error': {'code': -1000, 'message': {'lang': 'en-us', 'value': \"Property 'CarCode' of 'BusinessPartner' is invalid\"}}}\n",
      "{'error': {'code': -1000, 'message': {'lang': 'en-us', 'value': \"Property 'CarCode' of 'BusinessPartner' is invalid\"}}}\n",
      "{'error': {'code': -1000, 'message': {'lang': 'en-us', 'value': \"Property 'CarCode' of 'BusinessPartner' is invalid\"}}}\n",
      "{'error': {'code': -1000, 'message': {'lang': 'en-us', 'value': \"Property 'CarCode' of 'BusinessPartner' is invalid\"}}}\n",
      "{'error': {'code': -1000, 'message': {'lang': 'en-us', 'value': \"Property 'CarCode' of 'BusinessPartner' is invalid\"}}}\n"
     ]
    },
    {
     "name": "stderr",
     "output_type": "stream",
     "text": [
      "/usr/local/lib/python3.8/dist-packages/urllib3/connectionpool.py:1056: InsecureRequestWarning: Unverified HTTPS request is being made to host '192.168.250.10'. Adding certificate verification is strongly advised. See: https://urllib3.readthedocs.io/en/1.26.x/advanced-usage.html#ssl-warnings\n",
      "  warnings.warn(\n",
      "/usr/local/lib/python3.8/dist-packages/urllib3/connectionpool.py:1056: InsecureRequestWarning: Unverified HTTPS request is being made to host '192.168.250.10'. Adding certificate verification is strongly advised. See: https://urllib3.readthedocs.io/en/1.26.x/advanced-usage.html#ssl-warnings\n",
      "  warnings.warn(\n",
      "/usr/local/lib/python3.8/dist-packages/urllib3/connectionpool.py:1056: InsecureRequestWarning: Unverified HTTPS request is being made to host '192.168.250.10'. Adding certificate verification is strongly advised. See: https://urllib3.readthedocs.io/en/1.26.x/advanced-usage.html#ssl-warnings\n",
      "  warnings.warn(\n",
      "/usr/local/lib/python3.8/dist-packages/urllib3/connectionpool.py:1056: InsecureRequestWarning: Unverified HTTPS request is being made to host '192.168.250.10'. Adding certificate verification is strongly advised. See: https://urllib3.readthedocs.io/en/1.26.x/advanced-usage.html#ssl-warnings\n",
      "  warnings.warn(\n",
      "/usr/local/lib/python3.8/dist-packages/urllib3/connectionpool.py:1056: InsecureRequestWarning: Unverified HTTPS request is being made to host '192.168.250.10'. Adding certificate verification is strongly advised. See: https://urllib3.readthedocs.io/en/1.26.x/advanced-usage.html#ssl-warnings\n",
      "  warnings.warn(\n",
      "/usr/local/lib/python3.8/dist-packages/urllib3/connectionpool.py:1056: InsecureRequestWarning: Unverified HTTPS request is being made to host '192.168.250.10'. Adding certificate verification is strongly advised. See: https://urllib3.readthedocs.io/en/1.26.x/advanced-usage.html#ssl-warnings\n",
      "  warnings.warn(\n"
     ]
    },
    {
     "name": "stdout",
     "output_type": "stream",
     "text": [
      "{'error': {'code': -1000, 'message': {'lang': 'en-us', 'value': \"Property 'CarCode' of 'BusinessPartner' is invalid\"}}}\n",
      "{'error': {'code': -1000, 'message': {'lang': 'en-us', 'value': \"Property 'CarCode' of 'BusinessPartner' is invalid\"}}}\n",
      "{'error': {'code': -1000, 'message': {'lang': 'en-us', 'value': \"Property 'CarCode' of 'BusinessPartner' is invalid\"}}}\n",
      "{'error': {'code': -1000, 'message': {'lang': 'en-us', 'value': \"Property 'CarCode' of 'BusinessPartner' is invalid\"}}}\n",
      "{'error': {'code': -1000, 'message': {'lang': 'en-us', 'value': \"Property 'CarCode' of 'BusinessPartner' is invalid\"}}}\n",
      "{'error': {'code': -1000, 'message': {'lang': 'en-us', 'value': \"Property 'CarCode' of 'BusinessPartner' is invalid\"}}}\n"
     ]
    },
    {
     "name": "stderr",
     "output_type": "stream",
     "text": [
      "/usr/local/lib/python3.8/dist-packages/urllib3/connectionpool.py:1056: InsecureRequestWarning: Unverified HTTPS request is being made to host '192.168.250.10'. Adding certificate verification is strongly advised. See: https://urllib3.readthedocs.io/en/1.26.x/advanced-usage.html#ssl-warnings\n",
      "  warnings.warn(\n",
      "/usr/local/lib/python3.8/dist-packages/urllib3/connectionpool.py:1056: InsecureRequestWarning: Unverified HTTPS request is being made to host '192.168.250.10'. Adding certificate verification is strongly advised. See: https://urllib3.readthedocs.io/en/1.26.x/advanced-usage.html#ssl-warnings\n",
      "  warnings.warn(\n",
      "/usr/local/lib/python3.8/dist-packages/urllib3/connectionpool.py:1056: InsecureRequestWarning: Unverified HTTPS request is being made to host '192.168.250.10'. Adding certificate verification is strongly advised. See: https://urllib3.readthedocs.io/en/1.26.x/advanced-usage.html#ssl-warnings\n",
      "  warnings.warn(\n",
      "/usr/local/lib/python3.8/dist-packages/urllib3/connectionpool.py:1056: InsecureRequestWarning: Unverified HTTPS request is being made to host '192.168.250.10'. Adding certificate verification is strongly advised. See: https://urllib3.readthedocs.io/en/1.26.x/advanced-usage.html#ssl-warnings\n",
      "  warnings.warn(\n",
      "/usr/local/lib/python3.8/dist-packages/urllib3/connectionpool.py:1056: InsecureRequestWarning: Unverified HTTPS request is being made to host '192.168.250.10'. Adding certificate verification is strongly advised. See: https://urllib3.readthedocs.io/en/1.26.x/advanced-usage.html#ssl-warnings\n",
      "  warnings.warn(\n",
      "/usr/local/lib/python3.8/dist-packages/urllib3/connectionpool.py:1056: InsecureRequestWarning: Unverified HTTPS request is being made to host '192.168.250.10'. Adding certificate verification is strongly advised. See: https://urllib3.readthedocs.io/en/1.26.x/advanced-usage.html#ssl-warnings\n",
      "  warnings.warn(\n",
      "/usr/local/lib/python3.8/dist-packages/urllib3/connectionpool.py:1056: InsecureRequestWarning: Unverified HTTPS request is being made to host '192.168.250.10'. Adding certificate verification is strongly advised. See: https://urllib3.readthedocs.io/en/1.26.x/advanced-usage.html#ssl-warnings\n",
      "  warnings.warn(\n",
      "/usr/local/lib/python3.8/dist-packages/urllib3/connectionpool.py:1056: InsecureRequestWarning: Unverified HTTPS request is being made to host '192.168.250.10'. Adding certificate verification is strongly advised. See: https://urllib3.readthedocs.io/en/1.26.x/advanced-usage.html#ssl-warnings\n",
      "  warnings.warn(\n"
     ]
    },
    {
     "name": "stdout",
     "output_type": "stream",
     "text": [
      "{'error': {'code': -1000, 'message': {'lang': 'en-us', 'value': \"Property 'CarCode' of 'BusinessPartner' is invalid\"}}}\n",
      "{'error': {'code': -1000, 'message': {'lang': 'en-us', 'value': \"Property 'CarCode' of 'BusinessPartner' is invalid\"}}}\n",
      "{'error': {'code': -1000, 'message': {'lang': 'en-us', 'value': \"Property 'CarCode' of 'BusinessPartner' is invalid\"}}}\n",
      "{'error': {'code': -1000, 'message': {'lang': 'en-us', 'value': \"Property 'CarCode' of 'BusinessPartner' is invalid\"}}}\n",
      "{'error': {'code': -1000, 'message': {'lang': 'en-us', 'value': \"Property 'CarCode' of 'BusinessPartner' is invalid\"}}}\n",
      "{'error': {'code': -1000, 'message': {'lang': 'en-us', 'value': \"Property 'CarCode' of 'BusinessPartner' is invalid\"}}}\n",
      "{'error': {'code': -1000, 'message': {'lang': 'en-us', 'value': \"Property 'CarCode' of 'BusinessPartner' is invalid\"}}}\n"
     ]
    },
    {
     "name": "stderr",
     "output_type": "stream",
     "text": [
      "/usr/local/lib/python3.8/dist-packages/urllib3/connectionpool.py:1056: InsecureRequestWarning: Unverified HTTPS request is being made to host '192.168.250.10'. Adding certificate verification is strongly advised. See: https://urllib3.readthedocs.io/en/1.26.x/advanced-usage.html#ssl-warnings\n",
      "  warnings.warn(\n",
      "/usr/local/lib/python3.8/dist-packages/urllib3/connectionpool.py:1056: InsecureRequestWarning: Unverified HTTPS request is being made to host '192.168.250.10'. Adding certificate verification is strongly advised. See: https://urllib3.readthedocs.io/en/1.26.x/advanced-usage.html#ssl-warnings\n",
      "  warnings.warn(\n",
      "/usr/local/lib/python3.8/dist-packages/urllib3/connectionpool.py:1056: InsecureRequestWarning: Unverified HTTPS request is being made to host '192.168.250.10'. Adding certificate verification is strongly advised. See: https://urllib3.readthedocs.io/en/1.26.x/advanced-usage.html#ssl-warnings\n",
      "  warnings.warn(\n",
      "/usr/local/lib/python3.8/dist-packages/urllib3/connectionpool.py:1056: InsecureRequestWarning: Unverified HTTPS request is being made to host '192.168.250.10'. Adding certificate verification is strongly advised. See: https://urllib3.readthedocs.io/en/1.26.x/advanced-usage.html#ssl-warnings\n",
      "  warnings.warn(\n",
      "/usr/local/lib/python3.8/dist-packages/urllib3/connectionpool.py:1056: InsecureRequestWarning: Unverified HTTPS request is being made to host '192.168.250.10'. Adding certificate verification is strongly advised. See: https://urllib3.readthedocs.io/en/1.26.x/advanced-usage.html#ssl-warnings\n",
      "  warnings.warn(\n",
      "/usr/local/lib/python3.8/dist-packages/urllib3/connectionpool.py:1056: InsecureRequestWarning: Unverified HTTPS request is being made to host '192.168.250.10'. Adding certificate verification is strongly advised. See: https://urllib3.readthedocs.io/en/1.26.x/advanced-usage.html#ssl-warnings\n",
      "  warnings.warn(\n"
     ]
    },
    {
     "name": "stdout",
     "output_type": "stream",
     "text": [
      "{'error': {'code': -1000, 'message': {'lang': 'en-us', 'value': \"Property 'CarCode' of 'BusinessPartner' is invalid\"}}}\n",
      "{'error': {'code': -1000, 'message': {'lang': 'en-us', 'value': \"Property 'CarCode' of 'BusinessPartner' is invalid\"}}}\n",
      "{'error': {'code': -1000, 'message': {'lang': 'en-us', 'value': \"Property 'CarCode' of 'BusinessPartner' is invalid\"}}}\n",
      "{'error': {'code': -1000, 'message': {'lang': 'en-us', 'value': \"Property 'CarCode' of 'BusinessPartner' is invalid\"}}}\n",
      "{'error': {'code': -1000, 'message': {'lang': 'en-us', 'value': \"Property 'CarCode' of 'BusinessPartner' is invalid\"}}}\n",
      "{'error': {'code': -1000, 'message': {'lang': 'en-us', 'value': \"Property 'CarCode' of 'BusinessPartner' is invalid\"}}}\n"
     ]
    },
    {
     "name": "stderr",
     "output_type": "stream",
     "text": [
      "/usr/local/lib/python3.8/dist-packages/urllib3/connectionpool.py:1056: InsecureRequestWarning: Unverified HTTPS request is being made to host '192.168.250.10'. Adding certificate verification is strongly advised. See: https://urllib3.readthedocs.io/en/1.26.x/advanced-usage.html#ssl-warnings\n",
      "  warnings.warn(\n",
      "/usr/local/lib/python3.8/dist-packages/urllib3/connectionpool.py:1056: InsecureRequestWarning: Unverified HTTPS request is being made to host '192.168.250.10'. Adding certificate verification is strongly advised. See: https://urllib3.readthedocs.io/en/1.26.x/advanced-usage.html#ssl-warnings\n",
      "  warnings.warn(\n",
      "/usr/local/lib/python3.8/dist-packages/urllib3/connectionpool.py:1056: InsecureRequestWarning: Unverified HTTPS request is being made to host '192.168.250.10'. Adding certificate verification is strongly advised. See: https://urllib3.readthedocs.io/en/1.26.x/advanced-usage.html#ssl-warnings\n",
      "  warnings.warn(\n",
      "/usr/local/lib/python3.8/dist-packages/urllib3/connectionpool.py:1056: InsecureRequestWarning: Unverified HTTPS request is being made to host '192.168.250.10'. Adding certificate verification is strongly advised. See: https://urllib3.readthedocs.io/en/1.26.x/advanced-usage.html#ssl-warnings\n",
      "  warnings.warn(\n",
      "/usr/local/lib/python3.8/dist-packages/urllib3/connectionpool.py:1056: InsecureRequestWarning: Unverified HTTPS request is being made to host '192.168.250.10'. Adding certificate verification is strongly advised. See: https://urllib3.readthedocs.io/en/1.26.x/advanced-usage.html#ssl-warnings\n",
      "  warnings.warn(\n"
     ]
    },
    {
     "name": "stdout",
     "output_type": "stream",
     "text": [
      "{'error': {'code': -1000, 'message': {'lang': 'en-us', 'value': \"Property 'CarCode' of 'BusinessPartner' is invalid\"}}}\n",
      "{'error': {'code': -1000, 'message': {'lang': 'en-us', 'value': \"Property 'CarCode' of 'BusinessPartner' is invalid\"}}}\n",
      "{'error': {'code': -1000, 'message': {'lang': 'en-us', 'value': \"Property 'CarCode' of 'BusinessPartner' is invalid\"}}}\n",
      "{'error': {'code': -1000, 'message': {'lang': 'en-us', 'value': \"Property 'CarCode' of 'BusinessPartner' is invalid\"}}}\n",
      "{'error': {'code': -1000, 'message': {'lang': 'en-us', 'value': \"Property 'CarCode' of 'BusinessPartner' is invalid\"}}}\n"
     ]
    },
    {
     "name": "stderr",
     "output_type": "stream",
     "text": [
      "/usr/local/lib/python3.8/dist-packages/urllib3/connectionpool.py:1056: InsecureRequestWarning: Unverified HTTPS request is being made to host '192.168.250.10'. Adding certificate verification is strongly advised. See: https://urllib3.readthedocs.io/en/1.26.x/advanced-usage.html#ssl-warnings\n",
      "  warnings.warn(\n",
      "/usr/local/lib/python3.8/dist-packages/urllib3/connectionpool.py:1056: InsecureRequestWarning: Unverified HTTPS request is being made to host '192.168.250.10'. Adding certificate verification is strongly advised. See: https://urllib3.readthedocs.io/en/1.26.x/advanced-usage.html#ssl-warnings\n",
      "  warnings.warn(\n",
      "/usr/local/lib/python3.8/dist-packages/urllib3/connectionpool.py:1056: InsecureRequestWarning: Unverified HTTPS request is being made to host '192.168.250.10'. Adding certificate verification is strongly advised. See: https://urllib3.readthedocs.io/en/1.26.x/advanced-usage.html#ssl-warnings\n",
      "  warnings.warn(\n",
      "/usr/local/lib/python3.8/dist-packages/urllib3/connectionpool.py:1056: InsecureRequestWarning: Unverified HTTPS request is being made to host '192.168.250.10'. Adding certificate verification is strongly advised. See: https://urllib3.readthedocs.io/en/1.26.x/advanced-usage.html#ssl-warnings\n",
      "  warnings.warn(\n",
      "/usr/local/lib/python3.8/dist-packages/urllib3/connectionpool.py:1056: InsecureRequestWarning: Unverified HTTPS request is being made to host '192.168.250.10'. Adding certificate verification is strongly advised. See: https://urllib3.readthedocs.io/en/1.26.x/advanced-usage.html#ssl-warnings\n",
      "  warnings.warn(\n",
      "/usr/local/lib/python3.8/dist-packages/urllib3/connectionpool.py:1056: InsecureRequestWarning: Unverified HTTPS request is being made to host '192.168.250.10'. Adding certificate verification is strongly advised. See: https://urllib3.readthedocs.io/en/1.26.x/advanced-usage.html#ssl-warnings\n",
      "  warnings.warn(\n"
     ]
    },
    {
     "name": "stdout",
     "output_type": "stream",
     "text": [
      "{'error': {'code': -1000, 'message': {'lang': 'en-us', 'value': \"Property 'CarCode' of 'BusinessPartner' is invalid\"}}}\n",
      "{'error': {'code': -1000, 'message': {'lang': 'en-us', 'value': \"Property 'CarCode' of 'BusinessPartner' is invalid\"}}}\n",
      "{'error': {'code': -1000, 'message': {'lang': 'en-us', 'value': \"Property 'CarCode' of 'BusinessPartner' is invalid\"}}}\n",
      "{'error': {'code': -1000, 'message': {'lang': 'en-us', 'value': \"Property 'CarCode' of 'BusinessPartner' is invalid\"}}}\n",
      "{'error': {'code': -1000, 'message': {'lang': 'en-us', 'value': \"Property 'CarCode' of 'BusinessPartner' is invalid\"}}}\n",
      "{'error': {'code': -1000, 'message': {'lang': 'en-us', 'value': \"Property 'CarCode' of 'BusinessPartner' is invalid\"}}}\n",
      "{'error': {'code': -1000, 'message': {'lang': 'en-us', 'value': \"Property 'CarCode' of 'BusinessPartner' is invalid\"}}}\n"
     ]
    },
    {
     "name": "stderr",
     "output_type": "stream",
     "text": [
      "/usr/local/lib/python3.8/dist-packages/urllib3/connectionpool.py:1056: InsecureRequestWarning: Unverified HTTPS request is being made to host '192.168.250.10'. Adding certificate verification is strongly advised. See: https://urllib3.readthedocs.io/en/1.26.x/advanced-usage.html#ssl-warnings\n",
      "  warnings.warn(\n",
      "/usr/local/lib/python3.8/dist-packages/urllib3/connectionpool.py:1056: InsecureRequestWarning: Unverified HTTPS request is being made to host '192.168.250.10'. Adding certificate verification is strongly advised. See: https://urllib3.readthedocs.io/en/1.26.x/advanced-usage.html#ssl-warnings\n",
      "  warnings.warn(\n",
      "/usr/local/lib/python3.8/dist-packages/urllib3/connectionpool.py:1056: InsecureRequestWarning: Unverified HTTPS request is being made to host '192.168.250.10'. Adding certificate verification is strongly advised. See: https://urllib3.readthedocs.io/en/1.26.x/advanced-usage.html#ssl-warnings\n",
      "  warnings.warn(\n",
      "/usr/local/lib/python3.8/dist-packages/urllib3/connectionpool.py:1056: InsecureRequestWarning: Unverified HTTPS request is being made to host '192.168.250.10'. Adding certificate verification is strongly advised. See: https://urllib3.readthedocs.io/en/1.26.x/advanced-usage.html#ssl-warnings\n",
      "  warnings.warn(\n",
      "/usr/local/lib/python3.8/dist-packages/urllib3/connectionpool.py:1056: InsecureRequestWarning: Unverified HTTPS request is being made to host '192.168.250.10'. Adding certificate verification is strongly advised. See: https://urllib3.readthedocs.io/en/1.26.x/advanced-usage.html#ssl-warnings\n",
      "  warnings.warn(\n",
      "/usr/local/lib/python3.8/dist-packages/urllib3/connectionpool.py:1056: InsecureRequestWarning: Unverified HTTPS request is being made to host '192.168.250.10'. Adding certificate verification is strongly advised. See: https://urllib3.readthedocs.io/en/1.26.x/advanced-usage.html#ssl-warnings\n",
      "  warnings.warn(\n",
      "/usr/local/lib/python3.8/dist-packages/urllib3/connectionpool.py:1056: InsecureRequestWarning: Unverified HTTPS request is being made to host '192.168.250.10'. Adding certificate verification is strongly advised. See: https://urllib3.readthedocs.io/en/1.26.x/advanced-usage.html#ssl-warnings\n",
      "  warnings.warn(\n",
      "/usr/local/lib/python3.8/dist-packages/urllib3/connectionpool.py:1056: InsecureRequestWarning: Unverified HTTPS request is being made to host '192.168.250.10'. Adding certificate verification is strongly advised. See: https://urllib3.readthedocs.io/en/1.26.x/advanced-usage.html#ssl-warnings\n",
      "  warnings.warn(\n"
     ]
    },
    {
     "name": "stdout",
     "output_type": "stream",
     "text": [
      "{'error': {'code': -1000, 'message': {'lang': 'en-us', 'value': \"Property 'CarCode' of 'BusinessPartner' is invalid\"}}}\n",
      "{'error': {'code': -1000, 'message': {'lang': 'en-us', 'value': \"Property 'CarCode' of 'BusinessPartner' is invalid\"}}}\n",
      "{'error': {'code': -1000, 'message': {'lang': 'en-us', 'value': \"Property 'CarCode' of 'BusinessPartner' is invalid\"}}}\n",
      "{'error': {'code': -1000, 'message': {'lang': 'en-us', 'value': \"Property 'CarCode' of 'BusinessPartner' is invalid\"}}}\n",
      "{'error': {'code': -1000, 'message': {'lang': 'en-us', 'value': \"Property 'CarCode' of 'BusinessPartner' is invalid\"}}}\n",
      "{'error': {'code': -1000, 'message': {'lang': 'en-us', 'value': \"Property 'CarCode' of 'BusinessPartner' is invalid\"}}}\n",
      "{'error': {'code': -1000, 'message': {'lang': 'en-us', 'value': \"Property 'CarCode' of 'BusinessPartner' is invalid\"}}}\n",
      "{'error': {'code': -1000, 'message': {'lang': 'en-us', 'value': \"Property 'CarCode' of 'BusinessPartner' is invalid\"}}}\n"
     ]
    },
    {
     "name": "stderr",
     "output_type": "stream",
     "text": [
      "/usr/local/lib/python3.8/dist-packages/urllib3/connectionpool.py:1056: InsecureRequestWarning: Unverified HTTPS request is being made to host '192.168.250.10'. Adding certificate verification is strongly advised. See: https://urllib3.readthedocs.io/en/1.26.x/advanced-usage.html#ssl-warnings\n",
      "  warnings.warn(\n",
      "/usr/local/lib/python3.8/dist-packages/urllib3/connectionpool.py:1056: InsecureRequestWarning: Unverified HTTPS request is being made to host '192.168.250.10'. Adding certificate verification is strongly advised. See: https://urllib3.readthedocs.io/en/1.26.x/advanced-usage.html#ssl-warnings\n",
      "  warnings.warn(\n",
      "/usr/local/lib/python3.8/dist-packages/urllib3/connectionpool.py:1056: InsecureRequestWarning: Unverified HTTPS request is being made to host '192.168.250.10'. Adding certificate verification is strongly advised. See: https://urllib3.readthedocs.io/en/1.26.x/advanced-usage.html#ssl-warnings\n",
      "  warnings.warn(\n",
      "/usr/local/lib/python3.8/dist-packages/urllib3/connectionpool.py:1056: InsecureRequestWarning: Unverified HTTPS request is being made to host '192.168.250.10'. Adding certificate verification is strongly advised. See: https://urllib3.readthedocs.io/en/1.26.x/advanced-usage.html#ssl-warnings\n",
      "  warnings.warn(\n",
      "/usr/local/lib/python3.8/dist-packages/urllib3/connectionpool.py:1056: InsecureRequestWarning: Unverified HTTPS request is being made to host '192.168.250.10'. Adding certificate verification is strongly advised. See: https://urllib3.readthedocs.io/en/1.26.x/advanced-usage.html#ssl-warnings\n",
      "  warnings.warn(\n",
      "/usr/local/lib/python3.8/dist-packages/urllib3/connectionpool.py:1056: InsecureRequestWarning: Unverified HTTPS request is being made to host '192.168.250.10'. Adding certificate verification is strongly advised. See: https://urllib3.readthedocs.io/en/1.26.x/advanced-usage.html#ssl-warnings\n",
      "  warnings.warn(\n",
      "/usr/local/lib/python3.8/dist-packages/urllib3/connectionpool.py:1056: InsecureRequestWarning: Unverified HTTPS request is being made to host '192.168.250.10'. Adding certificate verification is strongly advised. See: https://urllib3.readthedocs.io/en/1.26.x/advanced-usage.html#ssl-warnings\n",
      "  warnings.warn(\n"
     ]
    },
    {
     "name": "stdout",
     "output_type": "stream",
     "text": [
      "{'error': {'code': -1000, 'message': {'lang': 'en-us', 'value': \"Property 'CarCode' of 'BusinessPartner' is invalid\"}}}\n",
      "{'error': {'code': -1000, 'message': {'lang': 'en-us', 'value': \"Property 'CarCode' of 'BusinessPartner' is invalid\"}}}\n",
      "{'error': {'code': -1000, 'message': {'lang': 'en-us', 'value': \"Property 'CarCode' of 'BusinessPartner' is invalid\"}}}\n",
      "{'error': {'code': -1000, 'message': {'lang': 'en-us', 'value': \"Property 'CarCode' of 'BusinessPartner' is invalid\"}}}\n",
      "{'error': {'code': -1000, 'message': {'lang': 'en-us', 'value': \"Property 'CarCode' of 'BusinessPartner' is invalid\"}}}\n",
      "{'error': {'code': -1000, 'message': {'lang': 'en-us', 'value': \"Property 'CarCode' of 'BusinessPartner' is invalid\"}}}\n"
     ]
    },
    {
     "name": "stderr",
     "output_type": "stream",
     "text": [
      "/usr/local/lib/python3.8/dist-packages/urllib3/connectionpool.py:1056: InsecureRequestWarning: Unverified HTTPS request is being made to host '192.168.250.10'. Adding certificate verification is strongly advised. See: https://urllib3.readthedocs.io/en/1.26.x/advanced-usage.html#ssl-warnings\n",
      "  warnings.warn(\n",
      "/usr/local/lib/python3.8/dist-packages/urllib3/connectionpool.py:1056: InsecureRequestWarning: Unverified HTTPS request is being made to host '192.168.250.10'. Adding certificate verification is strongly advised. See: https://urllib3.readthedocs.io/en/1.26.x/advanced-usage.html#ssl-warnings\n",
      "  warnings.warn(\n",
      "/usr/local/lib/python3.8/dist-packages/urllib3/connectionpool.py:1056: InsecureRequestWarning: Unverified HTTPS request is being made to host '192.168.250.10'. Adding certificate verification is strongly advised. See: https://urllib3.readthedocs.io/en/1.26.x/advanced-usage.html#ssl-warnings\n",
      "  warnings.warn(\n",
      "/usr/local/lib/python3.8/dist-packages/urllib3/connectionpool.py:1056: InsecureRequestWarning: Unverified HTTPS request is being made to host '192.168.250.10'. Adding certificate verification is strongly advised. See: https://urllib3.readthedocs.io/en/1.26.x/advanced-usage.html#ssl-warnings\n",
      "  warnings.warn(\n",
      "/usr/local/lib/python3.8/dist-packages/urllib3/connectionpool.py:1056: InsecureRequestWarning: Unverified HTTPS request is being made to host '192.168.250.10'. Adding certificate verification is strongly advised. See: https://urllib3.readthedocs.io/en/1.26.x/advanced-usage.html#ssl-warnings\n",
      "  warnings.warn(\n",
      "/usr/local/lib/python3.8/dist-packages/urllib3/connectionpool.py:1056: InsecureRequestWarning: Unverified HTTPS request is being made to host '192.168.250.10'. Adding certificate verification is strongly advised. See: https://urllib3.readthedocs.io/en/1.26.x/advanced-usage.html#ssl-warnings\n",
      "  warnings.warn(\n",
      "/usr/local/lib/python3.8/dist-packages/urllib3/connectionpool.py:1056: InsecureRequestWarning: Unverified HTTPS request is being made to host '192.168.250.10'. Adding certificate verification is strongly advised. See: https://urllib3.readthedocs.io/en/1.26.x/advanced-usage.html#ssl-warnings\n",
      "  warnings.warn(\n"
     ]
    },
    {
     "name": "stdout",
     "output_type": "stream",
     "text": [
      "{'error': {'code': -1000, 'message': {'lang': 'en-us', 'value': \"Property 'CarCode' of 'BusinessPartner' is invalid\"}}}\n",
      "{'error': {'code': -1000, 'message': {'lang': 'en-us', 'value': \"Property 'CarCode' of 'BusinessPartner' is invalid\"}}}\n",
      "{'error': {'code': -1000, 'message': {'lang': 'en-us', 'value': \"Property 'CarCode' of 'BusinessPartner' is invalid\"}}}\n",
      "{'error': {'code': -1000, 'message': {'lang': 'en-us', 'value': \"Property 'CarCode' of 'BusinessPartner' is invalid\"}}}\n",
      "{'error': {'code': -1000, 'message': {'lang': 'en-us', 'value': \"Property 'CarCode' of 'BusinessPartner' is invalid\"}}}\n",
      "{'error': {'code': -1000, 'message': {'lang': 'en-us', 'value': \"Property 'CarCode' of 'BusinessPartner' is invalid\"}}}\n",
      "{'error': {'code': -1000, 'message': {'lang': 'en-us', 'value': \"Property 'CarCode' of 'BusinessPartner' is invalid\"}}}\n",
      "{'error': {'code': -1000, 'message': {'lang': 'en-us', 'value': \"Property 'CarCode' of 'BusinessPartner' is invalid\"}}}\n"
     ]
    },
    {
     "name": "stderr",
     "output_type": "stream",
     "text": [
      "/usr/local/lib/python3.8/dist-packages/urllib3/connectionpool.py:1056: InsecureRequestWarning: Unverified HTTPS request is being made to host '192.168.250.10'. Adding certificate verification is strongly advised. See: https://urllib3.readthedocs.io/en/1.26.x/advanced-usage.html#ssl-warnings\n",
      "  warnings.warn(\n",
      "/usr/local/lib/python3.8/dist-packages/urllib3/connectionpool.py:1056: InsecureRequestWarning: Unverified HTTPS request is being made to host '192.168.250.10'. Adding certificate verification is strongly advised. See: https://urllib3.readthedocs.io/en/1.26.x/advanced-usage.html#ssl-warnings\n",
      "  warnings.warn(\n",
      "/usr/local/lib/python3.8/dist-packages/urllib3/connectionpool.py:1056: InsecureRequestWarning: Unverified HTTPS request is being made to host '192.168.250.10'. Adding certificate verification is strongly advised. See: https://urllib3.readthedocs.io/en/1.26.x/advanced-usage.html#ssl-warnings\n",
      "  warnings.warn(\n",
      "/usr/local/lib/python3.8/dist-packages/urllib3/connectionpool.py:1056: InsecureRequestWarning: Unverified HTTPS request is being made to host '192.168.250.10'. Adding certificate verification is strongly advised. See: https://urllib3.readthedocs.io/en/1.26.x/advanced-usage.html#ssl-warnings\n",
      "  warnings.warn(\n",
      "/usr/local/lib/python3.8/dist-packages/urllib3/connectionpool.py:1056: InsecureRequestWarning: Unverified HTTPS request is being made to host '192.168.250.10'. Adding certificate verification is strongly advised. See: https://urllib3.readthedocs.io/en/1.26.x/advanced-usage.html#ssl-warnings\n",
      "  warnings.warn(\n",
      "/usr/local/lib/python3.8/dist-packages/urllib3/connectionpool.py:1056: InsecureRequestWarning: Unverified HTTPS request is being made to host '192.168.250.10'. Adding certificate verification is strongly advised. See: https://urllib3.readthedocs.io/en/1.26.x/advanced-usage.html#ssl-warnings\n",
      "  warnings.warn(\n",
      "/usr/local/lib/python3.8/dist-packages/urllib3/connectionpool.py:1056: InsecureRequestWarning: Unverified HTTPS request is being made to host '192.168.250.10'. Adding certificate verification is strongly advised. See: https://urllib3.readthedocs.io/en/1.26.x/advanced-usage.html#ssl-warnings\n",
      "  warnings.warn(\n"
     ]
    },
    {
     "name": "stdout",
     "output_type": "stream",
     "text": [
      "{'error': {'code': -1000, 'message': {'lang': 'en-us', 'value': \"Property 'CarCode' of 'BusinessPartner' is invalid\"}}}\n",
      "{'error': {'code': -1000, 'message': {'lang': 'en-us', 'value': \"Property 'CarCode' of 'BusinessPartner' is invalid\"}}}\n",
      "{'error': {'code': -1000, 'message': {'lang': 'en-us', 'value': \"Property 'CarCode' of 'BusinessPartner' is invalid\"}}}\n",
      "{'error': {'code': -1000, 'message': {'lang': 'en-us', 'value': \"Property 'CarCode' of 'BusinessPartner' is invalid\"}}}\n",
      "{'error': {'code': -1000, 'message': {'lang': 'en-us', 'value': \"Property 'CarCode' of 'BusinessPartner' is invalid\"}}}\n",
      "{'error': {'code': -1000, 'message': {'lang': 'en-us', 'value': \"Property 'CarCode' of 'BusinessPartner' is invalid\"}}}\n"
     ]
    },
    {
     "name": "stderr",
     "output_type": "stream",
     "text": [
      "/usr/local/lib/python3.8/dist-packages/urllib3/connectionpool.py:1056: InsecureRequestWarning: Unverified HTTPS request is being made to host '192.168.250.10'. Adding certificate verification is strongly advised. See: https://urllib3.readthedocs.io/en/1.26.x/advanced-usage.html#ssl-warnings\n",
      "  warnings.warn(\n",
      "/usr/local/lib/python3.8/dist-packages/urllib3/connectionpool.py:1056: InsecureRequestWarning: Unverified HTTPS request is being made to host '192.168.250.10'. Adding certificate verification is strongly advised. See: https://urllib3.readthedocs.io/en/1.26.x/advanced-usage.html#ssl-warnings\n",
      "  warnings.warn(\n",
      "/usr/local/lib/python3.8/dist-packages/urllib3/connectionpool.py:1056: InsecureRequestWarning: Unverified HTTPS request is being made to host '192.168.250.10'. Adding certificate verification is strongly advised. See: https://urllib3.readthedocs.io/en/1.26.x/advanced-usage.html#ssl-warnings\n",
      "  warnings.warn(\n",
      "/usr/local/lib/python3.8/dist-packages/urllib3/connectionpool.py:1056: InsecureRequestWarning: Unverified HTTPS request is being made to host '192.168.250.10'. Adding certificate verification is strongly advised. See: https://urllib3.readthedocs.io/en/1.26.x/advanced-usage.html#ssl-warnings\n",
      "  warnings.warn(\n",
      "/usr/local/lib/python3.8/dist-packages/urllib3/connectionpool.py:1056: InsecureRequestWarning: Unverified HTTPS request is being made to host '192.168.250.10'. Adding certificate verification is strongly advised. See: https://urllib3.readthedocs.io/en/1.26.x/advanced-usage.html#ssl-warnings\n",
      "  warnings.warn(\n"
     ]
    },
    {
     "name": "stdout",
     "output_type": "stream",
     "text": [
      "{'error': {'code': -1000, 'message': {'lang': 'en-us', 'value': \"Property 'CarCode' of 'BusinessPartner' is invalid\"}}}\n",
      "{'error': {'code': -1000, 'message': {'lang': 'en-us', 'value': \"Property 'CarCode' of 'BusinessPartner' is invalid\"}}}\n",
      "{'error': {'code': -1000, 'message': {'lang': 'en-us', 'value': \"Property 'CarCode' of 'BusinessPartner' is invalid\"}}}\n",
      "{'error': {'code': -1000, 'message': {'lang': 'en-us', 'value': \"Property 'CarCode' of 'BusinessPartner' is invalid\"}}}\n",
      "{'error': {'code': -1000, 'message': {'lang': 'en-us', 'value': \"Property 'CarCode' of 'BusinessPartner' is invalid\"}}}\n"
     ]
    },
    {
     "name": "stderr",
     "output_type": "stream",
     "text": [
      "/usr/local/lib/python3.8/dist-packages/urllib3/connectionpool.py:1056: InsecureRequestWarning: Unverified HTTPS request is being made to host '192.168.250.10'. Adding certificate verification is strongly advised. See: https://urllib3.readthedocs.io/en/1.26.x/advanced-usage.html#ssl-warnings\n",
      "  warnings.warn(\n",
      "/usr/local/lib/python3.8/dist-packages/urllib3/connectionpool.py:1056: InsecureRequestWarning: Unverified HTTPS request is being made to host '192.168.250.10'. Adding certificate verification is strongly advised. See: https://urllib3.readthedocs.io/en/1.26.x/advanced-usage.html#ssl-warnings\n",
      "  warnings.warn(\n",
      "/usr/local/lib/python3.8/dist-packages/urllib3/connectionpool.py:1056: InsecureRequestWarning: Unverified HTTPS request is being made to host '192.168.250.10'. Adding certificate verification is strongly advised. See: https://urllib3.readthedocs.io/en/1.26.x/advanced-usage.html#ssl-warnings\n",
      "  warnings.warn(\n",
      "/usr/local/lib/python3.8/dist-packages/urllib3/connectionpool.py:1056: InsecureRequestWarning: Unverified HTTPS request is being made to host '192.168.250.10'. Adding certificate verification is strongly advised. See: https://urllib3.readthedocs.io/en/1.26.x/advanced-usage.html#ssl-warnings\n",
      "  warnings.warn(\n"
     ]
    },
    {
     "name": "stdout",
     "output_type": "stream",
     "text": [
      "{'error': {'code': -1000, 'message': {'lang': 'en-us', 'value': \"Property 'CarCode' of 'BusinessPartner' is invalid\"}}}\n",
      "{'error': {'code': -1000, 'message': {'lang': 'en-us', 'value': \"Property 'CarCode' of 'BusinessPartner' is invalid\"}}}\n",
      "{'error': {'code': -1000, 'message': {'lang': 'en-us', 'value': \"Property 'CarCode' of 'BusinessPartner' is invalid\"}}}\n",
      "{'error': {'code': -1000, 'message': {'lang': 'en-us', 'value': \"Property 'CarCode' of 'BusinessPartner' is invalid\"}}}\n"
     ]
    },
    {
     "name": "stderr",
     "output_type": "stream",
     "text": [
      "/usr/local/lib/python3.8/dist-packages/urllib3/connectionpool.py:1056: InsecureRequestWarning: Unverified HTTPS request is being made to host '192.168.250.10'. Adding certificate verification is strongly advised. See: https://urllib3.readthedocs.io/en/1.26.x/advanced-usage.html#ssl-warnings\n",
      "  warnings.warn(\n",
      "/usr/local/lib/python3.8/dist-packages/urllib3/connectionpool.py:1056: InsecureRequestWarning: Unverified HTTPS request is being made to host '192.168.250.10'. Adding certificate verification is strongly advised. See: https://urllib3.readthedocs.io/en/1.26.x/advanced-usage.html#ssl-warnings\n",
      "  warnings.warn(\n",
      "/usr/local/lib/python3.8/dist-packages/urllib3/connectionpool.py:1056: InsecureRequestWarning: Unverified HTTPS request is being made to host '192.168.250.10'. Adding certificate verification is strongly advised. See: https://urllib3.readthedocs.io/en/1.26.x/advanced-usage.html#ssl-warnings\n",
      "  warnings.warn(\n",
      "/usr/local/lib/python3.8/dist-packages/urllib3/connectionpool.py:1056: InsecureRequestWarning: Unverified HTTPS request is being made to host '192.168.250.10'. Adding certificate verification is strongly advised. See: https://urllib3.readthedocs.io/en/1.26.x/advanced-usage.html#ssl-warnings\n",
      "  warnings.warn(\n",
      "/usr/local/lib/python3.8/dist-packages/urllib3/connectionpool.py:1056: InsecureRequestWarning: Unverified HTTPS request is being made to host '192.168.250.10'. Adding certificate verification is strongly advised. See: https://urllib3.readthedocs.io/en/1.26.x/advanced-usage.html#ssl-warnings\n",
      "  warnings.warn(\n"
     ]
    },
    {
     "name": "stdout",
     "output_type": "stream",
     "text": [
      "{'error': {'code': -1000, 'message': {'lang': 'en-us', 'value': \"Property 'CarCode' of 'BusinessPartner' is invalid\"}}}\n",
      "{'error': {'code': -1000, 'message': {'lang': 'en-us', 'value': \"Property 'CarCode' of 'BusinessPartner' is invalid\"}}}\n",
      "{'error': {'code': -1000, 'message': {'lang': 'en-us', 'value': \"Property 'CarCode' of 'BusinessPartner' is invalid\"}}}\n",
      "{'error': {'code': -1000, 'message': {'lang': 'en-us', 'value': \"Property 'CarCode' of 'BusinessPartner' is invalid\"}}}\n",
      "{'error': {'code': -1000, 'message': {'lang': 'en-us', 'value': \"Property 'CarCode' of 'BusinessPartner' is invalid\"}}}\n"
     ]
    },
    {
     "name": "stderr",
     "output_type": "stream",
     "text": [
      "/usr/local/lib/python3.8/dist-packages/urllib3/connectionpool.py:1056: InsecureRequestWarning: Unverified HTTPS request is being made to host '192.168.250.10'. Adding certificate verification is strongly advised. See: https://urllib3.readthedocs.io/en/1.26.x/advanced-usage.html#ssl-warnings\n",
      "  warnings.warn(\n",
      "/usr/local/lib/python3.8/dist-packages/urllib3/connectionpool.py:1056: InsecureRequestWarning: Unverified HTTPS request is being made to host '192.168.250.10'. Adding certificate verification is strongly advised. See: https://urllib3.readthedocs.io/en/1.26.x/advanced-usage.html#ssl-warnings\n",
      "  warnings.warn(\n",
      "/usr/local/lib/python3.8/dist-packages/urllib3/connectionpool.py:1056: InsecureRequestWarning: Unverified HTTPS request is being made to host '192.168.250.10'. Adding certificate verification is strongly advised. See: https://urllib3.readthedocs.io/en/1.26.x/advanced-usage.html#ssl-warnings\n",
      "  warnings.warn(\n",
      "/usr/local/lib/python3.8/dist-packages/urllib3/connectionpool.py:1056: InsecureRequestWarning: Unverified HTTPS request is being made to host '192.168.250.10'. Adding certificate verification is strongly advised. See: https://urllib3.readthedocs.io/en/1.26.x/advanced-usage.html#ssl-warnings\n",
      "  warnings.warn(\n",
      "/usr/local/lib/python3.8/dist-packages/urllib3/connectionpool.py:1056: InsecureRequestWarning: Unverified HTTPS request is being made to host '192.168.250.10'. Adding certificate verification is strongly advised. See: https://urllib3.readthedocs.io/en/1.26.x/advanced-usage.html#ssl-warnings\n",
      "  warnings.warn(\n"
     ]
    },
    {
     "name": "stdout",
     "output_type": "stream",
     "text": [
      "{'error': {'code': -1000, 'message': {'lang': 'en-us', 'value': \"Property 'CarCode' of 'BusinessPartner' is invalid\"}}}\n",
      "{'error': {'code': -1000, 'message': {'lang': 'en-us', 'value': \"Property 'CarCode' of 'BusinessPartner' is invalid\"}}}\n",
      "{'error': {'code': -1000, 'message': {'lang': 'en-us', 'value': \"Property 'CarCode' of 'BusinessPartner' is invalid\"}}}\n",
      "{'error': {'code': -1000, 'message': {'lang': 'en-us', 'value': \"Property 'CarCode' of 'BusinessPartner' is invalid\"}}}\n",
      "{'error': {'code': -1000, 'message': {'lang': 'en-us', 'value': \"Property 'CarCode' of 'BusinessPartner' is invalid\"}}}\n"
     ]
    },
    {
     "name": "stderr",
     "output_type": "stream",
     "text": [
      "/usr/local/lib/python3.8/dist-packages/urllib3/connectionpool.py:1056: InsecureRequestWarning: Unverified HTTPS request is being made to host '192.168.250.10'. Adding certificate verification is strongly advised. See: https://urllib3.readthedocs.io/en/1.26.x/advanced-usage.html#ssl-warnings\n",
      "  warnings.warn(\n",
      "/usr/local/lib/python3.8/dist-packages/urllib3/connectionpool.py:1056: InsecureRequestWarning: Unverified HTTPS request is being made to host '192.168.250.10'. Adding certificate verification is strongly advised. See: https://urllib3.readthedocs.io/en/1.26.x/advanced-usage.html#ssl-warnings\n",
      "  warnings.warn(\n",
      "/usr/local/lib/python3.8/dist-packages/urllib3/connectionpool.py:1056: InsecureRequestWarning: Unverified HTTPS request is being made to host '192.168.250.10'. Adding certificate verification is strongly advised. See: https://urllib3.readthedocs.io/en/1.26.x/advanced-usage.html#ssl-warnings\n",
      "  warnings.warn(\n",
      "/usr/local/lib/python3.8/dist-packages/urllib3/connectionpool.py:1056: InsecureRequestWarning: Unverified HTTPS request is being made to host '192.168.250.10'. Adding certificate verification is strongly advised. See: https://urllib3.readthedocs.io/en/1.26.x/advanced-usage.html#ssl-warnings\n",
      "  warnings.warn(\n",
      "/usr/local/lib/python3.8/dist-packages/urllib3/connectionpool.py:1056: InsecureRequestWarning: Unverified HTTPS request is being made to host '192.168.250.10'. Adding certificate verification is strongly advised. See: https://urllib3.readthedocs.io/en/1.26.x/advanced-usage.html#ssl-warnings\n",
      "  warnings.warn(\n"
     ]
    },
    {
     "name": "stdout",
     "output_type": "stream",
     "text": [
      "{'error': {'code': -1000, 'message': {'lang': 'en-us', 'value': \"Property 'CarCode' of 'BusinessPartner' is invalid\"}}}\n",
      "{'error': {'code': -1000, 'message': {'lang': 'en-us', 'value': \"Property 'CarCode' of 'BusinessPartner' is invalid\"}}}\n",
      "{'error': {'code': -1000, 'message': {'lang': 'en-us', 'value': \"Property 'CarCode' of 'BusinessPartner' is invalid\"}}}\n",
      "{'error': {'code': -1000, 'message': {'lang': 'en-us', 'value': \"Property 'CarCode' of 'BusinessPartner' is invalid\"}}}\n",
      "{'error': {'code': -1000, 'message': {'lang': 'en-us', 'value': \"Property 'CarCode' of 'BusinessPartner' is invalid\"}}}\n",
      "{'error': {'code': -1000, 'message': {'lang': 'en-us', 'value': \"Property 'CarCode' of 'BusinessPartner' is invalid\"}}}\n"
     ]
    },
    {
     "name": "stderr",
     "output_type": "stream",
     "text": [
      "/usr/local/lib/python3.8/dist-packages/urllib3/connectionpool.py:1056: InsecureRequestWarning: Unverified HTTPS request is being made to host '192.168.250.10'. Adding certificate verification is strongly advised. See: https://urllib3.readthedocs.io/en/1.26.x/advanced-usage.html#ssl-warnings\n",
      "  warnings.warn(\n",
      "/usr/local/lib/python3.8/dist-packages/urllib3/connectionpool.py:1056: InsecureRequestWarning: Unverified HTTPS request is being made to host '192.168.250.10'. Adding certificate verification is strongly advised. See: https://urllib3.readthedocs.io/en/1.26.x/advanced-usage.html#ssl-warnings\n",
      "  warnings.warn(\n",
      "/usr/local/lib/python3.8/dist-packages/urllib3/connectionpool.py:1056: InsecureRequestWarning: Unverified HTTPS request is being made to host '192.168.250.10'. Adding certificate verification is strongly advised. See: https://urllib3.readthedocs.io/en/1.26.x/advanced-usage.html#ssl-warnings\n",
      "  warnings.warn(\n",
      "/usr/local/lib/python3.8/dist-packages/urllib3/connectionpool.py:1056: InsecureRequestWarning: Unverified HTTPS request is being made to host '192.168.250.10'. Adding certificate verification is strongly advised. See: https://urllib3.readthedocs.io/en/1.26.x/advanced-usage.html#ssl-warnings\n",
      "  warnings.warn(\n",
      "/usr/local/lib/python3.8/dist-packages/urllib3/connectionpool.py:1056: InsecureRequestWarning: Unverified HTTPS request is being made to host '192.168.250.10'. Adding certificate verification is strongly advised. See: https://urllib3.readthedocs.io/en/1.26.x/advanced-usage.html#ssl-warnings\n",
      "  warnings.warn(\n",
      "/usr/local/lib/python3.8/dist-packages/urllib3/connectionpool.py:1056: InsecureRequestWarning: Unverified HTTPS request is being made to host '192.168.250.10'. Adding certificate verification is strongly advised. See: https://urllib3.readthedocs.io/en/1.26.x/advanced-usage.html#ssl-warnings\n",
      "  warnings.warn(\n"
     ]
    },
    {
     "name": "stdout",
     "output_type": "stream",
     "text": [
      "{'error': {'code': -1000, 'message': {'lang': 'en-us', 'value': \"Property 'CarCode' of 'BusinessPartner' is invalid\"}}}\n",
      "{'error': {'code': -1000, 'message': {'lang': 'en-us', 'value': \"Property 'CarCode' of 'BusinessPartner' is invalid\"}}}\n",
      "{'error': {'code': -1000, 'message': {'lang': 'en-us', 'value': \"Property 'CarCode' of 'BusinessPartner' is invalid\"}}}\n",
      "{'error': {'code': -1000, 'message': {'lang': 'en-us', 'value': \"Property 'CarCode' of 'BusinessPartner' is invalid\"}}}\n",
      "{'error': {'code': -1000, 'message': {'lang': 'en-us', 'value': \"Property 'CarCode' of 'BusinessPartner' is invalid\"}}}\n",
      "{'error': {'code': -1000, 'message': {'lang': 'en-us', 'value': \"Property 'CarCode' of 'BusinessPartner' is invalid\"}}}\n"
     ]
    },
    {
     "name": "stderr",
     "output_type": "stream",
     "text": [
      "/usr/local/lib/python3.8/dist-packages/urllib3/connectionpool.py:1056: InsecureRequestWarning: Unverified HTTPS request is being made to host '192.168.250.10'. Adding certificate verification is strongly advised. See: https://urllib3.readthedocs.io/en/1.26.x/advanced-usage.html#ssl-warnings\n",
      "  warnings.warn(\n",
      "/usr/local/lib/python3.8/dist-packages/urllib3/connectionpool.py:1056: InsecureRequestWarning: Unverified HTTPS request is being made to host '192.168.250.10'. Adding certificate verification is strongly advised. See: https://urllib3.readthedocs.io/en/1.26.x/advanced-usage.html#ssl-warnings\n",
      "  warnings.warn(\n",
      "/usr/local/lib/python3.8/dist-packages/urllib3/connectionpool.py:1056: InsecureRequestWarning: Unverified HTTPS request is being made to host '192.168.250.10'. Adding certificate verification is strongly advised. See: https://urllib3.readthedocs.io/en/1.26.x/advanced-usage.html#ssl-warnings\n",
      "  warnings.warn(\n",
      "/usr/local/lib/python3.8/dist-packages/urllib3/connectionpool.py:1056: InsecureRequestWarning: Unverified HTTPS request is being made to host '192.168.250.10'. Adding certificate verification is strongly advised. See: https://urllib3.readthedocs.io/en/1.26.x/advanced-usage.html#ssl-warnings\n",
      "  warnings.warn(\n",
      "/usr/local/lib/python3.8/dist-packages/urllib3/connectionpool.py:1056: InsecureRequestWarning: Unverified HTTPS request is being made to host '192.168.250.10'. Adding certificate verification is strongly advised. See: https://urllib3.readthedocs.io/en/1.26.x/advanced-usage.html#ssl-warnings\n",
      "  warnings.warn(\n",
      "/usr/local/lib/python3.8/dist-packages/urllib3/connectionpool.py:1056: InsecureRequestWarning: Unverified HTTPS request is being made to host '192.168.250.10'. Adding certificate verification is strongly advised. See: https://urllib3.readthedocs.io/en/1.26.x/advanced-usage.html#ssl-warnings\n",
      "  warnings.warn(\n"
     ]
    },
    {
     "name": "stdout",
     "output_type": "stream",
     "text": [
      "{'error': {'code': -1000, 'message': {'lang': 'en-us', 'value': \"Property 'CarCode' of 'BusinessPartner' is invalid\"}}}\n",
      "{'error': {'code': -1000, 'message': {'lang': 'en-us', 'value': \"Property 'CarCode' of 'BusinessPartner' is invalid\"}}}\n",
      "{'error': {'code': -1000, 'message': {'lang': 'en-us', 'value': \"Property 'CarCode' of 'BusinessPartner' is invalid\"}}}\n",
      "{'error': {'code': -1000, 'message': {'lang': 'en-us', 'value': \"Property 'CarCode' of 'BusinessPartner' is invalid\"}}}\n",
      "{'error': {'code': -1000, 'message': {'lang': 'en-us', 'value': \"Property 'CarCode' of 'BusinessPartner' is invalid\"}}}\n",
      "{'error': {'code': -1000, 'message': {'lang': 'en-us', 'value': \"Property 'CarCode' of 'BusinessPartner' is invalid\"}}}\n"
     ]
    },
    {
     "name": "stderr",
     "output_type": "stream",
     "text": [
      "/usr/local/lib/python3.8/dist-packages/urllib3/connectionpool.py:1056: InsecureRequestWarning: Unverified HTTPS request is being made to host '192.168.250.10'. Adding certificate verification is strongly advised. See: https://urllib3.readthedocs.io/en/1.26.x/advanced-usage.html#ssl-warnings\n",
      "  warnings.warn(\n",
      "/usr/local/lib/python3.8/dist-packages/urllib3/connectionpool.py:1056: InsecureRequestWarning: Unverified HTTPS request is being made to host '192.168.250.10'. Adding certificate verification is strongly advised. See: https://urllib3.readthedocs.io/en/1.26.x/advanced-usage.html#ssl-warnings\n",
      "  warnings.warn(\n",
      "/usr/local/lib/python3.8/dist-packages/urllib3/connectionpool.py:1056: InsecureRequestWarning: Unverified HTTPS request is being made to host '192.168.250.10'. Adding certificate verification is strongly advised. See: https://urllib3.readthedocs.io/en/1.26.x/advanced-usage.html#ssl-warnings\n",
      "  warnings.warn(\n",
      "/usr/local/lib/python3.8/dist-packages/urllib3/connectionpool.py:1056: InsecureRequestWarning: Unverified HTTPS request is being made to host '192.168.250.10'. Adding certificate verification is strongly advised. See: https://urllib3.readthedocs.io/en/1.26.x/advanced-usage.html#ssl-warnings\n",
      "  warnings.warn(\n",
      "/usr/local/lib/python3.8/dist-packages/urllib3/connectionpool.py:1056: InsecureRequestWarning: Unverified HTTPS request is being made to host '192.168.250.10'. Adding certificate verification is strongly advised. See: https://urllib3.readthedocs.io/en/1.26.x/advanced-usage.html#ssl-warnings\n",
      "  warnings.warn(\n",
      "/usr/local/lib/python3.8/dist-packages/urllib3/connectionpool.py:1056: InsecureRequestWarning: Unverified HTTPS request is being made to host '192.168.250.10'. Adding certificate verification is strongly advised. See: https://urllib3.readthedocs.io/en/1.26.x/advanced-usage.html#ssl-warnings\n",
      "  warnings.warn(\n"
     ]
    },
    {
     "name": "stdout",
     "output_type": "stream",
     "text": [
      "{'error': {'code': -1000, 'message': {'lang': 'en-us', 'value': \"Property 'CarCode' of 'BusinessPartner' is invalid\"}}}\n",
      "{'error': {'code': -1000, 'message': {'lang': 'en-us', 'value': \"Property 'CarCode' of 'BusinessPartner' is invalid\"}}}\n",
      "{'error': {'code': -1000, 'message': {'lang': 'en-us', 'value': \"Property 'CarCode' of 'BusinessPartner' is invalid\"}}}\n",
      "{'error': {'code': -1000, 'message': {'lang': 'en-us', 'value': \"Property 'CarCode' of 'BusinessPartner' is invalid\"}}}\n",
      "{'error': {'code': -1000, 'message': {'lang': 'en-us', 'value': \"Property 'CarCode' of 'BusinessPartner' is invalid\"}}}\n",
      "{'error': {'code': -1000, 'message': {'lang': 'en-us', 'value': \"Property 'CarCode' of 'BusinessPartner' is invalid\"}}}\n"
     ]
    },
    {
     "name": "stderr",
     "output_type": "stream",
     "text": [
      "/usr/local/lib/python3.8/dist-packages/urllib3/connectionpool.py:1056: InsecureRequestWarning: Unverified HTTPS request is being made to host '192.168.250.10'. Adding certificate verification is strongly advised. See: https://urllib3.readthedocs.io/en/1.26.x/advanced-usage.html#ssl-warnings\n",
      "  warnings.warn(\n",
      "/usr/local/lib/python3.8/dist-packages/urllib3/connectionpool.py:1056: InsecureRequestWarning: Unverified HTTPS request is being made to host '192.168.250.10'. Adding certificate verification is strongly advised. See: https://urllib3.readthedocs.io/en/1.26.x/advanced-usage.html#ssl-warnings\n",
      "  warnings.warn(\n",
      "/usr/local/lib/python3.8/dist-packages/urllib3/connectionpool.py:1056: InsecureRequestWarning: Unverified HTTPS request is being made to host '192.168.250.10'. Adding certificate verification is strongly advised. See: https://urllib3.readthedocs.io/en/1.26.x/advanced-usage.html#ssl-warnings\n",
      "  warnings.warn(\n",
      "/usr/local/lib/python3.8/dist-packages/urllib3/connectionpool.py:1056: InsecureRequestWarning: Unverified HTTPS request is being made to host '192.168.250.10'. Adding certificate verification is strongly advised. See: https://urllib3.readthedocs.io/en/1.26.x/advanced-usage.html#ssl-warnings\n",
      "  warnings.warn(\n",
      "/usr/local/lib/python3.8/dist-packages/urllib3/connectionpool.py:1056: InsecureRequestWarning: Unverified HTTPS request is being made to host '192.168.250.10'. Adding certificate verification is strongly advised. See: https://urllib3.readthedocs.io/en/1.26.x/advanced-usage.html#ssl-warnings\n",
      "  warnings.warn(\n"
     ]
    },
    {
     "name": "stdout",
     "output_type": "stream",
     "text": [
      "{'error': {'code': -1000, 'message': {'lang': 'en-us', 'value': \"Property 'CarCode' of 'BusinessPartner' is invalid\"}}}\n",
      "{'error': {'code': -1000, 'message': {'lang': 'en-us', 'value': \"Property 'CarCode' of 'BusinessPartner' is invalid\"}}}\n",
      "{'error': {'code': -1000, 'message': {'lang': 'en-us', 'value': \"Property 'CarCode' of 'BusinessPartner' is invalid\"}}}\n",
      "{'error': {'code': -1000, 'message': {'lang': 'en-us', 'value': \"Property 'CarCode' of 'BusinessPartner' is invalid\"}}}\n",
      "{'error': {'code': -1000, 'message': {'lang': 'en-us', 'value': \"Property 'CarCode' of 'BusinessPartner' is invalid\"}}}\n",
      "{'error': {'code': -1000, 'message': {'lang': 'en-us', 'value': \"Property 'CarCode' of 'BusinessPartner' is invalid\"}}}\n",
      "{'error': {'code': -1000, 'message': {'lang': 'en-us', 'value': \"Property 'CarCode' of 'BusinessPartner' is invalid\"}}}\n"
     ]
    },
    {
     "name": "stderr",
     "output_type": "stream",
     "text": [
      "/usr/local/lib/python3.8/dist-packages/urllib3/connectionpool.py:1056: InsecureRequestWarning: Unverified HTTPS request is being made to host '192.168.250.10'. Adding certificate verification is strongly advised. See: https://urllib3.readthedocs.io/en/1.26.x/advanced-usage.html#ssl-warnings\n",
      "  warnings.warn(\n",
      "/usr/local/lib/python3.8/dist-packages/urllib3/connectionpool.py:1056: InsecureRequestWarning: Unverified HTTPS request is being made to host '192.168.250.10'. Adding certificate verification is strongly advised. See: https://urllib3.readthedocs.io/en/1.26.x/advanced-usage.html#ssl-warnings\n",
      "  warnings.warn(\n",
      "/usr/local/lib/python3.8/dist-packages/urllib3/connectionpool.py:1056: InsecureRequestWarning: Unverified HTTPS request is being made to host '192.168.250.10'. Adding certificate verification is strongly advised. See: https://urllib3.readthedocs.io/en/1.26.x/advanced-usage.html#ssl-warnings\n",
      "  warnings.warn(\n",
      "/usr/local/lib/python3.8/dist-packages/urllib3/connectionpool.py:1056: InsecureRequestWarning: Unverified HTTPS request is being made to host '192.168.250.10'. Adding certificate verification is strongly advised. See: https://urllib3.readthedocs.io/en/1.26.x/advanced-usage.html#ssl-warnings\n",
      "  warnings.warn(\n",
      "/usr/local/lib/python3.8/dist-packages/urllib3/connectionpool.py:1056: InsecureRequestWarning: Unverified HTTPS request is being made to host '192.168.250.10'. Adding certificate verification is strongly advised. See: https://urllib3.readthedocs.io/en/1.26.x/advanced-usage.html#ssl-warnings\n",
      "  warnings.warn(\n",
      "/usr/local/lib/python3.8/dist-packages/urllib3/connectionpool.py:1056: InsecureRequestWarning: Unverified HTTPS request is being made to host '192.168.250.10'. Adding certificate verification is strongly advised. See: https://urllib3.readthedocs.io/en/1.26.x/advanced-usage.html#ssl-warnings\n",
      "  warnings.warn(\n",
      "/usr/local/lib/python3.8/dist-packages/urllib3/connectionpool.py:1056: InsecureRequestWarning: Unverified HTTPS request is being made to host '192.168.250.10'. Adding certificate verification is strongly advised. See: https://urllib3.readthedocs.io/en/1.26.x/advanced-usage.html#ssl-warnings\n",
      "  warnings.warn(\n",
      "/usr/local/lib/python3.8/dist-packages/urllib3/connectionpool.py:1056: InsecureRequestWarning: Unverified HTTPS request is being made to host '192.168.250.10'. Adding certificate verification is strongly advised. See: https://urllib3.readthedocs.io/en/1.26.x/advanced-usage.html#ssl-warnings\n",
      "  warnings.warn(\n",
      "/usr/local/lib/python3.8/dist-packages/urllib3/connectionpool.py:1056: InsecureRequestWarning: Unverified HTTPS request is being made to host '192.168.250.10'. Adding certificate verification is strongly advised. See: https://urllib3.readthedocs.io/en/1.26.x/advanced-usage.html#ssl-warnings\n",
      "  warnings.warn(\n"
     ]
    },
    {
     "name": "stdout",
     "output_type": "stream",
     "text": [
      "{'error': {'code': -1000, 'message': {'lang': 'en-us', 'value': \"Property 'CarCode' of 'BusinessPartner' is invalid\"}}}\n",
      "{'error': {'code': -1000, 'message': {'lang': 'en-us', 'value': \"Property 'CarCode' of 'BusinessPartner' is invalid\"}}}\n",
      "{'error': {'code': -1000, 'message': {'lang': 'en-us', 'value': \"Property 'CarCode' of 'BusinessPartner' is invalid\"}}}\n",
      "{'error': {'code': -1000, 'message': {'lang': 'en-us', 'value': \"Property 'CarCode' of 'BusinessPartner' is invalid\"}}}\n",
      "{'error': {'code': -1000, 'message': {'lang': 'en-us', 'value': \"Property 'CarCode' of 'BusinessPartner' is invalid\"}}}\n",
      "{'error': {'code': -1000, 'message': {'lang': 'en-us', 'value': \"Property 'CarCode' of 'BusinessPartner' is invalid\"}}}\n",
      "{'error': {'code': -1000, 'message': {'lang': 'en-us', 'value': \"Property 'CarCode' of 'BusinessPartner' is invalid\"}}}\n",
      "{'error': {'code': -1000, 'message': {'lang': 'en-us', 'value': \"Property 'CarCode' of 'BusinessPartner' is invalid\"}}}\n"
     ]
    },
    {
     "name": "stderr",
     "output_type": "stream",
     "text": [
      "/usr/local/lib/python3.8/dist-packages/urllib3/connectionpool.py:1056: InsecureRequestWarning: Unverified HTTPS request is being made to host '192.168.250.10'. Adding certificate verification is strongly advised. See: https://urllib3.readthedocs.io/en/1.26.x/advanced-usage.html#ssl-warnings\n",
      "  warnings.warn(\n",
      "/usr/local/lib/python3.8/dist-packages/urllib3/connectionpool.py:1056: InsecureRequestWarning: Unverified HTTPS request is being made to host '192.168.250.10'. Adding certificate verification is strongly advised. See: https://urllib3.readthedocs.io/en/1.26.x/advanced-usage.html#ssl-warnings\n",
      "  warnings.warn(\n",
      "/usr/local/lib/python3.8/dist-packages/urllib3/connectionpool.py:1056: InsecureRequestWarning: Unverified HTTPS request is being made to host '192.168.250.10'. Adding certificate verification is strongly advised. See: https://urllib3.readthedocs.io/en/1.26.x/advanced-usage.html#ssl-warnings\n",
      "  warnings.warn(\n",
      "/usr/local/lib/python3.8/dist-packages/urllib3/connectionpool.py:1056: InsecureRequestWarning: Unverified HTTPS request is being made to host '192.168.250.10'. Adding certificate verification is strongly advised. See: https://urllib3.readthedocs.io/en/1.26.x/advanced-usage.html#ssl-warnings\n",
      "  warnings.warn(\n",
      "/usr/local/lib/python3.8/dist-packages/urllib3/connectionpool.py:1056: InsecureRequestWarning: Unverified HTTPS request is being made to host '192.168.250.10'. Adding certificate verification is strongly advised. See: https://urllib3.readthedocs.io/en/1.26.x/advanced-usage.html#ssl-warnings\n",
      "  warnings.warn(\n",
      "/usr/local/lib/python3.8/dist-packages/urllib3/connectionpool.py:1056: InsecureRequestWarning: Unverified HTTPS request is being made to host '192.168.250.10'. Adding certificate verification is strongly advised. See: https://urllib3.readthedocs.io/en/1.26.x/advanced-usage.html#ssl-warnings\n",
      "  warnings.warn(\n",
      "/usr/local/lib/python3.8/dist-packages/urllib3/connectionpool.py:1056: InsecureRequestWarning: Unverified HTTPS request is being made to host '192.168.250.10'. Adding certificate verification is strongly advised. See: https://urllib3.readthedocs.io/en/1.26.x/advanced-usage.html#ssl-warnings\n",
      "  warnings.warn(\n"
     ]
    },
    {
     "name": "stdout",
     "output_type": "stream",
     "text": [
      "{'error': {'code': -1000, 'message': {'lang': 'en-us', 'value': \"Property 'CarCode' of 'BusinessPartner' is invalid\"}}}\n",
      "{'error': {'code': -1000, 'message': {'lang': 'en-us', 'value': \"Property 'CarCode' of 'BusinessPartner' is invalid\"}}}\n",
      "{'error': {'code': -1000, 'message': {'lang': 'en-us', 'value': \"Property 'CarCode' of 'BusinessPartner' is invalid\"}}}\n",
      "{'error': {'code': -1000, 'message': {'lang': 'en-us', 'value': \"Property 'CarCode' of 'BusinessPartner' is invalid\"}}}\n",
      "{'error': {'code': -1000, 'message': {'lang': 'en-us', 'value': \"Property 'CarCode' of 'BusinessPartner' is invalid\"}}}\n",
      "{'error': {'code': -1000, 'message': {'lang': 'en-us', 'value': \"Property 'CarCode' of 'BusinessPartner' is invalid\"}}}\n",
      "{'error': {'code': -1000, 'message': {'lang': 'en-us', 'value': \"Property 'CarCode' of 'BusinessPartner' is invalid\"}}}\n"
     ]
    },
    {
     "name": "stderr",
     "output_type": "stream",
     "text": [
      "/usr/local/lib/python3.8/dist-packages/urllib3/connectionpool.py:1056: InsecureRequestWarning: Unverified HTTPS request is being made to host '192.168.250.10'. Adding certificate verification is strongly advised. See: https://urllib3.readthedocs.io/en/1.26.x/advanced-usage.html#ssl-warnings\n",
      "  warnings.warn(\n",
      "/usr/local/lib/python3.8/dist-packages/urllib3/connectionpool.py:1056: InsecureRequestWarning: Unverified HTTPS request is being made to host '192.168.250.10'. Adding certificate verification is strongly advised. See: https://urllib3.readthedocs.io/en/1.26.x/advanced-usage.html#ssl-warnings\n",
      "  warnings.warn(\n",
      "/usr/local/lib/python3.8/dist-packages/urllib3/connectionpool.py:1056: InsecureRequestWarning: Unverified HTTPS request is being made to host '192.168.250.10'. Adding certificate verification is strongly advised. See: https://urllib3.readthedocs.io/en/1.26.x/advanced-usage.html#ssl-warnings\n",
      "  warnings.warn(\n",
      "/usr/local/lib/python3.8/dist-packages/urllib3/connectionpool.py:1056: InsecureRequestWarning: Unverified HTTPS request is being made to host '192.168.250.10'. Adding certificate verification is strongly advised. See: https://urllib3.readthedocs.io/en/1.26.x/advanced-usage.html#ssl-warnings\n",
      "  warnings.warn(\n",
      "/usr/local/lib/python3.8/dist-packages/urllib3/connectionpool.py:1056: InsecureRequestWarning: Unverified HTTPS request is being made to host '192.168.250.10'. Adding certificate verification is strongly advised. See: https://urllib3.readthedocs.io/en/1.26.x/advanced-usage.html#ssl-warnings\n",
      "  warnings.warn(\n",
      "/usr/local/lib/python3.8/dist-packages/urllib3/connectionpool.py:1056: InsecureRequestWarning: Unverified HTTPS request is being made to host '192.168.250.10'. Adding certificate verification is strongly advised. See: https://urllib3.readthedocs.io/en/1.26.x/advanced-usage.html#ssl-warnings\n",
      "  warnings.warn(\n",
      "/usr/local/lib/python3.8/dist-packages/urllib3/connectionpool.py:1056: InsecureRequestWarning: Unverified HTTPS request is being made to host '192.168.250.10'. Adding certificate verification is strongly advised. See: https://urllib3.readthedocs.io/en/1.26.x/advanced-usage.html#ssl-warnings\n",
      "  warnings.warn(\n",
      "/usr/local/lib/python3.8/dist-packages/urllib3/connectionpool.py:1056: InsecureRequestWarning: Unverified HTTPS request is being made to host '192.168.250.10'. Adding certificate verification is strongly advised. See: https://urllib3.readthedocs.io/en/1.26.x/advanced-usage.html#ssl-warnings\n",
      "  warnings.warn(\n"
     ]
    },
    {
     "name": "stdout",
     "output_type": "stream",
     "text": [
      "{'error': {'code': -1000, 'message': {'lang': 'en-us', 'value': \"Property 'CarCode' of 'BusinessPartner' is invalid\"}}}\n",
      "{'error': {'code': -1000, 'message': {'lang': 'en-us', 'value': \"Property 'CarCode' of 'BusinessPartner' is invalid\"}}}\n",
      "{'error': {'code': -1000, 'message': {'lang': 'en-us', 'value': \"Property 'CarCode' of 'BusinessPartner' is invalid\"}}}\n",
      "{'error': {'code': -1000, 'message': {'lang': 'en-us', 'value': \"Property 'CarCode' of 'BusinessPartner' is invalid\"}}}\n",
      "{'error': {'code': -1000, 'message': {'lang': 'en-us', 'value': \"Property 'CarCode' of 'BusinessPartner' is invalid\"}}}\n",
      "{'error': {'code': -1000, 'message': {'lang': 'en-us', 'value': \"Property 'CarCode' of 'BusinessPartner' is invalid\"}}}\n",
      "{'error': {'code': -1000, 'message': {'lang': 'en-us', 'value': \"Property 'CarCode' of 'BusinessPartner' is invalid\"}}}\n",
      "{'error': {'code': -1000, 'message': {'lang': 'en-us', 'value': \"Property 'CarCode' of 'BusinessPartner' is invalid\"}}}\n"
     ]
    },
    {
     "name": "stderr",
     "output_type": "stream",
     "text": [
      "/usr/local/lib/python3.8/dist-packages/urllib3/connectionpool.py:1056: InsecureRequestWarning: Unverified HTTPS request is being made to host '192.168.250.10'. Adding certificate verification is strongly advised. See: https://urllib3.readthedocs.io/en/1.26.x/advanced-usage.html#ssl-warnings\n",
      "  warnings.warn(\n",
      "/usr/local/lib/python3.8/dist-packages/urllib3/connectionpool.py:1056: InsecureRequestWarning: Unverified HTTPS request is being made to host '192.168.250.10'. Adding certificate verification is strongly advised. See: https://urllib3.readthedocs.io/en/1.26.x/advanced-usage.html#ssl-warnings\n",
      "  warnings.warn(\n",
      "/usr/local/lib/python3.8/dist-packages/urllib3/connectionpool.py:1056: InsecureRequestWarning: Unverified HTTPS request is being made to host '192.168.250.10'. Adding certificate verification is strongly advised. See: https://urllib3.readthedocs.io/en/1.26.x/advanced-usage.html#ssl-warnings\n",
      "  warnings.warn(\n",
      "/usr/local/lib/python3.8/dist-packages/urllib3/connectionpool.py:1056: InsecureRequestWarning: Unverified HTTPS request is being made to host '192.168.250.10'. Adding certificate verification is strongly advised. See: https://urllib3.readthedocs.io/en/1.26.x/advanced-usage.html#ssl-warnings\n",
      "  warnings.warn(\n",
      "/usr/local/lib/python3.8/dist-packages/urllib3/connectionpool.py:1056: InsecureRequestWarning: Unverified HTTPS request is being made to host '192.168.250.10'. Adding certificate verification is strongly advised. See: https://urllib3.readthedocs.io/en/1.26.x/advanced-usage.html#ssl-warnings\n",
      "  warnings.warn(\n",
      "/usr/local/lib/python3.8/dist-packages/urllib3/connectionpool.py:1056: InsecureRequestWarning: Unverified HTTPS request is being made to host '192.168.250.10'. Adding certificate verification is strongly advised. See: https://urllib3.readthedocs.io/en/1.26.x/advanced-usage.html#ssl-warnings\n",
      "  warnings.warn(\n",
      "/usr/local/lib/python3.8/dist-packages/urllib3/connectionpool.py:1056: InsecureRequestWarning: Unverified HTTPS request is being made to host '192.168.250.10'. Adding certificate verification is strongly advised. See: https://urllib3.readthedocs.io/en/1.26.x/advanced-usage.html#ssl-warnings\n",
      "  warnings.warn(\n"
     ]
    },
    {
     "name": "stdout",
     "output_type": "stream",
     "text": [
      "{'error': {'code': -1000, 'message': {'lang': 'en-us', 'value': \"Property 'CarCode' of 'BusinessPartner' is invalid\"}}}\n",
      "{'error': {'code': -1000, 'message': {'lang': 'en-us', 'value': \"Property 'CarCode' of 'BusinessPartner' is invalid\"}}}\n",
      "{'error': {'code': -1000, 'message': {'lang': 'en-us', 'value': \"Property 'CarCode' of 'BusinessPartner' is invalid\"}}}\n",
      "{'error': {'code': -1000, 'message': {'lang': 'en-us', 'value': \"Property 'CarCode' of 'BusinessPartner' is invalid\"}}}\n",
      "{'error': {'code': -1000, 'message': {'lang': 'en-us', 'value': \"Property 'CarCode' of 'BusinessPartner' is invalid\"}}}\n",
      "{'error': {'code': -1000, 'message': {'lang': 'en-us', 'value': \"Property 'CarCode' of 'BusinessPartner' is invalid\"}}}\n",
      "{'error': {'code': -1000, 'message': {'lang': 'en-us', 'value': \"Property 'CarCode' of 'BusinessPartner' is invalid\"}}}\n"
     ]
    },
    {
     "name": "stderr",
     "output_type": "stream",
     "text": [
      "/usr/local/lib/python3.8/dist-packages/urllib3/connectionpool.py:1056: InsecureRequestWarning: Unverified HTTPS request is being made to host '192.168.250.10'. Adding certificate verification is strongly advised. See: https://urllib3.readthedocs.io/en/1.26.x/advanced-usage.html#ssl-warnings\n",
      "  warnings.warn(\n",
      "/usr/local/lib/python3.8/dist-packages/urllib3/connectionpool.py:1056: InsecureRequestWarning: Unverified HTTPS request is being made to host '192.168.250.10'. Adding certificate verification is strongly advised. See: https://urllib3.readthedocs.io/en/1.26.x/advanced-usage.html#ssl-warnings\n",
      "  warnings.warn(\n",
      "/usr/local/lib/python3.8/dist-packages/urllib3/connectionpool.py:1056: InsecureRequestWarning: Unverified HTTPS request is being made to host '192.168.250.10'. Adding certificate verification is strongly advised. See: https://urllib3.readthedocs.io/en/1.26.x/advanced-usage.html#ssl-warnings\n",
      "  warnings.warn(\n",
      "/usr/local/lib/python3.8/dist-packages/urllib3/connectionpool.py:1056: InsecureRequestWarning: Unverified HTTPS request is being made to host '192.168.250.10'. Adding certificate verification is strongly advised. See: https://urllib3.readthedocs.io/en/1.26.x/advanced-usage.html#ssl-warnings\n",
      "  warnings.warn(\n",
      "/usr/local/lib/python3.8/dist-packages/urllib3/connectionpool.py:1056: InsecureRequestWarning: Unverified HTTPS request is being made to host '192.168.250.10'. Adding certificate verification is strongly advised. See: https://urllib3.readthedocs.io/en/1.26.x/advanced-usage.html#ssl-warnings\n",
      "  warnings.warn(\n",
      "/usr/local/lib/python3.8/dist-packages/urllib3/connectionpool.py:1056: InsecureRequestWarning: Unverified HTTPS request is being made to host '192.168.250.10'. Adding certificate verification is strongly advised. See: https://urllib3.readthedocs.io/en/1.26.x/advanced-usage.html#ssl-warnings\n",
      "  warnings.warn(\n"
     ]
    },
    {
     "name": "stdout",
     "output_type": "stream",
     "text": [
      "{'error': {'code': -1000, 'message': {'lang': 'en-us', 'value': \"Property 'CarCode' of 'BusinessPartner' is invalid\"}}}\n",
      "{'error': {'code': -1000, 'message': {'lang': 'en-us', 'value': \"Property 'CarCode' of 'BusinessPartner' is invalid\"}}}\n",
      "{'error': {'code': -1000, 'message': {'lang': 'en-us', 'value': \"Property 'CarCode' of 'BusinessPartner' is invalid\"}}}\n",
      "{'error': {'code': -1000, 'message': {'lang': 'en-us', 'value': \"Property 'CarCode' of 'BusinessPartner' is invalid\"}}}\n",
      "{'error': {'code': -1000, 'message': {'lang': 'en-us', 'value': \"Property 'CarCode' of 'BusinessPartner' is invalid\"}}}\n",
      "{'error': {'code': -1000, 'message': {'lang': 'en-us', 'value': \"Property 'CarCode' of 'BusinessPartner' is invalid\"}}}\n",
      "{'error': {'code': -1000, 'message': {'lang': 'en-us', 'value': \"Property 'CarCode' of 'BusinessPartner' is invalid\"}}}\n",
      "{'error': {'code': -1000, 'message': {'lang': 'en-us', 'value': \"Property 'CarCode' of 'BusinessPartner' is invalid\"}}}\n"
     ]
    },
    {
     "name": "stderr",
     "output_type": "stream",
     "text": [
      "/usr/local/lib/python3.8/dist-packages/urllib3/connectionpool.py:1056: InsecureRequestWarning: Unverified HTTPS request is being made to host '192.168.250.10'. Adding certificate verification is strongly advised. See: https://urllib3.readthedocs.io/en/1.26.x/advanced-usage.html#ssl-warnings\n",
      "  warnings.warn(\n",
      "/usr/local/lib/python3.8/dist-packages/urllib3/connectionpool.py:1056: InsecureRequestWarning: Unverified HTTPS request is being made to host '192.168.250.10'. Adding certificate verification is strongly advised. See: https://urllib3.readthedocs.io/en/1.26.x/advanced-usage.html#ssl-warnings\n",
      "  warnings.warn(\n",
      "/usr/local/lib/python3.8/dist-packages/urllib3/connectionpool.py:1056: InsecureRequestWarning: Unverified HTTPS request is being made to host '192.168.250.10'. Adding certificate verification is strongly advised. See: https://urllib3.readthedocs.io/en/1.26.x/advanced-usage.html#ssl-warnings\n",
      "  warnings.warn(\n",
      "/usr/local/lib/python3.8/dist-packages/urllib3/connectionpool.py:1056: InsecureRequestWarning: Unverified HTTPS request is being made to host '192.168.250.10'. Adding certificate verification is strongly advised. See: https://urllib3.readthedocs.io/en/1.26.x/advanced-usage.html#ssl-warnings\n",
      "  warnings.warn(\n",
      "/usr/local/lib/python3.8/dist-packages/urllib3/connectionpool.py:1056: InsecureRequestWarning: Unverified HTTPS request is being made to host '192.168.250.10'. Adding certificate verification is strongly advised. See: https://urllib3.readthedocs.io/en/1.26.x/advanced-usage.html#ssl-warnings\n",
      "  warnings.warn(\n",
      "/usr/local/lib/python3.8/dist-packages/urllib3/connectionpool.py:1056: InsecureRequestWarning: Unverified HTTPS request is being made to host '192.168.250.10'. Adding certificate verification is strongly advised. See: https://urllib3.readthedocs.io/en/1.26.x/advanced-usage.html#ssl-warnings\n",
      "  warnings.warn(\n",
      "/usr/local/lib/python3.8/dist-packages/urllib3/connectionpool.py:1056: InsecureRequestWarning: Unverified HTTPS request is being made to host '192.168.250.10'. Adding certificate verification is strongly advised. See: https://urllib3.readthedocs.io/en/1.26.x/advanced-usage.html#ssl-warnings\n",
      "  warnings.warn(\n"
     ]
    },
    {
     "name": "stdout",
     "output_type": "stream",
     "text": [
      "{'error': {'code': -1000, 'message': {'lang': 'en-us', 'value': \"Property 'CarCode' of 'BusinessPartner' is invalid\"}}}\n",
      "{'error': {'code': -1000, 'message': {'lang': 'en-us', 'value': \"Property 'CarCode' of 'BusinessPartner' is invalid\"}}}\n",
      "{'error': {'code': -1000, 'message': {'lang': 'en-us', 'value': \"Property 'CarCode' of 'BusinessPartner' is invalid\"}}}\n",
      "{'error': {'code': -1000, 'message': {'lang': 'en-us', 'value': \"Property 'CarCode' of 'BusinessPartner' is invalid\"}}}\n",
      "{'error': {'code': -1000, 'message': {'lang': 'en-us', 'value': \"Property 'CarCode' of 'BusinessPartner' is invalid\"}}}\n"
     ]
    },
    {
     "name": "stderr",
     "output_type": "stream",
     "text": [
      "/usr/local/lib/python3.8/dist-packages/urllib3/connectionpool.py:1056: InsecureRequestWarning: Unverified HTTPS request is being made to host '192.168.250.10'. Adding certificate verification is strongly advised. See: https://urllib3.readthedocs.io/en/1.26.x/advanced-usage.html#ssl-warnings\n",
      "  warnings.warn(\n",
      "/usr/local/lib/python3.8/dist-packages/urllib3/connectionpool.py:1056: InsecureRequestWarning: Unverified HTTPS request is being made to host '192.168.250.10'. Adding certificate verification is strongly advised. See: https://urllib3.readthedocs.io/en/1.26.x/advanced-usage.html#ssl-warnings\n",
      "  warnings.warn(\n",
      "/usr/local/lib/python3.8/dist-packages/urllib3/connectionpool.py:1056: InsecureRequestWarning: Unverified HTTPS request is being made to host '192.168.250.10'. Adding certificate verification is strongly advised. See: https://urllib3.readthedocs.io/en/1.26.x/advanced-usage.html#ssl-warnings\n",
      "  warnings.warn(\n",
      "/usr/local/lib/python3.8/dist-packages/urllib3/connectionpool.py:1056: InsecureRequestWarning: Unverified HTTPS request is being made to host '192.168.250.10'. Adding certificate verification is strongly advised. See: https://urllib3.readthedocs.io/en/1.26.x/advanced-usage.html#ssl-warnings\n",
      "  warnings.warn(\n",
      "/usr/local/lib/python3.8/dist-packages/urllib3/connectionpool.py:1056: InsecureRequestWarning: Unverified HTTPS request is being made to host '192.168.250.10'. Adding certificate verification is strongly advised. See: https://urllib3.readthedocs.io/en/1.26.x/advanced-usage.html#ssl-warnings\n",
      "  warnings.warn(\n",
      "/usr/local/lib/python3.8/dist-packages/urllib3/connectionpool.py:1056: InsecureRequestWarning: Unverified HTTPS request is being made to host '192.168.250.10'. Adding certificate verification is strongly advised. See: https://urllib3.readthedocs.io/en/1.26.x/advanced-usage.html#ssl-warnings\n",
      "  warnings.warn(\n"
     ]
    },
    {
     "name": "stdout",
     "output_type": "stream",
     "text": [
      "{'error': {'code': -1000, 'message': {'lang': 'en-us', 'value': \"Property 'CarCode' of 'BusinessPartner' is invalid\"}}}\n",
      "{'error': {'code': -1000, 'message': {'lang': 'en-us', 'value': \"Property 'CarCode' of 'BusinessPartner' is invalid\"}}}\n",
      "{'error': {'code': -1000, 'message': {'lang': 'en-us', 'value': \"Property 'CarCode' of 'BusinessPartner' is invalid\"}}}\n",
      "{'error': {'code': -1000, 'message': {'lang': 'en-us', 'value': \"Property 'CarCode' of 'BusinessPartner' is invalid\"}}}\n",
      "{'error': {'code': -1000, 'message': {'lang': 'en-us', 'value': \"Property 'CarCode' of 'BusinessPartner' is invalid\"}}}\n",
      "{'error': {'code': -1000, 'message': {'lang': 'en-us', 'value': \"Property 'CarCode' of 'BusinessPartner' is invalid\"}}}\n",
      "{'error': {'code': -1000, 'message': {'lang': 'en-us', 'value': \"Property 'CarCode' of 'BusinessPartner' is invalid\"}}}\n"
     ]
    },
    {
     "name": "stderr",
     "output_type": "stream",
     "text": [
      "/usr/local/lib/python3.8/dist-packages/urllib3/connectionpool.py:1056: InsecureRequestWarning: Unverified HTTPS request is being made to host '192.168.250.10'. Adding certificate verification is strongly advised. See: https://urllib3.readthedocs.io/en/1.26.x/advanced-usage.html#ssl-warnings\n",
      "  warnings.warn(\n",
      "/usr/local/lib/python3.8/dist-packages/urllib3/connectionpool.py:1056: InsecureRequestWarning: Unverified HTTPS request is being made to host '192.168.250.10'. Adding certificate verification is strongly advised. See: https://urllib3.readthedocs.io/en/1.26.x/advanced-usage.html#ssl-warnings\n",
      "  warnings.warn(\n",
      "/usr/local/lib/python3.8/dist-packages/urllib3/connectionpool.py:1056: InsecureRequestWarning: Unverified HTTPS request is being made to host '192.168.250.10'. Adding certificate verification is strongly advised. See: https://urllib3.readthedocs.io/en/1.26.x/advanced-usage.html#ssl-warnings\n",
      "  warnings.warn(\n",
      "/usr/local/lib/python3.8/dist-packages/urllib3/connectionpool.py:1056: InsecureRequestWarning: Unverified HTTPS request is being made to host '192.168.250.10'. Adding certificate verification is strongly advised. See: https://urllib3.readthedocs.io/en/1.26.x/advanced-usage.html#ssl-warnings\n",
      "  warnings.warn(\n",
      "/usr/local/lib/python3.8/dist-packages/urllib3/connectionpool.py:1056: InsecureRequestWarning: Unverified HTTPS request is being made to host '192.168.250.10'. Adding certificate verification is strongly advised. See: https://urllib3.readthedocs.io/en/1.26.x/advanced-usage.html#ssl-warnings\n",
      "  warnings.warn(\n",
      "/usr/local/lib/python3.8/dist-packages/urllib3/connectionpool.py:1056: InsecureRequestWarning: Unverified HTTPS request is being made to host '192.168.250.10'. Adding certificate verification is strongly advised. See: https://urllib3.readthedocs.io/en/1.26.x/advanced-usage.html#ssl-warnings\n",
      "  warnings.warn(\n",
      "/usr/local/lib/python3.8/dist-packages/urllib3/connectionpool.py:1056: InsecureRequestWarning: Unverified HTTPS request is being made to host '192.168.250.10'. Adding certificate verification is strongly advised. See: https://urllib3.readthedocs.io/en/1.26.x/advanced-usage.html#ssl-warnings\n",
      "  warnings.warn(\n"
     ]
    },
    {
     "name": "stdout",
     "output_type": "stream",
     "text": [
      "{'error': {'code': -1000, 'message': {'lang': 'en-us', 'value': \"Property 'CarCode' of 'BusinessPartner' is invalid\"}}}\n",
      "{'error': {'code': -1000, 'message': {'lang': 'en-us', 'value': \"Property 'CarCode' of 'BusinessPartner' is invalid\"}}}\n",
      "{'error': {'code': -1000, 'message': {'lang': 'en-us', 'value': \"Property 'CarCode' of 'BusinessPartner' is invalid\"}}}\n",
      "{'error': {'code': -1000, 'message': {'lang': 'en-us', 'value': \"Property 'CarCode' of 'BusinessPartner' is invalid\"}}}\n",
      "{'error': {'code': -1000, 'message': {'lang': 'en-us', 'value': \"Property 'CarCode' of 'BusinessPartner' is invalid\"}}}\n",
      "{'error': {'code': -1000, 'message': {'lang': 'en-us', 'value': \"Property 'CarCode' of 'BusinessPartner' is invalid\"}}}\n"
     ]
    },
    {
     "name": "stderr",
     "output_type": "stream",
     "text": [
      "/usr/local/lib/python3.8/dist-packages/urllib3/connectionpool.py:1056: InsecureRequestWarning: Unverified HTTPS request is being made to host '192.168.250.10'. Adding certificate verification is strongly advised. See: https://urllib3.readthedocs.io/en/1.26.x/advanced-usage.html#ssl-warnings\n",
      "  warnings.warn(\n",
      "/usr/local/lib/python3.8/dist-packages/urllib3/connectionpool.py:1056: InsecureRequestWarning: Unverified HTTPS request is being made to host '192.168.250.10'. Adding certificate verification is strongly advised. See: https://urllib3.readthedocs.io/en/1.26.x/advanced-usage.html#ssl-warnings\n",
      "  warnings.warn(\n",
      "/usr/local/lib/python3.8/dist-packages/urllib3/connectionpool.py:1056: InsecureRequestWarning: Unverified HTTPS request is being made to host '192.168.250.10'. Adding certificate verification is strongly advised. See: https://urllib3.readthedocs.io/en/1.26.x/advanced-usage.html#ssl-warnings\n",
      "  warnings.warn(\n",
      "/usr/local/lib/python3.8/dist-packages/urllib3/connectionpool.py:1056: InsecureRequestWarning: Unverified HTTPS request is being made to host '192.168.250.10'. Adding certificate verification is strongly advised. See: https://urllib3.readthedocs.io/en/1.26.x/advanced-usage.html#ssl-warnings\n",
      "  warnings.warn(\n",
      "/usr/local/lib/python3.8/dist-packages/urllib3/connectionpool.py:1056: InsecureRequestWarning: Unverified HTTPS request is being made to host '192.168.250.10'. Adding certificate verification is strongly advised. See: https://urllib3.readthedocs.io/en/1.26.x/advanced-usage.html#ssl-warnings\n",
      "  warnings.warn(\n",
      "/usr/local/lib/python3.8/dist-packages/urllib3/connectionpool.py:1056: InsecureRequestWarning: Unverified HTTPS request is being made to host '192.168.250.10'. Adding certificate verification is strongly advised. See: https://urllib3.readthedocs.io/en/1.26.x/advanced-usage.html#ssl-warnings\n",
      "  warnings.warn(\n",
      "/usr/local/lib/python3.8/dist-packages/urllib3/connectionpool.py:1056: InsecureRequestWarning: Unverified HTTPS request is being made to host '192.168.250.10'. Adding certificate verification is strongly advised. See: https://urllib3.readthedocs.io/en/1.26.x/advanced-usage.html#ssl-warnings\n",
      "  warnings.warn(\n",
      "/usr/local/lib/python3.8/dist-packages/urllib3/connectionpool.py:1056: InsecureRequestWarning: Unverified HTTPS request is being made to host '192.168.250.10'. Adding certificate verification is strongly advised. See: https://urllib3.readthedocs.io/en/1.26.x/advanced-usage.html#ssl-warnings\n",
      "  warnings.warn(\n"
     ]
    },
    {
     "name": "stdout",
     "output_type": "stream",
     "text": [
      "{'error': {'code': -1000, 'message': {'lang': 'en-us', 'value': \"Property 'CarCode' of 'BusinessPartner' is invalid\"}}}\n",
      "{'error': {'code': -1000, 'message': {'lang': 'en-us', 'value': \"Property 'CarCode' of 'BusinessPartner' is invalid\"}}}\n",
      "{'error': {'code': -1000, 'message': {'lang': 'en-us', 'value': \"Property 'CarCode' of 'BusinessPartner' is invalid\"}}}\n",
      "{'error': {'code': -1000, 'message': {'lang': 'en-us', 'value': \"Property 'CarCode' of 'BusinessPartner' is invalid\"}}}\n",
      "{'error': {'code': -1000, 'message': {'lang': 'en-us', 'value': \"Property 'CarCode' of 'BusinessPartner' is invalid\"}}}\n",
      "{'error': {'code': -1000, 'message': {'lang': 'en-us', 'value': \"Property 'CarCode' of 'BusinessPartner' is invalid\"}}}\n",
      "{'error': {'code': -1000, 'message': {'lang': 'en-us', 'value': \"Property 'CarCode' of 'BusinessPartner' is invalid\"}}}\n"
     ]
    },
    {
     "name": "stderr",
     "output_type": "stream",
     "text": [
      "/usr/local/lib/python3.8/dist-packages/urllib3/connectionpool.py:1056: InsecureRequestWarning: Unverified HTTPS request is being made to host '192.168.250.10'. Adding certificate verification is strongly advised. See: https://urllib3.readthedocs.io/en/1.26.x/advanced-usage.html#ssl-warnings\n",
      "  warnings.warn(\n",
      "/usr/local/lib/python3.8/dist-packages/urllib3/connectionpool.py:1056: InsecureRequestWarning: Unverified HTTPS request is being made to host '192.168.250.10'. Adding certificate verification is strongly advised. See: https://urllib3.readthedocs.io/en/1.26.x/advanced-usage.html#ssl-warnings\n",
      "  warnings.warn(\n",
      "/usr/local/lib/python3.8/dist-packages/urllib3/connectionpool.py:1056: InsecureRequestWarning: Unverified HTTPS request is being made to host '192.168.250.10'. Adding certificate verification is strongly advised. See: https://urllib3.readthedocs.io/en/1.26.x/advanced-usage.html#ssl-warnings\n",
      "  warnings.warn(\n",
      "/usr/local/lib/python3.8/dist-packages/urllib3/connectionpool.py:1056: InsecureRequestWarning: Unverified HTTPS request is being made to host '192.168.250.10'. Adding certificate verification is strongly advised. See: https://urllib3.readthedocs.io/en/1.26.x/advanced-usage.html#ssl-warnings\n",
      "  warnings.warn(\n"
     ]
    },
    {
     "name": "stdout",
     "output_type": "stream",
     "text": [
      "{'error': {'code': -1000, 'message': {'lang': 'en-us', 'value': \"Property 'CarCode' of 'BusinessPartner' is invalid\"}}}\n",
      "{'error': {'code': -1000, 'message': {'lang': 'en-us', 'value': \"Property 'CarCode' of 'BusinessPartner' is invalid\"}}}\n",
      "{'error': {'code': -1000, 'message': {'lang': 'en-us', 'value': \"Property 'CarCode' of 'BusinessPartner' is invalid\"}}}\n",
      "{'error': {'code': -1000, 'message': {'lang': 'en-us', 'value': \"Property 'CarCode' of 'BusinessPartner' is invalid\"}}}\n",
      "{'error': {'code': -1000, 'message': {'lang': 'en-us', 'value': \"Property 'CarCode' of 'BusinessPartner' is invalid\"}}}\n"
     ]
    },
    {
     "name": "stderr",
     "output_type": "stream",
     "text": [
      "/usr/local/lib/python3.8/dist-packages/urllib3/connectionpool.py:1056: InsecureRequestWarning: Unverified HTTPS request is being made to host '192.168.250.10'. Adding certificate verification is strongly advised. See: https://urllib3.readthedocs.io/en/1.26.x/advanced-usage.html#ssl-warnings\n",
      "  warnings.warn(\n",
      "/usr/local/lib/python3.8/dist-packages/urllib3/connectionpool.py:1056: InsecureRequestWarning: Unverified HTTPS request is being made to host '192.168.250.10'. Adding certificate verification is strongly advised. See: https://urllib3.readthedocs.io/en/1.26.x/advanced-usage.html#ssl-warnings\n",
      "  warnings.warn(\n",
      "/usr/local/lib/python3.8/dist-packages/urllib3/connectionpool.py:1056: InsecureRequestWarning: Unverified HTTPS request is being made to host '192.168.250.10'. Adding certificate verification is strongly advised. See: https://urllib3.readthedocs.io/en/1.26.x/advanced-usage.html#ssl-warnings\n",
      "  warnings.warn(\n",
      "/usr/local/lib/python3.8/dist-packages/urllib3/connectionpool.py:1056: InsecureRequestWarning: Unverified HTTPS request is being made to host '192.168.250.10'. Adding certificate verification is strongly advised. See: https://urllib3.readthedocs.io/en/1.26.x/advanced-usage.html#ssl-warnings\n",
      "  warnings.warn(\n",
      "/usr/local/lib/python3.8/dist-packages/urllib3/connectionpool.py:1056: InsecureRequestWarning: Unverified HTTPS request is being made to host '192.168.250.10'. Adding certificate verification is strongly advised. See: https://urllib3.readthedocs.io/en/1.26.x/advanced-usage.html#ssl-warnings\n",
      "  warnings.warn(\n",
      "/usr/local/lib/python3.8/dist-packages/urllib3/connectionpool.py:1056: InsecureRequestWarning: Unverified HTTPS request is being made to host '192.168.250.10'. Adding certificate verification is strongly advised. See: https://urllib3.readthedocs.io/en/1.26.x/advanced-usage.html#ssl-warnings\n",
      "  warnings.warn(\n",
      "/usr/local/lib/python3.8/dist-packages/urllib3/connectionpool.py:1056: InsecureRequestWarning: Unverified HTTPS request is being made to host '192.168.250.10'. Adding certificate verification is strongly advised. See: https://urllib3.readthedocs.io/en/1.26.x/advanced-usage.html#ssl-warnings\n",
      "  warnings.warn(\n"
     ]
    },
    {
     "name": "stdout",
     "output_type": "stream",
     "text": [
      "{'error': {'code': -1000, 'message': {'lang': 'en-us', 'value': \"Property 'CarCode' of 'BusinessPartner' is invalid\"}}}\n",
      "{'error': {'code': -1000, 'message': {'lang': 'en-us', 'value': \"Property 'CarCode' of 'BusinessPartner' is invalid\"}}}\n",
      "{'error': {'code': -1000, 'message': {'lang': 'en-us', 'value': \"Property 'CarCode' of 'BusinessPartner' is invalid\"}}}\n",
      "{'error': {'code': -1000, 'message': {'lang': 'en-us', 'value': \"Property 'CarCode' of 'BusinessPartner' is invalid\"}}}\n",
      "{'error': {'code': -1000, 'message': {'lang': 'en-us', 'value': \"Property 'CarCode' of 'BusinessPartner' is invalid\"}}}\n",
      "{'error': {'code': -1000, 'message': {'lang': 'en-us', 'value': \"Property 'CarCode' of 'BusinessPartner' is invalid\"}}}\n",
      "{'error': {'code': -1000, 'message': {'lang': 'en-us', 'value': \"Property 'CarCode' of 'BusinessPartner' is invalid\"}}}\n"
     ]
    },
    {
     "name": "stderr",
     "output_type": "stream",
     "text": [
      "/usr/local/lib/python3.8/dist-packages/urllib3/connectionpool.py:1056: InsecureRequestWarning: Unverified HTTPS request is being made to host '192.168.250.10'. Adding certificate verification is strongly advised. See: https://urllib3.readthedocs.io/en/1.26.x/advanced-usage.html#ssl-warnings\n",
      "  warnings.warn(\n",
      "/usr/local/lib/python3.8/dist-packages/urllib3/connectionpool.py:1056: InsecureRequestWarning: Unverified HTTPS request is being made to host '192.168.250.10'. Adding certificate verification is strongly advised. See: https://urllib3.readthedocs.io/en/1.26.x/advanced-usage.html#ssl-warnings\n",
      "  warnings.warn(\n",
      "/usr/local/lib/python3.8/dist-packages/urllib3/connectionpool.py:1056: InsecureRequestWarning: Unverified HTTPS request is being made to host '192.168.250.10'. Adding certificate verification is strongly advised. See: https://urllib3.readthedocs.io/en/1.26.x/advanced-usage.html#ssl-warnings\n",
      "  warnings.warn(\n",
      "/usr/local/lib/python3.8/dist-packages/urllib3/connectionpool.py:1056: InsecureRequestWarning: Unverified HTTPS request is being made to host '192.168.250.10'. Adding certificate verification is strongly advised. See: https://urllib3.readthedocs.io/en/1.26.x/advanced-usage.html#ssl-warnings\n",
      "  warnings.warn(\n",
      "/usr/local/lib/python3.8/dist-packages/urllib3/connectionpool.py:1056: InsecureRequestWarning: Unverified HTTPS request is being made to host '192.168.250.10'. Adding certificate verification is strongly advised. See: https://urllib3.readthedocs.io/en/1.26.x/advanced-usage.html#ssl-warnings\n",
      "  warnings.warn(\n",
      "/usr/local/lib/python3.8/dist-packages/urllib3/connectionpool.py:1056: InsecureRequestWarning: Unverified HTTPS request is being made to host '192.168.250.10'. Adding certificate verification is strongly advised. See: https://urllib3.readthedocs.io/en/1.26.x/advanced-usage.html#ssl-warnings\n",
      "  warnings.warn(\n",
      "/usr/local/lib/python3.8/dist-packages/urllib3/connectionpool.py:1056: InsecureRequestWarning: Unverified HTTPS request is being made to host '192.168.250.10'. Adding certificate verification is strongly advised. See: https://urllib3.readthedocs.io/en/1.26.x/advanced-usage.html#ssl-warnings\n",
      "  warnings.warn(\n"
     ]
    },
    {
     "name": "stdout",
     "output_type": "stream",
     "text": [
      "{'error': {'code': -1000, 'message': {'lang': 'en-us', 'value': \"Property 'CarCode' of 'BusinessPartner' is invalid\"}}}\n",
      "{'error': {'code': -1000, 'message': {'lang': 'en-us', 'value': \"Property 'CarCode' of 'BusinessPartner' is invalid\"}}}\n",
      "{'error': {'code': -1000, 'message': {'lang': 'en-us', 'value': \"Property 'CarCode' of 'BusinessPartner' is invalid\"}}}\n",
      "{'error': {'code': -1000, 'message': {'lang': 'en-us', 'value': \"Property 'CarCode' of 'BusinessPartner' is invalid\"}}}\n",
      "{'error': {'code': -1000, 'message': {'lang': 'en-us', 'value': \"Property 'CarCode' of 'BusinessPartner' is invalid\"}}}\n",
      "{'error': {'code': -1000, 'message': {'lang': 'en-us', 'value': \"Property 'CarCode' of 'BusinessPartner' is invalid\"}}}\n",
      "{'error': {'code': -1000, 'message': {'lang': 'en-us', 'value': \"Property 'CarCode' of 'BusinessPartner' is invalid\"}}}\n"
     ]
    },
    {
     "name": "stderr",
     "output_type": "stream",
     "text": [
      "/usr/local/lib/python3.8/dist-packages/urllib3/connectionpool.py:1056: InsecureRequestWarning: Unverified HTTPS request is being made to host '192.168.250.10'. Adding certificate verification is strongly advised. See: https://urllib3.readthedocs.io/en/1.26.x/advanced-usage.html#ssl-warnings\n",
      "  warnings.warn(\n",
      "/usr/local/lib/python3.8/dist-packages/urllib3/connectionpool.py:1056: InsecureRequestWarning: Unverified HTTPS request is being made to host '192.168.250.10'. Adding certificate verification is strongly advised. See: https://urllib3.readthedocs.io/en/1.26.x/advanced-usage.html#ssl-warnings\n",
      "  warnings.warn(\n",
      "/usr/local/lib/python3.8/dist-packages/urllib3/connectionpool.py:1056: InsecureRequestWarning: Unverified HTTPS request is being made to host '192.168.250.10'. Adding certificate verification is strongly advised. See: https://urllib3.readthedocs.io/en/1.26.x/advanced-usage.html#ssl-warnings\n",
      "  warnings.warn(\n",
      "/usr/local/lib/python3.8/dist-packages/urllib3/connectionpool.py:1056: InsecureRequestWarning: Unverified HTTPS request is being made to host '192.168.250.10'. Adding certificate verification is strongly advised. See: https://urllib3.readthedocs.io/en/1.26.x/advanced-usage.html#ssl-warnings\n",
      "  warnings.warn(\n",
      "/usr/local/lib/python3.8/dist-packages/urllib3/connectionpool.py:1056: InsecureRequestWarning: Unverified HTTPS request is being made to host '192.168.250.10'. Adding certificate verification is strongly advised. See: https://urllib3.readthedocs.io/en/1.26.x/advanced-usage.html#ssl-warnings\n",
      "  warnings.warn(\n",
      "/usr/local/lib/python3.8/dist-packages/urllib3/connectionpool.py:1056: InsecureRequestWarning: Unverified HTTPS request is being made to host '192.168.250.10'. Adding certificate verification is strongly advised. See: https://urllib3.readthedocs.io/en/1.26.x/advanced-usage.html#ssl-warnings\n",
      "  warnings.warn(\n",
      "/usr/local/lib/python3.8/dist-packages/urllib3/connectionpool.py:1056: InsecureRequestWarning: Unverified HTTPS request is being made to host '192.168.250.10'. Adding certificate verification is strongly advised. See: https://urllib3.readthedocs.io/en/1.26.x/advanced-usage.html#ssl-warnings\n",
      "  warnings.warn(\n",
      "/usr/local/lib/python3.8/dist-packages/urllib3/connectionpool.py:1056: InsecureRequestWarning: Unverified HTTPS request is being made to host '192.168.250.10'. Adding certificate verification is strongly advised. See: https://urllib3.readthedocs.io/en/1.26.x/advanced-usage.html#ssl-warnings\n",
      "  warnings.warn(\n"
     ]
    },
    {
     "name": "stdout",
     "output_type": "stream",
     "text": [
      "{'error': {'code': -1000, 'message': {'lang': 'en-us', 'value': \"Property 'CarCode' of 'BusinessPartner' is invalid\"}}}\n",
      "{'error': {'code': -1000, 'message': {'lang': 'en-us', 'value': \"Property 'CarCode' of 'BusinessPartner' is invalid\"}}}\n",
      "{'error': {'code': -1000, 'message': {'lang': 'en-us', 'value': \"Property 'CarCode' of 'BusinessPartner' is invalid\"}}}\n",
      "{'error': {'code': -1000, 'message': {'lang': 'en-us', 'value': \"Property 'CarCode' of 'BusinessPartner' is invalid\"}}}\n",
      "{'error': {'code': -1000, 'message': {'lang': 'en-us', 'value': \"Property 'CarCode' of 'BusinessPartner' is invalid\"}}}\n",
      "{'error': {'code': -1000, 'message': {'lang': 'en-us', 'value': \"Property 'CarCode' of 'BusinessPartner' is invalid\"}}}\n",
      "{'error': {'code': -1000, 'message': {'lang': 'en-us', 'value': \"Property 'CarCode' of 'BusinessPartner' is invalid\"}}}\n",
      "{'error': {'code': -1000, 'message': {'lang': 'en-us', 'value': \"Property 'CarCode' of 'BusinessPartner' is invalid\"}}}\n",
      "{'error': {'code': -1000, 'message': {'lang': 'en-us', 'value': \"Property 'CarCode' of 'BusinessPartner' is invalid\"}}}\n"
     ]
    },
    {
     "name": "stderr",
     "output_type": "stream",
     "text": [
      "/usr/local/lib/python3.8/dist-packages/urllib3/connectionpool.py:1056: InsecureRequestWarning: Unverified HTTPS request is being made to host '192.168.250.10'. Adding certificate verification is strongly advised. See: https://urllib3.readthedocs.io/en/1.26.x/advanced-usage.html#ssl-warnings\n",
      "  warnings.warn(\n",
      "/usr/local/lib/python3.8/dist-packages/urllib3/connectionpool.py:1056: InsecureRequestWarning: Unverified HTTPS request is being made to host '192.168.250.10'. Adding certificate verification is strongly advised. See: https://urllib3.readthedocs.io/en/1.26.x/advanced-usage.html#ssl-warnings\n",
      "  warnings.warn(\n",
      "/usr/local/lib/python3.8/dist-packages/urllib3/connectionpool.py:1056: InsecureRequestWarning: Unverified HTTPS request is being made to host '192.168.250.10'. Adding certificate verification is strongly advised. See: https://urllib3.readthedocs.io/en/1.26.x/advanced-usage.html#ssl-warnings\n",
      "  warnings.warn(\n",
      "/usr/local/lib/python3.8/dist-packages/urllib3/connectionpool.py:1056: InsecureRequestWarning: Unverified HTTPS request is being made to host '192.168.250.10'. Adding certificate verification is strongly advised. See: https://urllib3.readthedocs.io/en/1.26.x/advanced-usage.html#ssl-warnings\n",
      "  warnings.warn(\n",
      "/usr/local/lib/python3.8/dist-packages/urllib3/connectionpool.py:1056: InsecureRequestWarning: Unverified HTTPS request is being made to host '192.168.250.10'. Adding certificate verification is strongly advised. See: https://urllib3.readthedocs.io/en/1.26.x/advanced-usage.html#ssl-warnings\n",
      "  warnings.warn(\n",
      "/usr/local/lib/python3.8/dist-packages/urllib3/connectionpool.py:1056: InsecureRequestWarning: Unverified HTTPS request is being made to host '192.168.250.10'. Adding certificate verification is strongly advised. See: https://urllib3.readthedocs.io/en/1.26.x/advanced-usage.html#ssl-warnings\n",
      "  warnings.warn(\n",
      "/usr/local/lib/python3.8/dist-packages/urllib3/connectionpool.py:1056: InsecureRequestWarning: Unverified HTTPS request is being made to host '192.168.250.10'. Adding certificate verification is strongly advised. See: https://urllib3.readthedocs.io/en/1.26.x/advanced-usage.html#ssl-warnings\n",
      "  warnings.warn(\n",
      "/usr/local/lib/python3.8/dist-packages/urllib3/connectionpool.py:1056: InsecureRequestWarning: Unverified HTTPS request is being made to host '192.168.250.10'. Adding certificate verification is strongly advised. See: https://urllib3.readthedocs.io/en/1.26.x/advanced-usage.html#ssl-warnings\n",
      "  warnings.warn(\n"
     ]
    },
    {
     "name": "stdout",
     "output_type": "stream",
     "text": [
      "{'error': {'code': -1000, 'message': {'lang': 'en-us', 'value': \"Property 'CarCode' of 'BusinessPartner' is invalid\"}}}\n",
      "{'error': {'code': -1000, 'message': {'lang': 'en-us', 'value': \"Property 'CarCode' of 'BusinessPartner' is invalid\"}}}\n",
      "{'error': {'code': -1000, 'message': {'lang': 'en-us', 'value': \"Property 'CarCode' of 'BusinessPartner' is invalid\"}}}\n",
      "{'error': {'code': -1000, 'message': {'lang': 'en-us', 'value': \"Property 'CarCode' of 'BusinessPartner' is invalid\"}}}\n",
      "{'error': {'code': -1000, 'message': {'lang': 'en-us', 'value': \"Property 'CarCode' of 'BusinessPartner' is invalid\"}}}\n",
      "{'error': {'code': -1000, 'message': {'lang': 'en-us', 'value': \"Property 'CarCode' of 'BusinessPartner' is invalid\"}}}\n",
      "{'error': {'code': -1000, 'message': {'lang': 'en-us', 'value': \"Property 'CarCode' of 'BusinessPartner' is invalid\"}}}\n"
     ]
    },
    {
     "name": "stderr",
     "output_type": "stream",
     "text": [
      "/usr/local/lib/python3.8/dist-packages/urllib3/connectionpool.py:1056: InsecureRequestWarning: Unverified HTTPS request is being made to host '192.168.250.10'. Adding certificate verification is strongly advised. See: https://urllib3.readthedocs.io/en/1.26.x/advanced-usage.html#ssl-warnings\n",
      "  warnings.warn(\n",
      "/usr/local/lib/python3.8/dist-packages/urllib3/connectionpool.py:1056: InsecureRequestWarning: Unverified HTTPS request is being made to host '192.168.250.10'. Adding certificate verification is strongly advised. See: https://urllib3.readthedocs.io/en/1.26.x/advanced-usage.html#ssl-warnings\n",
      "  warnings.warn(\n",
      "/usr/local/lib/python3.8/dist-packages/urllib3/connectionpool.py:1056: InsecureRequestWarning: Unverified HTTPS request is being made to host '192.168.250.10'. Adding certificate verification is strongly advised. See: https://urllib3.readthedocs.io/en/1.26.x/advanced-usage.html#ssl-warnings\n",
      "  warnings.warn(\n",
      "/usr/local/lib/python3.8/dist-packages/urllib3/connectionpool.py:1056: InsecureRequestWarning: Unverified HTTPS request is being made to host '192.168.250.10'. Adding certificate verification is strongly advised. See: https://urllib3.readthedocs.io/en/1.26.x/advanced-usage.html#ssl-warnings\n",
      "  warnings.warn(\n",
      "/usr/local/lib/python3.8/dist-packages/urllib3/connectionpool.py:1056: InsecureRequestWarning: Unverified HTTPS request is being made to host '192.168.250.10'. Adding certificate verification is strongly advised. See: https://urllib3.readthedocs.io/en/1.26.x/advanced-usage.html#ssl-warnings\n",
      "  warnings.warn(\n"
     ]
    },
    {
     "name": "stdout",
     "output_type": "stream",
     "text": [
      "{'error': {'code': -1000, 'message': {'lang': 'en-us', 'value': \"Property 'CarCode' of 'BusinessPartner' is invalid\"}}}\n",
      "{'error': {'code': -1000, 'message': {'lang': 'en-us', 'value': \"Property 'CarCode' of 'BusinessPartner' is invalid\"}}}\n",
      "{'error': {'code': -1000, 'message': {'lang': 'en-us', 'value': \"Property 'CarCode' of 'BusinessPartner' is invalid\"}}}\n",
      "{'error': {'code': -1000, 'message': {'lang': 'en-us', 'value': \"Property 'CarCode' of 'BusinessPartner' is invalid\"}}}\n",
      "{'error': {'code': -1000, 'message': {'lang': 'en-us', 'value': \"Property 'CarCode' of 'BusinessPartner' is invalid\"}}}\n",
      "{'error': {'code': -1000, 'message': {'lang': 'en-us', 'value': \"Property 'CarCode' of 'BusinessPartner' is invalid\"}}}\n"
     ]
    },
    {
     "name": "stderr",
     "output_type": "stream",
     "text": [
      "/usr/local/lib/python3.8/dist-packages/urllib3/connectionpool.py:1056: InsecureRequestWarning: Unverified HTTPS request is being made to host '192.168.250.10'. Adding certificate verification is strongly advised. See: https://urllib3.readthedocs.io/en/1.26.x/advanced-usage.html#ssl-warnings\n",
      "  warnings.warn(\n",
      "/usr/local/lib/python3.8/dist-packages/urllib3/connectionpool.py:1056: InsecureRequestWarning: Unverified HTTPS request is being made to host '192.168.250.10'. Adding certificate verification is strongly advised. See: https://urllib3.readthedocs.io/en/1.26.x/advanced-usage.html#ssl-warnings\n",
      "  warnings.warn(\n",
      "/usr/local/lib/python3.8/dist-packages/urllib3/connectionpool.py:1056: InsecureRequestWarning: Unverified HTTPS request is being made to host '192.168.250.10'. Adding certificate verification is strongly advised. See: https://urllib3.readthedocs.io/en/1.26.x/advanced-usage.html#ssl-warnings\n",
      "  warnings.warn(\n",
      "/usr/local/lib/python3.8/dist-packages/urllib3/connectionpool.py:1056: InsecureRequestWarning: Unverified HTTPS request is being made to host '192.168.250.10'. Adding certificate verification is strongly advised. See: https://urllib3.readthedocs.io/en/1.26.x/advanced-usage.html#ssl-warnings\n",
      "  warnings.warn(\n",
      "/usr/local/lib/python3.8/dist-packages/urllib3/connectionpool.py:1056: InsecureRequestWarning: Unverified HTTPS request is being made to host '192.168.250.10'. Adding certificate verification is strongly advised. See: https://urllib3.readthedocs.io/en/1.26.x/advanced-usage.html#ssl-warnings\n",
      "  warnings.warn(\n",
      "/usr/local/lib/python3.8/dist-packages/urllib3/connectionpool.py:1056: InsecureRequestWarning: Unverified HTTPS request is being made to host '192.168.250.10'. Adding certificate verification is strongly advised. See: https://urllib3.readthedocs.io/en/1.26.x/advanced-usage.html#ssl-warnings\n",
      "  warnings.warn(\n"
     ]
    },
    {
     "name": "stdout",
     "output_type": "stream",
     "text": [
      "{'error': {'code': -1000, 'message': {'lang': 'en-us', 'value': \"Property 'CarCode' of 'BusinessPartner' is invalid\"}}}\n",
      "{'error': {'code': -1000, 'message': {'lang': 'en-us', 'value': \"Property 'CarCode' of 'BusinessPartner' is invalid\"}}}\n",
      "{'error': {'code': -1000, 'message': {'lang': 'en-us', 'value': \"Property 'CarCode' of 'BusinessPartner' is invalid\"}}}\n",
      "{'error': {'code': -1000, 'message': {'lang': 'en-us', 'value': \"Property 'CarCode' of 'BusinessPartner' is invalid\"}}}\n",
      "{'error': {'code': -1000, 'message': {'lang': 'en-us', 'value': \"Property 'CarCode' of 'BusinessPartner' is invalid\"}}}\n"
     ]
    },
    {
     "name": "stderr",
     "output_type": "stream",
     "text": [
      "/usr/local/lib/python3.8/dist-packages/urllib3/connectionpool.py:1056: InsecureRequestWarning: Unverified HTTPS request is being made to host '192.168.250.10'. Adding certificate verification is strongly advised. See: https://urllib3.readthedocs.io/en/1.26.x/advanced-usage.html#ssl-warnings\n",
      "  warnings.warn(\n",
      "/usr/local/lib/python3.8/dist-packages/urllib3/connectionpool.py:1056: InsecureRequestWarning: Unverified HTTPS request is being made to host '192.168.250.10'. Adding certificate verification is strongly advised. See: https://urllib3.readthedocs.io/en/1.26.x/advanced-usage.html#ssl-warnings\n",
      "  warnings.warn(\n",
      "/usr/local/lib/python3.8/dist-packages/urllib3/connectionpool.py:1056: InsecureRequestWarning: Unverified HTTPS request is being made to host '192.168.250.10'. Adding certificate verification is strongly advised. See: https://urllib3.readthedocs.io/en/1.26.x/advanced-usage.html#ssl-warnings\n",
      "  warnings.warn(\n",
      "/usr/local/lib/python3.8/dist-packages/urllib3/connectionpool.py:1056: InsecureRequestWarning: Unverified HTTPS request is being made to host '192.168.250.10'. Adding certificate verification is strongly advised. See: https://urllib3.readthedocs.io/en/1.26.x/advanced-usage.html#ssl-warnings\n",
      "  warnings.warn(\n",
      "/usr/local/lib/python3.8/dist-packages/urllib3/connectionpool.py:1056: InsecureRequestWarning: Unverified HTTPS request is being made to host '192.168.250.10'. Adding certificate verification is strongly advised. See: https://urllib3.readthedocs.io/en/1.26.x/advanced-usage.html#ssl-warnings\n",
      "  warnings.warn(\n",
      "/usr/local/lib/python3.8/dist-packages/urllib3/connectionpool.py:1056: InsecureRequestWarning: Unverified HTTPS request is being made to host '192.168.250.10'. Adding certificate verification is strongly advised. See: https://urllib3.readthedocs.io/en/1.26.x/advanced-usage.html#ssl-warnings\n",
      "  warnings.warn(\n",
      "/usr/local/lib/python3.8/dist-packages/urllib3/connectionpool.py:1056: InsecureRequestWarning: Unverified HTTPS request is being made to host '192.168.250.10'. Adding certificate verification is strongly advised. See: https://urllib3.readthedocs.io/en/1.26.x/advanced-usage.html#ssl-warnings\n",
      "  warnings.warn(\n",
      "/usr/local/lib/python3.8/dist-packages/urllib3/connectionpool.py:1056: InsecureRequestWarning: Unverified HTTPS request is being made to host '192.168.250.10'. Adding certificate verification is strongly advised. See: https://urllib3.readthedocs.io/en/1.26.x/advanced-usage.html#ssl-warnings\n",
      "  warnings.warn(\n"
     ]
    },
    {
     "name": "stdout",
     "output_type": "stream",
     "text": [
      "{'error': {'code': -1000, 'message': {'lang': 'en-us', 'value': \"Property 'CarCode' of 'BusinessPartner' is invalid\"}}}\n",
      "{'error': {'code': -1000, 'message': {'lang': 'en-us', 'value': \"Property 'CarCode' of 'BusinessPartner' is invalid\"}}}\n",
      "{'error': {'code': -1000, 'message': {'lang': 'en-us', 'value': \"Property 'CarCode' of 'BusinessPartner' is invalid\"}}}\n",
      "{'error': {'code': -1000, 'message': {'lang': 'en-us', 'value': \"Property 'CarCode' of 'BusinessPartner' is invalid\"}}}\n",
      "{'error': {'code': -1000, 'message': {'lang': 'en-us', 'value': \"Property 'CarCode' of 'BusinessPartner' is invalid\"}}}\n",
      "{'error': {'code': -1000, 'message': {'lang': 'en-us', 'value': \"Property 'CarCode' of 'BusinessPartner' is invalid\"}}}\n",
      "{'error': {'code': -1000, 'message': {'lang': 'en-us', 'value': \"Property 'CarCode' of 'BusinessPartner' is invalid\"}}}\n"
     ]
    },
    {
     "name": "stderr",
     "output_type": "stream",
     "text": [
      "/usr/local/lib/python3.8/dist-packages/urllib3/connectionpool.py:1056: InsecureRequestWarning: Unverified HTTPS request is being made to host '192.168.250.10'. Adding certificate verification is strongly advised. See: https://urllib3.readthedocs.io/en/1.26.x/advanced-usage.html#ssl-warnings\n",
      "  warnings.warn(\n",
      "/usr/local/lib/python3.8/dist-packages/urllib3/connectionpool.py:1056: InsecureRequestWarning: Unverified HTTPS request is being made to host '192.168.250.10'. Adding certificate verification is strongly advised. See: https://urllib3.readthedocs.io/en/1.26.x/advanced-usage.html#ssl-warnings\n",
      "  warnings.warn(\n",
      "/usr/local/lib/python3.8/dist-packages/urllib3/connectionpool.py:1056: InsecureRequestWarning: Unverified HTTPS request is being made to host '192.168.250.10'. Adding certificate verification is strongly advised. See: https://urllib3.readthedocs.io/en/1.26.x/advanced-usage.html#ssl-warnings\n",
      "  warnings.warn(\n",
      "/usr/local/lib/python3.8/dist-packages/urllib3/connectionpool.py:1056: InsecureRequestWarning: Unverified HTTPS request is being made to host '192.168.250.10'. Adding certificate verification is strongly advised. See: https://urllib3.readthedocs.io/en/1.26.x/advanced-usage.html#ssl-warnings\n",
      "  warnings.warn(\n",
      "/usr/local/lib/python3.8/dist-packages/urllib3/connectionpool.py:1056: InsecureRequestWarning: Unverified HTTPS request is being made to host '192.168.250.10'. Adding certificate verification is strongly advised. See: https://urllib3.readthedocs.io/en/1.26.x/advanced-usage.html#ssl-warnings\n",
      "  warnings.warn(\n",
      "/usr/local/lib/python3.8/dist-packages/urllib3/connectionpool.py:1056: InsecureRequestWarning: Unverified HTTPS request is being made to host '192.168.250.10'. Adding certificate verification is strongly advised. See: https://urllib3.readthedocs.io/en/1.26.x/advanced-usage.html#ssl-warnings\n",
      "  warnings.warn(\n",
      "/usr/local/lib/python3.8/dist-packages/urllib3/connectionpool.py:1056: InsecureRequestWarning: Unverified HTTPS request is being made to host '192.168.250.10'. Adding certificate verification is strongly advised. See: https://urllib3.readthedocs.io/en/1.26.x/advanced-usage.html#ssl-warnings\n",
      "  warnings.warn(\n",
      "/usr/local/lib/python3.8/dist-packages/urllib3/connectionpool.py:1056: InsecureRequestWarning: Unverified HTTPS request is being made to host '192.168.250.10'. Adding certificate verification is strongly advised. See: https://urllib3.readthedocs.io/en/1.26.x/advanced-usage.html#ssl-warnings\n",
      "  warnings.warn(\n",
      "/usr/local/lib/python3.8/dist-packages/urllib3/connectionpool.py:1056: InsecureRequestWarning: Unverified HTTPS request is being made to host '192.168.250.10'. Adding certificate verification is strongly advised. See: https://urllib3.readthedocs.io/en/1.26.x/advanced-usage.html#ssl-warnings\n",
      "  warnings.warn(\n"
     ]
    },
    {
     "name": "stdout",
     "output_type": "stream",
     "text": [
      "{'error': {'code': -1000, 'message': {'lang': 'en-us', 'value': \"Property 'CarCode' of 'BusinessPartner' is invalid\"}}}\n",
      "{'error': {'code': -1000, 'message': {'lang': 'en-us', 'value': \"Property 'CarCode' of 'BusinessPartner' is invalid\"}}}\n",
      "{'error': {'code': -1000, 'message': {'lang': 'en-us', 'value': \"Property 'CarCode' of 'BusinessPartner' is invalid\"}}}\n",
      "{'error': {'code': -1000, 'message': {'lang': 'en-us', 'value': \"Property 'CarCode' of 'BusinessPartner' is invalid\"}}}\n",
      "{'error': {'code': -1000, 'message': {'lang': 'en-us', 'value': \"Property 'CarCode' of 'BusinessPartner' is invalid\"}}}\n",
      "{'error': {'code': -1000, 'message': {'lang': 'en-us', 'value': \"Property 'CarCode' of 'BusinessPartner' is invalid\"}}}\n",
      "{'error': {'code': -1000, 'message': {'lang': 'en-us', 'value': \"Property 'CarCode' of 'BusinessPartner' is invalid\"}}}\n",
      "{'error': {'code': -1000, 'message': {'lang': 'en-us', 'value': \"Property 'CarCode' of 'BusinessPartner' is invalid\"}}}\n",
      "{'error': {'code': -1000, 'message': {'lang': 'en-us', 'value': \"Property 'CarCode' of 'BusinessPartner' is invalid\"}}}\n",
      "{'error': {'code': -1000, 'message': {'lang': 'en-us', 'value': \"Property 'CarCode' of 'BusinessPartner' is invalid\"}}}\n"
     ]
    },
    {
     "name": "stderr",
     "output_type": "stream",
     "text": [
      "/usr/local/lib/python3.8/dist-packages/urllib3/connectionpool.py:1056: InsecureRequestWarning: Unverified HTTPS request is being made to host '192.168.250.10'. Adding certificate verification is strongly advised. See: https://urllib3.readthedocs.io/en/1.26.x/advanced-usage.html#ssl-warnings\n",
      "  warnings.warn(\n",
      "/usr/local/lib/python3.8/dist-packages/urllib3/connectionpool.py:1056: InsecureRequestWarning: Unverified HTTPS request is being made to host '192.168.250.10'. Adding certificate verification is strongly advised. See: https://urllib3.readthedocs.io/en/1.26.x/advanced-usage.html#ssl-warnings\n",
      "  warnings.warn(\n",
      "/usr/local/lib/python3.8/dist-packages/urllib3/connectionpool.py:1056: InsecureRequestWarning: Unverified HTTPS request is being made to host '192.168.250.10'. Adding certificate verification is strongly advised. See: https://urllib3.readthedocs.io/en/1.26.x/advanced-usage.html#ssl-warnings\n",
      "  warnings.warn(\n",
      "/usr/local/lib/python3.8/dist-packages/urllib3/connectionpool.py:1056: InsecureRequestWarning: Unverified HTTPS request is being made to host '192.168.250.10'. Adding certificate verification is strongly advised. See: https://urllib3.readthedocs.io/en/1.26.x/advanced-usage.html#ssl-warnings\n",
      "  warnings.warn(\n",
      "/usr/local/lib/python3.8/dist-packages/urllib3/connectionpool.py:1056: InsecureRequestWarning: Unverified HTTPS request is being made to host '192.168.250.10'. Adding certificate verification is strongly advised. See: https://urllib3.readthedocs.io/en/1.26.x/advanced-usage.html#ssl-warnings\n",
      "  warnings.warn(\n",
      "/usr/local/lib/python3.8/dist-packages/urllib3/connectionpool.py:1056: InsecureRequestWarning: Unverified HTTPS request is being made to host '192.168.250.10'. Adding certificate verification is strongly advised. See: https://urllib3.readthedocs.io/en/1.26.x/advanced-usage.html#ssl-warnings\n",
      "  warnings.warn(\n",
      "/usr/local/lib/python3.8/dist-packages/urllib3/connectionpool.py:1056: InsecureRequestWarning: Unverified HTTPS request is being made to host '192.168.250.10'. Adding certificate verification is strongly advised. See: https://urllib3.readthedocs.io/en/1.26.x/advanced-usage.html#ssl-warnings\n",
      "  warnings.warn(\n",
      "/usr/local/lib/python3.8/dist-packages/urllib3/connectionpool.py:1056: InsecureRequestWarning: Unverified HTTPS request is being made to host '192.168.250.10'. Adding certificate verification is strongly advised. See: https://urllib3.readthedocs.io/en/1.26.x/advanced-usage.html#ssl-warnings\n",
      "  warnings.warn(\n",
      "/usr/local/lib/python3.8/dist-packages/urllib3/connectionpool.py:1056: InsecureRequestWarning: Unverified HTTPS request is being made to host '192.168.250.10'. Adding certificate verification is strongly advised. See: https://urllib3.readthedocs.io/en/1.26.x/advanced-usage.html#ssl-warnings\n",
      "  warnings.warn(\n"
     ]
    },
    {
     "name": "stdout",
     "output_type": "stream",
     "text": [
      "{'error': {'code': -1000, 'message': {'lang': 'en-us', 'value': \"Property 'CarCode' of 'BusinessPartner' is invalid\"}}}\n",
      "{'error': {'code': -1000, 'message': {'lang': 'en-us', 'value': \"Property 'CarCode' of 'BusinessPartner' is invalid\"}}}\n",
      "{'error': {'code': -1000, 'message': {'lang': 'en-us', 'value': \"Property 'CarCode' of 'BusinessPartner' is invalid\"}}}\n",
      "{'error': {'code': -1000, 'message': {'lang': 'en-us', 'value': \"Property 'CarCode' of 'BusinessPartner' is invalid\"}}}\n",
      "{'error': {'code': -1000, 'message': {'lang': 'en-us', 'value': \"Property 'CarCode' of 'BusinessPartner' is invalid\"}}}\n",
      "{'error': {'code': -1000, 'message': {'lang': 'en-us', 'value': \"Property 'CarCode' of 'BusinessPartner' is invalid\"}}}\n",
      "{'error': {'code': -1000, 'message': {'lang': 'en-us', 'value': \"Property 'CarCode' of 'BusinessPartner' is invalid\"}}}\n"
     ]
    },
    {
     "name": "stderr",
     "output_type": "stream",
     "text": [
      "/usr/local/lib/python3.8/dist-packages/urllib3/connectionpool.py:1056: InsecureRequestWarning: Unverified HTTPS request is being made to host '192.168.250.10'. Adding certificate verification is strongly advised. See: https://urllib3.readthedocs.io/en/1.26.x/advanced-usage.html#ssl-warnings\n",
      "  warnings.warn(\n",
      "/usr/local/lib/python3.8/dist-packages/urllib3/connectionpool.py:1056: InsecureRequestWarning: Unverified HTTPS request is being made to host '192.168.250.10'. Adding certificate verification is strongly advised. See: https://urllib3.readthedocs.io/en/1.26.x/advanced-usage.html#ssl-warnings\n",
      "  warnings.warn(\n",
      "/usr/local/lib/python3.8/dist-packages/urllib3/connectionpool.py:1056: InsecureRequestWarning: Unverified HTTPS request is being made to host '192.168.250.10'. Adding certificate verification is strongly advised. See: https://urllib3.readthedocs.io/en/1.26.x/advanced-usage.html#ssl-warnings\n",
      "  warnings.warn(\n",
      "/usr/local/lib/python3.8/dist-packages/urllib3/connectionpool.py:1056: InsecureRequestWarning: Unverified HTTPS request is being made to host '192.168.250.10'. Adding certificate verification is strongly advised. See: https://urllib3.readthedocs.io/en/1.26.x/advanced-usage.html#ssl-warnings\n",
      "  warnings.warn(\n",
      "/usr/local/lib/python3.8/dist-packages/urllib3/connectionpool.py:1056: InsecureRequestWarning: Unverified HTTPS request is being made to host '192.168.250.10'. Adding certificate verification is strongly advised. See: https://urllib3.readthedocs.io/en/1.26.x/advanced-usage.html#ssl-warnings\n",
      "  warnings.warn(\n",
      "/usr/local/lib/python3.8/dist-packages/urllib3/connectionpool.py:1056: InsecureRequestWarning: Unverified HTTPS request is being made to host '192.168.250.10'. Adding certificate verification is strongly advised. See: https://urllib3.readthedocs.io/en/1.26.x/advanced-usage.html#ssl-warnings\n",
      "  warnings.warn(\n",
      "/usr/local/lib/python3.8/dist-packages/urllib3/connectionpool.py:1056: InsecureRequestWarning: Unverified HTTPS request is being made to host '192.168.250.10'. Adding certificate verification is strongly advised. See: https://urllib3.readthedocs.io/en/1.26.x/advanced-usage.html#ssl-warnings\n",
      "  warnings.warn(\n",
      "/usr/local/lib/python3.8/dist-packages/urllib3/connectionpool.py:1056: InsecureRequestWarning: Unverified HTTPS request is being made to host '192.168.250.10'. Adding certificate verification is strongly advised. See: https://urllib3.readthedocs.io/en/1.26.x/advanced-usage.html#ssl-warnings\n",
      "  warnings.warn(\n"
     ]
    },
    {
     "name": "stdout",
     "output_type": "stream",
     "text": [
      "{'error': {'code': -1000, 'message': {'lang': 'en-us', 'value': \"Property 'CarCode' of 'BusinessPartner' is invalid\"}}}\n",
      "{'error': {'code': -1000, 'message': {'lang': 'en-us', 'value': \"Property 'CarCode' of 'BusinessPartner' is invalid\"}}}\n",
      "{'error': {'code': -1000, 'message': {'lang': 'en-us', 'value': \"Property 'CarCode' of 'BusinessPartner' is invalid\"}}}\n",
      "{'error': {'code': -1000, 'message': {'lang': 'en-us', 'value': \"Property 'CarCode' of 'BusinessPartner' is invalid\"}}}\n",
      "{'error': {'code': -1000, 'message': {'lang': 'en-us', 'value': \"Property 'CarCode' of 'BusinessPartner' is invalid\"}}}\n",
      "{'error': {'code': -1000, 'message': {'lang': 'en-us', 'value': \"Property 'CarCode' of 'BusinessPartner' is invalid\"}}}\n",
      "{'error': {'code': -1000, 'message': {'lang': 'en-us', 'value': \"Property 'CarCode' of 'BusinessPartner' is invalid\"}}}\n",
      "{'error': {'code': -1000, 'message': {'lang': 'en-us', 'value': \"Property 'CarCode' of 'BusinessPartner' is invalid\"}}}\n"
     ]
    },
    {
     "name": "stderr",
     "output_type": "stream",
     "text": [
      "/usr/local/lib/python3.8/dist-packages/urllib3/connectionpool.py:1056: InsecureRequestWarning: Unverified HTTPS request is being made to host '192.168.250.10'. Adding certificate verification is strongly advised. See: https://urllib3.readthedocs.io/en/1.26.x/advanced-usage.html#ssl-warnings\n",
      "  warnings.warn(\n",
      "/usr/local/lib/python3.8/dist-packages/urllib3/connectionpool.py:1056: InsecureRequestWarning: Unverified HTTPS request is being made to host '192.168.250.10'. Adding certificate verification is strongly advised. See: https://urllib3.readthedocs.io/en/1.26.x/advanced-usage.html#ssl-warnings\n",
      "  warnings.warn(\n",
      "/usr/local/lib/python3.8/dist-packages/urllib3/connectionpool.py:1056: InsecureRequestWarning: Unverified HTTPS request is being made to host '192.168.250.10'. Adding certificate verification is strongly advised. See: https://urllib3.readthedocs.io/en/1.26.x/advanced-usage.html#ssl-warnings\n",
      "  warnings.warn(\n",
      "/usr/local/lib/python3.8/dist-packages/urllib3/connectionpool.py:1056: InsecureRequestWarning: Unverified HTTPS request is being made to host '192.168.250.10'. Adding certificate verification is strongly advised. See: https://urllib3.readthedocs.io/en/1.26.x/advanced-usage.html#ssl-warnings\n",
      "  warnings.warn(\n",
      "/usr/local/lib/python3.8/dist-packages/urllib3/connectionpool.py:1056: InsecureRequestWarning: Unverified HTTPS request is being made to host '192.168.250.10'. Adding certificate verification is strongly advised. See: https://urllib3.readthedocs.io/en/1.26.x/advanced-usage.html#ssl-warnings\n",
      "  warnings.warn(\n",
      "/usr/local/lib/python3.8/dist-packages/urllib3/connectionpool.py:1056: InsecureRequestWarning: Unverified HTTPS request is being made to host '192.168.250.10'. Adding certificate verification is strongly advised. See: https://urllib3.readthedocs.io/en/1.26.x/advanced-usage.html#ssl-warnings\n",
      "  warnings.warn(\n"
     ]
    },
    {
     "name": "stdout",
     "output_type": "stream",
     "text": [
      "{'error': {'code': -1000, 'message': {'lang': 'en-us', 'value': \"Property 'CarCode' of 'BusinessPartner' is invalid\"}}}\n",
      "{'error': {'code': -1000, 'message': {'lang': 'en-us', 'value': \"Property 'CarCode' of 'BusinessPartner' is invalid\"}}}\n",
      "{'error': {'code': -1000, 'message': {'lang': 'en-us', 'value': \"Property 'CarCode' of 'BusinessPartner' is invalid\"}}}\n",
      "{'error': {'code': -1000, 'message': {'lang': 'en-us', 'value': \"Property 'CarCode' of 'BusinessPartner' is invalid\"}}}\n",
      "{'error': {'code': -1000, 'message': {'lang': 'en-us', 'value': \"Property 'CarCode' of 'BusinessPartner' is invalid\"}}}\n",
      "{'error': {'code': -1000, 'message': {'lang': 'en-us', 'value': \"Property 'CarCode' of 'BusinessPartner' is invalid\"}}}\n"
     ]
    },
    {
     "name": "stderr",
     "output_type": "stream",
     "text": [
      "/usr/local/lib/python3.8/dist-packages/urllib3/connectionpool.py:1056: InsecureRequestWarning: Unverified HTTPS request is being made to host '192.168.250.10'. Adding certificate verification is strongly advised. See: https://urllib3.readthedocs.io/en/1.26.x/advanced-usage.html#ssl-warnings\n",
      "  warnings.warn(\n",
      "/usr/local/lib/python3.8/dist-packages/urllib3/connectionpool.py:1056: InsecureRequestWarning: Unverified HTTPS request is being made to host '192.168.250.10'. Adding certificate verification is strongly advised. See: https://urllib3.readthedocs.io/en/1.26.x/advanced-usage.html#ssl-warnings\n",
      "  warnings.warn(\n",
      "/usr/local/lib/python3.8/dist-packages/urllib3/connectionpool.py:1056: InsecureRequestWarning: Unverified HTTPS request is being made to host '192.168.250.10'. Adding certificate verification is strongly advised. See: https://urllib3.readthedocs.io/en/1.26.x/advanced-usage.html#ssl-warnings\n",
      "  warnings.warn(\n",
      "/usr/local/lib/python3.8/dist-packages/urllib3/connectionpool.py:1056: InsecureRequestWarning: Unverified HTTPS request is being made to host '192.168.250.10'. Adding certificate verification is strongly advised. See: https://urllib3.readthedocs.io/en/1.26.x/advanced-usage.html#ssl-warnings\n",
      "  warnings.warn(\n",
      "/usr/local/lib/python3.8/dist-packages/urllib3/connectionpool.py:1056: InsecureRequestWarning: Unverified HTTPS request is being made to host '192.168.250.10'. Adding certificate verification is strongly advised. See: https://urllib3.readthedocs.io/en/1.26.x/advanced-usage.html#ssl-warnings\n",
      "  warnings.warn(\n",
      "/usr/local/lib/python3.8/dist-packages/urllib3/connectionpool.py:1056: InsecureRequestWarning: Unverified HTTPS request is being made to host '192.168.250.10'. Adding certificate verification is strongly advised. See: https://urllib3.readthedocs.io/en/1.26.x/advanced-usage.html#ssl-warnings\n",
      "  warnings.warn(\n",
      "/usr/local/lib/python3.8/dist-packages/urllib3/connectionpool.py:1056: InsecureRequestWarning: Unverified HTTPS request is being made to host '192.168.250.10'. Adding certificate verification is strongly advised. See: https://urllib3.readthedocs.io/en/1.26.x/advanced-usage.html#ssl-warnings\n",
      "  warnings.warn(\n"
     ]
    },
    {
     "name": "stdout",
     "output_type": "stream",
     "text": [
      "{'error': {'code': -1000, 'message': {'lang': 'en-us', 'value': \"Property 'CarCode' of 'BusinessPartner' is invalid\"}}}\n",
      "{'error': {'code': -1000, 'message': {'lang': 'en-us', 'value': \"Property 'CarCode' of 'BusinessPartner' is invalid\"}}}\n",
      "{'error': {'code': -1000, 'message': {'lang': 'en-us', 'value': \"Property 'CarCode' of 'BusinessPartner' is invalid\"}}}\n",
      "{'error': {'code': -1000, 'message': {'lang': 'en-us', 'value': \"Property 'CarCode' of 'BusinessPartner' is invalid\"}}}\n",
      "{'error': {'code': -1000, 'message': {'lang': 'en-us', 'value': \"Property 'CarCode' of 'BusinessPartner' is invalid\"}}}\n",
      "{'error': {'code': -1000, 'message': {'lang': 'en-us', 'value': \"Property 'CarCode' of 'BusinessPartner' is invalid\"}}}\n",
      "{'error': {'code': -1000, 'message': {'lang': 'en-us', 'value': \"Property 'CarCode' of 'BusinessPartner' is invalid\"}}}\n"
     ]
    },
    {
     "name": "stderr",
     "output_type": "stream",
     "text": [
      "/usr/local/lib/python3.8/dist-packages/urllib3/connectionpool.py:1056: InsecureRequestWarning: Unverified HTTPS request is being made to host '192.168.250.10'. Adding certificate verification is strongly advised. See: https://urllib3.readthedocs.io/en/1.26.x/advanced-usage.html#ssl-warnings\n",
      "  warnings.warn(\n",
      "/usr/local/lib/python3.8/dist-packages/urllib3/connectionpool.py:1056: InsecureRequestWarning: Unverified HTTPS request is being made to host '192.168.250.10'. Adding certificate verification is strongly advised. See: https://urllib3.readthedocs.io/en/1.26.x/advanced-usage.html#ssl-warnings\n",
      "  warnings.warn(\n",
      "/usr/local/lib/python3.8/dist-packages/urllib3/connectionpool.py:1056: InsecureRequestWarning: Unverified HTTPS request is being made to host '192.168.250.10'. Adding certificate verification is strongly advised. See: https://urllib3.readthedocs.io/en/1.26.x/advanced-usage.html#ssl-warnings\n",
      "  warnings.warn(\n",
      "/usr/local/lib/python3.8/dist-packages/urllib3/connectionpool.py:1056: InsecureRequestWarning: Unverified HTTPS request is being made to host '192.168.250.10'. Adding certificate verification is strongly advised. See: https://urllib3.readthedocs.io/en/1.26.x/advanced-usage.html#ssl-warnings\n",
      "  warnings.warn(\n",
      "/usr/local/lib/python3.8/dist-packages/urllib3/connectionpool.py:1056: InsecureRequestWarning: Unverified HTTPS request is being made to host '192.168.250.10'. Adding certificate verification is strongly advised. See: https://urllib3.readthedocs.io/en/1.26.x/advanced-usage.html#ssl-warnings\n",
      "  warnings.warn(\n",
      "/usr/local/lib/python3.8/dist-packages/urllib3/connectionpool.py:1056: InsecureRequestWarning: Unverified HTTPS request is being made to host '192.168.250.10'. Adding certificate verification is strongly advised. See: https://urllib3.readthedocs.io/en/1.26.x/advanced-usage.html#ssl-warnings\n",
      "  warnings.warn(\n",
      "/usr/local/lib/python3.8/dist-packages/urllib3/connectionpool.py:1056: InsecureRequestWarning: Unverified HTTPS request is being made to host '192.168.250.10'. Adding certificate verification is strongly advised. See: https://urllib3.readthedocs.io/en/1.26.x/advanced-usage.html#ssl-warnings\n",
      "  warnings.warn(\n",
      "/usr/local/lib/python3.8/dist-packages/urllib3/connectionpool.py:1056: InsecureRequestWarning: Unverified HTTPS request is being made to host '192.168.250.10'. Adding certificate verification is strongly advised. See: https://urllib3.readthedocs.io/en/1.26.x/advanced-usage.html#ssl-warnings\n",
      "  warnings.warn(\n"
     ]
    },
    {
     "name": "stdout",
     "output_type": "stream",
     "text": [
      "{'error': {'code': -1000, 'message': {'lang': 'en-us', 'value': \"Property 'CarCode' of 'BusinessPartner' is invalid\"}}}\n",
      "{'error': {'code': -1000, 'message': {'lang': 'en-us', 'value': \"Property 'CarCode' of 'BusinessPartner' is invalid\"}}}\n",
      "{'error': {'code': -1000, 'message': {'lang': 'en-us', 'value': \"Property 'CarCode' of 'BusinessPartner' is invalid\"}}}\n",
      "{'error': {'code': -1000, 'message': {'lang': 'en-us', 'value': \"Property 'CarCode' of 'BusinessPartner' is invalid\"}}}\n",
      "{'error': {'code': -1000, 'message': {'lang': 'en-us', 'value': \"Property 'CarCode' of 'BusinessPartner' is invalid\"}}}\n",
      "{'error': {'code': -1000, 'message': {'lang': 'en-us', 'value': \"Property 'CarCode' of 'BusinessPartner' is invalid\"}}}\n",
      "{'error': {'code': -1000, 'message': {'lang': 'en-us', 'value': \"Property 'CarCode' of 'BusinessPartner' is invalid\"}}}\n",
      "{'error': {'code': -1000, 'message': {'lang': 'en-us', 'value': \"Property 'CarCode' of 'BusinessPartner' is invalid\"}}}\n"
     ]
    },
    {
     "name": "stderr",
     "output_type": "stream",
     "text": [
      "/usr/local/lib/python3.8/dist-packages/urllib3/connectionpool.py:1056: InsecureRequestWarning: Unverified HTTPS request is being made to host '192.168.250.10'. Adding certificate verification is strongly advised. See: https://urllib3.readthedocs.io/en/1.26.x/advanced-usage.html#ssl-warnings\n",
      "  warnings.warn(\n",
      "/usr/local/lib/python3.8/dist-packages/urllib3/connectionpool.py:1056: InsecureRequestWarning: Unverified HTTPS request is being made to host '192.168.250.10'. Adding certificate verification is strongly advised. See: https://urllib3.readthedocs.io/en/1.26.x/advanced-usage.html#ssl-warnings\n",
      "  warnings.warn(\n",
      "/usr/local/lib/python3.8/dist-packages/urllib3/connectionpool.py:1056: InsecureRequestWarning: Unverified HTTPS request is being made to host '192.168.250.10'. Adding certificate verification is strongly advised. See: https://urllib3.readthedocs.io/en/1.26.x/advanced-usage.html#ssl-warnings\n",
      "  warnings.warn(\n",
      "/usr/local/lib/python3.8/dist-packages/urllib3/connectionpool.py:1056: InsecureRequestWarning: Unverified HTTPS request is being made to host '192.168.250.10'. Adding certificate verification is strongly advised. See: https://urllib3.readthedocs.io/en/1.26.x/advanced-usage.html#ssl-warnings\n",
      "  warnings.warn(\n",
      "/usr/local/lib/python3.8/dist-packages/urllib3/connectionpool.py:1056: InsecureRequestWarning: Unverified HTTPS request is being made to host '192.168.250.10'. Adding certificate verification is strongly advised. See: https://urllib3.readthedocs.io/en/1.26.x/advanced-usage.html#ssl-warnings\n",
      "  warnings.warn(\n",
      "/usr/local/lib/python3.8/dist-packages/urllib3/connectionpool.py:1056: InsecureRequestWarning: Unverified HTTPS request is being made to host '192.168.250.10'. Adding certificate verification is strongly advised. See: https://urllib3.readthedocs.io/en/1.26.x/advanced-usage.html#ssl-warnings\n",
      "  warnings.warn(\n",
      "/usr/local/lib/python3.8/dist-packages/urllib3/connectionpool.py:1056: InsecureRequestWarning: Unverified HTTPS request is being made to host '192.168.250.10'. Adding certificate verification is strongly advised. See: https://urllib3.readthedocs.io/en/1.26.x/advanced-usage.html#ssl-warnings\n",
      "  warnings.warn(\n"
     ]
    },
    {
     "name": "stdout",
     "output_type": "stream",
     "text": [
      "{'error': {'code': -1000, 'message': {'lang': 'en-us', 'value': \"Property 'CarCode' of 'BusinessPartner' is invalid\"}}}\n",
      "{'error': {'code': -1000, 'message': {'lang': 'en-us', 'value': \"Property 'CarCode' of 'BusinessPartner' is invalid\"}}}\n",
      "{'error': {'code': -1000, 'message': {'lang': 'en-us', 'value': \"Property 'CarCode' of 'BusinessPartner' is invalid\"}}}\n",
      "{'error': {'code': -1000, 'message': {'lang': 'en-us', 'value': \"Property 'CarCode' of 'BusinessPartner' is invalid\"}}}\n",
      "{'error': {'code': -1000, 'message': {'lang': 'en-us', 'value': \"Property 'CarCode' of 'BusinessPartner' is invalid\"}}}\n",
      "{'error': {'code': -1000, 'message': {'lang': 'en-us', 'value': \"Property 'CarCode' of 'BusinessPartner' is invalid\"}}}\n",
      "{'error': {'code': -1000, 'message': {'lang': 'en-us', 'value': \"Property 'CarCode' of 'BusinessPartner' is invalid\"}}}\n"
     ]
    },
    {
     "name": "stderr",
     "output_type": "stream",
     "text": [
      "/usr/local/lib/python3.8/dist-packages/urllib3/connectionpool.py:1056: InsecureRequestWarning: Unverified HTTPS request is being made to host '192.168.250.10'. Adding certificate verification is strongly advised. See: https://urllib3.readthedocs.io/en/1.26.x/advanced-usage.html#ssl-warnings\n",
      "  warnings.warn(\n",
      "/usr/local/lib/python3.8/dist-packages/urllib3/connectionpool.py:1056: InsecureRequestWarning: Unverified HTTPS request is being made to host '192.168.250.10'. Adding certificate verification is strongly advised. See: https://urllib3.readthedocs.io/en/1.26.x/advanced-usage.html#ssl-warnings\n",
      "  warnings.warn(\n",
      "/usr/local/lib/python3.8/dist-packages/urllib3/connectionpool.py:1056: InsecureRequestWarning: Unverified HTTPS request is being made to host '192.168.250.10'. Adding certificate verification is strongly advised. See: https://urllib3.readthedocs.io/en/1.26.x/advanced-usage.html#ssl-warnings\n",
      "  warnings.warn(\n",
      "/usr/local/lib/python3.8/dist-packages/urllib3/connectionpool.py:1056: InsecureRequestWarning: Unverified HTTPS request is being made to host '192.168.250.10'. Adding certificate verification is strongly advised. See: https://urllib3.readthedocs.io/en/1.26.x/advanced-usage.html#ssl-warnings\n",
      "  warnings.warn(\n",
      "/usr/local/lib/python3.8/dist-packages/urllib3/connectionpool.py:1056: InsecureRequestWarning: Unverified HTTPS request is being made to host '192.168.250.10'. Adding certificate verification is strongly advised. See: https://urllib3.readthedocs.io/en/1.26.x/advanced-usage.html#ssl-warnings\n",
      "  warnings.warn(\n",
      "/usr/local/lib/python3.8/dist-packages/urllib3/connectionpool.py:1056: InsecureRequestWarning: Unverified HTTPS request is being made to host '192.168.250.10'. Adding certificate verification is strongly advised. See: https://urllib3.readthedocs.io/en/1.26.x/advanced-usage.html#ssl-warnings\n",
      "  warnings.warn(\n",
      "/usr/local/lib/python3.8/dist-packages/urllib3/connectionpool.py:1056: InsecureRequestWarning: Unverified HTTPS request is being made to host '192.168.250.10'. Adding certificate verification is strongly advised. See: https://urllib3.readthedocs.io/en/1.26.x/advanced-usage.html#ssl-warnings\n",
      "  warnings.warn(\n",
      "/usr/local/lib/python3.8/dist-packages/urllib3/connectionpool.py:1056: InsecureRequestWarning: Unverified HTTPS request is being made to host '192.168.250.10'. Adding certificate verification is strongly advised. See: https://urllib3.readthedocs.io/en/1.26.x/advanced-usage.html#ssl-warnings\n",
      "  warnings.warn(\n",
      "/usr/local/lib/python3.8/dist-packages/urllib3/connectionpool.py:1056: InsecureRequestWarning: Unverified HTTPS request is being made to host '192.168.250.10'. Adding certificate verification is strongly advised. See: https://urllib3.readthedocs.io/en/1.26.x/advanced-usage.html#ssl-warnings\n",
      "  warnings.warn(\n",
      "/usr/local/lib/python3.8/dist-packages/urllib3/connectionpool.py:1056: InsecureRequestWarning: Unverified HTTPS request is being made to host '192.168.250.10'. Adding certificate verification is strongly advised. See: https://urllib3.readthedocs.io/en/1.26.x/advanced-usage.html#ssl-warnings\n",
      "  warnings.warn(\n",
      "/usr/local/lib/python3.8/dist-packages/urllib3/connectionpool.py:1056: InsecureRequestWarning: Unverified HTTPS request is being made to host '192.168.250.10'. Adding certificate verification is strongly advised. See: https://urllib3.readthedocs.io/en/1.26.x/advanced-usage.html#ssl-warnings\n",
      "  warnings.warn(\n"
     ]
    },
    {
     "name": "stdout",
     "output_type": "stream",
     "text": [
      "{'error': {'code': -1000, 'message': {'lang': 'en-us', 'value': \"Property 'CarCode' of 'BusinessPartner' is invalid\"}}}\n",
      "{'error': {'code': -1000, 'message': {'lang': 'en-us', 'value': \"Property 'CarCode' of 'BusinessPartner' is invalid\"}}}\n",
      "{'error': {'code': -1000, 'message': {'lang': 'en-us', 'value': \"Property 'CarCode' of 'BusinessPartner' is invalid\"}}}\n",
      "{'error': {'code': -1000, 'message': {'lang': 'en-us', 'value': \"Property 'CarCode' of 'BusinessPartner' is invalid\"}}}\n",
      "{'error': {'code': -1000, 'message': {'lang': 'en-us', 'value': \"Property 'CarCode' of 'BusinessPartner' is invalid\"}}}\n",
      "{'error': {'code': -1000, 'message': {'lang': 'en-us', 'value': \"Property 'CarCode' of 'BusinessPartner' is invalid\"}}}\n",
      "{'error': {'code': -1000, 'message': {'lang': 'en-us', 'value': \"Property 'CarCode' of 'BusinessPartner' is invalid\"}}}\n",
      "{'error': {'code': -1000, 'message': {'lang': 'en-us', 'value': \"Property 'CarCode' of 'BusinessPartner' is invalid\"}}}\n",
      "{'error': {'code': -1000, 'message': {'lang': 'en-us', 'value': \"Property 'CarCode' of 'BusinessPartner' is invalid\"}}}\n",
      "{'error': {'code': -1000, 'message': {'lang': 'en-us', 'value': \"Property 'CarCode' of 'BusinessPartner' is invalid\"}}}\n",
      "{'error': {'code': -1000, 'message': {'lang': 'en-us', 'value': \"Property 'CarCode' of 'BusinessPartner' is invalid\"}}}\n"
     ]
    },
    {
     "name": "stderr",
     "output_type": "stream",
     "text": [
      "/usr/local/lib/python3.8/dist-packages/urllib3/connectionpool.py:1056: InsecureRequestWarning: Unverified HTTPS request is being made to host '192.168.250.10'. Adding certificate verification is strongly advised. See: https://urllib3.readthedocs.io/en/1.26.x/advanced-usage.html#ssl-warnings\n",
      "  warnings.warn(\n",
      "/usr/local/lib/python3.8/dist-packages/urllib3/connectionpool.py:1056: InsecureRequestWarning: Unverified HTTPS request is being made to host '192.168.250.10'. Adding certificate verification is strongly advised. See: https://urllib3.readthedocs.io/en/1.26.x/advanced-usage.html#ssl-warnings\n",
      "  warnings.warn(\n",
      "/usr/local/lib/python3.8/dist-packages/urllib3/connectionpool.py:1056: InsecureRequestWarning: Unverified HTTPS request is being made to host '192.168.250.10'. Adding certificate verification is strongly advised. See: https://urllib3.readthedocs.io/en/1.26.x/advanced-usage.html#ssl-warnings\n",
      "  warnings.warn(\n",
      "/usr/local/lib/python3.8/dist-packages/urllib3/connectionpool.py:1056: InsecureRequestWarning: Unverified HTTPS request is being made to host '192.168.250.10'. Adding certificate verification is strongly advised. See: https://urllib3.readthedocs.io/en/1.26.x/advanced-usage.html#ssl-warnings\n",
      "  warnings.warn(\n",
      "/usr/local/lib/python3.8/dist-packages/urllib3/connectionpool.py:1056: InsecureRequestWarning: Unverified HTTPS request is being made to host '192.168.250.10'. Adding certificate verification is strongly advised. See: https://urllib3.readthedocs.io/en/1.26.x/advanced-usage.html#ssl-warnings\n",
      "  warnings.warn(\n",
      "/usr/local/lib/python3.8/dist-packages/urllib3/connectionpool.py:1056: InsecureRequestWarning: Unverified HTTPS request is being made to host '192.168.250.10'. Adding certificate verification is strongly advised. See: https://urllib3.readthedocs.io/en/1.26.x/advanced-usage.html#ssl-warnings\n",
      "  warnings.warn(\n",
      "/usr/local/lib/python3.8/dist-packages/urllib3/connectionpool.py:1056: InsecureRequestWarning: Unverified HTTPS request is being made to host '192.168.250.10'. Adding certificate verification is strongly advised. See: https://urllib3.readthedocs.io/en/1.26.x/advanced-usage.html#ssl-warnings\n",
      "  warnings.warn(\n",
      "/usr/local/lib/python3.8/dist-packages/urllib3/connectionpool.py:1056: InsecureRequestWarning: Unverified HTTPS request is being made to host '192.168.250.10'. Adding certificate verification is strongly advised. See: https://urllib3.readthedocs.io/en/1.26.x/advanced-usage.html#ssl-warnings\n",
      "  warnings.warn(\n",
      "/usr/local/lib/python3.8/dist-packages/urllib3/connectionpool.py:1056: InsecureRequestWarning: Unverified HTTPS request is being made to host '192.168.250.10'. Adding certificate verification is strongly advised. See: https://urllib3.readthedocs.io/en/1.26.x/advanced-usage.html#ssl-warnings\n",
      "  warnings.warn(\n"
     ]
    },
    {
     "name": "stdout",
     "output_type": "stream",
     "text": [
      "{'error': {'code': -1000, 'message': {'lang': 'en-us', 'value': \"Property 'CarCode' of 'BusinessPartner' is invalid\"}}}\n",
      "{'error': {'code': -1000, 'message': {'lang': 'en-us', 'value': \"Property 'CarCode' of 'BusinessPartner' is invalid\"}}}\n",
      "{'error': {'code': -1000, 'message': {'lang': 'en-us', 'value': \"Property 'CarCode' of 'BusinessPartner' is invalid\"}}}\n",
      "{'error': {'code': -1000, 'message': {'lang': 'en-us', 'value': \"Property 'CarCode' of 'BusinessPartner' is invalid\"}}}\n",
      "{'error': {'code': -1000, 'message': {'lang': 'en-us', 'value': \"Property 'CarCode' of 'BusinessPartner' is invalid\"}}}\n",
      "{'error': {'code': -1000, 'message': {'lang': 'en-us', 'value': \"Property 'CarCode' of 'BusinessPartner' is invalid\"}}}\n",
      "{'error': {'code': -1000, 'message': {'lang': 'en-us', 'value': \"Property 'CarCode' of 'BusinessPartner' is invalid\"}}}\n",
      "{'error': {'code': -1000, 'message': {'lang': 'en-us', 'value': \"Property 'CarCode' of 'BusinessPartner' is invalid\"}}}\n",
      "{'error': {'code': -1000, 'message': {'lang': 'en-us', 'value': \"Property 'CarCode' of 'BusinessPartner' is invalid\"}}}\n"
     ]
    },
    {
     "name": "stderr",
     "output_type": "stream",
     "text": [
      "/usr/local/lib/python3.8/dist-packages/urllib3/connectionpool.py:1056: InsecureRequestWarning: Unverified HTTPS request is being made to host '192.168.250.10'. Adding certificate verification is strongly advised. See: https://urllib3.readthedocs.io/en/1.26.x/advanced-usage.html#ssl-warnings\n",
      "  warnings.warn(\n",
      "/usr/local/lib/python3.8/dist-packages/urllib3/connectionpool.py:1056: InsecureRequestWarning: Unverified HTTPS request is being made to host '192.168.250.10'. Adding certificate verification is strongly advised. See: https://urllib3.readthedocs.io/en/1.26.x/advanced-usage.html#ssl-warnings\n",
      "  warnings.warn(\n",
      "/usr/local/lib/python3.8/dist-packages/urllib3/connectionpool.py:1056: InsecureRequestWarning: Unverified HTTPS request is being made to host '192.168.250.10'. Adding certificate verification is strongly advised. See: https://urllib3.readthedocs.io/en/1.26.x/advanced-usage.html#ssl-warnings\n",
      "  warnings.warn(\n",
      "/usr/local/lib/python3.8/dist-packages/urllib3/connectionpool.py:1056: InsecureRequestWarning: Unverified HTTPS request is being made to host '192.168.250.10'. Adding certificate verification is strongly advised. See: https://urllib3.readthedocs.io/en/1.26.x/advanced-usage.html#ssl-warnings\n",
      "  warnings.warn(\n",
      "/usr/local/lib/python3.8/dist-packages/urllib3/connectionpool.py:1056: InsecureRequestWarning: Unverified HTTPS request is being made to host '192.168.250.10'. Adding certificate verification is strongly advised. See: https://urllib3.readthedocs.io/en/1.26.x/advanced-usage.html#ssl-warnings\n",
      "  warnings.warn(\n",
      "/usr/local/lib/python3.8/dist-packages/urllib3/connectionpool.py:1056: InsecureRequestWarning: Unverified HTTPS request is being made to host '192.168.250.10'. Adding certificate verification is strongly advised. See: https://urllib3.readthedocs.io/en/1.26.x/advanced-usage.html#ssl-warnings\n",
      "  warnings.warn(\n",
      "/usr/local/lib/python3.8/dist-packages/urllib3/connectionpool.py:1056: InsecureRequestWarning: Unverified HTTPS request is being made to host '192.168.250.10'. Adding certificate verification is strongly advised. See: https://urllib3.readthedocs.io/en/1.26.x/advanced-usage.html#ssl-warnings\n",
      "  warnings.warn(\n",
      "/usr/local/lib/python3.8/dist-packages/urllib3/connectionpool.py:1056: InsecureRequestWarning: Unverified HTTPS request is being made to host '192.168.250.10'. Adding certificate verification is strongly advised. See: https://urllib3.readthedocs.io/en/1.26.x/advanced-usage.html#ssl-warnings\n",
      "  warnings.warn(\n",
      "/usr/local/lib/python3.8/dist-packages/urllib3/connectionpool.py:1056: InsecureRequestWarning: Unverified HTTPS request is being made to host '192.168.250.10'. Adding certificate verification is strongly advised. See: https://urllib3.readthedocs.io/en/1.26.x/advanced-usage.html#ssl-warnings\n",
      "  warnings.warn(\n"
     ]
    },
    {
     "name": "stdout",
     "output_type": "stream",
     "text": [
      "{'error': {'code': -1000, 'message': {'lang': 'en-us', 'value': \"Property 'CarCode' of 'BusinessPartner' is invalid\"}}}\n",
      "{'error': {'code': -1000, 'message': {'lang': 'en-us', 'value': \"Property 'CarCode' of 'BusinessPartner' is invalid\"}}}\n",
      "{'error': {'code': -1000, 'message': {'lang': 'en-us', 'value': \"Property 'CarCode' of 'BusinessPartner' is invalid\"}}}\n",
      "{'error': {'code': -1000, 'message': {'lang': 'en-us', 'value': \"Property 'CarCode' of 'BusinessPartner' is invalid\"}}}\n",
      "{'error': {'code': -1000, 'message': {'lang': 'en-us', 'value': \"Property 'CarCode' of 'BusinessPartner' is invalid\"}}}\n",
      "{'error': {'code': -1000, 'message': {'lang': 'en-us', 'value': \"Property 'CarCode' of 'BusinessPartner' is invalid\"}}}\n",
      "{'error': {'code': -1000, 'message': {'lang': 'en-us', 'value': \"Property 'CarCode' of 'BusinessPartner' is invalid\"}}}\n",
      "{'error': {'code': -1000, 'message': {'lang': 'en-us', 'value': \"Property 'CarCode' of 'BusinessPartner' is invalid\"}}}\n",
      "{'error': {'code': -1000, 'message': {'lang': 'en-us', 'value': \"Property 'CarCode' of 'BusinessPartner' is invalid\"}}}\n"
     ]
    },
    {
     "name": "stderr",
     "output_type": "stream",
     "text": [
      "/usr/local/lib/python3.8/dist-packages/urllib3/connectionpool.py:1056: InsecureRequestWarning: Unverified HTTPS request is being made to host '192.168.250.10'. Adding certificate verification is strongly advised. See: https://urllib3.readthedocs.io/en/1.26.x/advanced-usage.html#ssl-warnings\n",
      "  warnings.warn(\n",
      "/usr/local/lib/python3.8/dist-packages/urllib3/connectionpool.py:1056: InsecureRequestWarning: Unverified HTTPS request is being made to host '192.168.250.10'. Adding certificate verification is strongly advised. See: https://urllib3.readthedocs.io/en/1.26.x/advanced-usage.html#ssl-warnings\n",
      "  warnings.warn(\n",
      "/usr/local/lib/python3.8/dist-packages/urllib3/connectionpool.py:1056: InsecureRequestWarning: Unverified HTTPS request is being made to host '192.168.250.10'. Adding certificate verification is strongly advised. See: https://urllib3.readthedocs.io/en/1.26.x/advanced-usage.html#ssl-warnings\n",
      "  warnings.warn(\n",
      "/usr/local/lib/python3.8/dist-packages/urllib3/connectionpool.py:1056: InsecureRequestWarning: Unverified HTTPS request is being made to host '192.168.250.10'. Adding certificate verification is strongly advised. See: https://urllib3.readthedocs.io/en/1.26.x/advanced-usage.html#ssl-warnings\n",
      "  warnings.warn(\n",
      "/usr/local/lib/python3.8/dist-packages/urllib3/connectionpool.py:1056: InsecureRequestWarning: Unverified HTTPS request is being made to host '192.168.250.10'. Adding certificate verification is strongly advised. See: https://urllib3.readthedocs.io/en/1.26.x/advanced-usage.html#ssl-warnings\n",
      "  warnings.warn(\n",
      "/usr/local/lib/python3.8/dist-packages/urllib3/connectionpool.py:1056: InsecureRequestWarning: Unverified HTTPS request is being made to host '192.168.250.10'. Adding certificate verification is strongly advised. See: https://urllib3.readthedocs.io/en/1.26.x/advanced-usage.html#ssl-warnings\n",
      "  warnings.warn(\n"
     ]
    },
    {
     "name": "stdout",
     "output_type": "stream",
     "text": [
      "{'error': {'code': -1000, 'message': {'lang': 'en-us', 'value': \"Property 'CarCode' of 'BusinessPartner' is invalid\"}}}\n",
      "{'error': {'code': -1000, 'message': {'lang': 'en-us', 'value': \"Property 'CarCode' of 'BusinessPartner' is invalid\"}}}\n",
      "{'error': {'code': -1000, 'message': {'lang': 'en-us', 'value': \"Property 'CarCode' of 'BusinessPartner' is invalid\"}}}\n",
      "{'error': {'code': -1000, 'message': {'lang': 'en-us', 'value': \"Property 'CarCode' of 'BusinessPartner' is invalid\"}}}\n",
      "{'error': {'code': -1000, 'message': {'lang': 'en-us', 'value': \"Property 'CarCode' of 'BusinessPartner' is invalid\"}}}\n"
     ]
    },
    {
     "ename": "KeyboardInterrupt",
     "evalue": "",
     "output_type": "error",
     "traceback": [
      "\u001b[0;31m---------------------------------------------------------------------------\u001b[0m",
      "\u001b[0;31mKeyboardInterrupt\u001b[0m                         Traceback (most recent call last)",
      "Cell \u001b[0;32mIn[3], line 52\u001b[0m\n\u001b[1;32m     39\u001b[0m \u001b[39mfor\u001b[39;00m line \u001b[39min\u001b[39;00m mylist : \n\u001b[1;32m     42\u001b[0m \tpayload \u001b[39m=\u001b[39m {\n\u001b[1;32m     43\u001b[0m \t\t\t\t\u001b[39m\"\u001b[39m\u001b[39mCarCode\u001b[39m\u001b[39m\"\u001b[39m : line[\u001b[39m0\u001b[39m],\n\u001b[1;32m     44\u001b[0m \t\t\t\t\u001b[39m\"\u001b[39m\u001b[39mCardName\u001b[39m\u001b[39m\"\u001b[39m : line[\u001b[39m1\u001b[39m],\n\u001b[0;32m   (...)\u001b[0m\n\u001b[1;32m     49\u001b[0m \t\t\t\t \n\u001b[1;32m     50\u001b[0m \t\t\t}               \n\u001b[0;32m---> 52\u001b[0m \trsp \u001b[39m=\u001b[39m appSession\u001b[39m.\u001b[39;49mpost(url,json\u001b[39m=\u001b[39;49mpayload,verify\u001b[39m=\u001b[39;49m\u001b[39mFalse\u001b[39;49;00m)\n\u001b[1;32m     53\u001b[0m \t\u001b[39m#print(line[0])\u001b[39;00m\n\u001b[1;32m     54\u001b[0m \t\u001b[39mprint\u001b[39m(rsp\u001b[39m.\u001b[39mjson())\n",
      "File \u001b[0;32m~/.local/lib/python3.8/site-packages/requests/sessions.py:637\u001b[0m, in \u001b[0;36mSession.post\u001b[0;34m(self, url, data, json, **kwargs)\u001b[0m\n\u001b[1;32m    626\u001b[0m \u001b[39mdef\u001b[39;00m \u001b[39mpost\u001b[39m(\u001b[39mself\u001b[39m, url, data\u001b[39m=\u001b[39m\u001b[39mNone\u001b[39;00m, json\u001b[39m=\u001b[39m\u001b[39mNone\u001b[39;00m, \u001b[39m*\u001b[39m\u001b[39m*\u001b[39mkwargs):\n\u001b[1;32m    627\u001b[0m \u001b[39m    \u001b[39m\u001b[39mr\u001b[39m\u001b[39m\"\"\"Sends a POST request. Returns :class:`Response` object.\u001b[39;00m\n\u001b[1;32m    628\u001b[0m \n\u001b[1;32m    629\u001b[0m \u001b[39m    :param url: URL for the new :class:`Request` object.\u001b[39;00m\n\u001b[0;32m   (...)\u001b[0m\n\u001b[1;32m    634\u001b[0m \u001b[39m    :rtype: requests.Response\u001b[39;00m\n\u001b[1;32m    635\u001b[0m \u001b[39m    \"\"\"\u001b[39;00m\n\u001b[0;32m--> 637\u001b[0m     \u001b[39mreturn\u001b[39;00m \u001b[39mself\u001b[39;49m\u001b[39m.\u001b[39;49mrequest(\u001b[39m\"\u001b[39;49m\u001b[39mPOST\u001b[39;49m\u001b[39m\"\u001b[39;49m, url, data\u001b[39m=\u001b[39;49mdata, json\u001b[39m=\u001b[39;49mjson, \u001b[39m*\u001b[39;49m\u001b[39m*\u001b[39;49mkwargs)\n",
      "File \u001b[0;32m~/.local/lib/python3.8/site-packages/requests/sessions.py:589\u001b[0m, in \u001b[0;36mSession.request\u001b[0;34m(self, method, url, params, data, headers, cookies, files, auth, timeout, allow_redirects, proxies, hooks, stream, verify, cert, json)\u001b[0m\n\u001b[1;32m    584\u001b[0m send_kwargs \u001b[39m=\u001b[39m {\n\u001b[1;32m    585\u001b[0m     \u001b[39m\"\u001b[39m\u001b[39mtimeout\u001b[39m\u001b[39m\"\u001b[39m: timeout,\n\u001b[1;32m    586\u001b[0m     \u001b[39m\"\u001b[39m\u001b[39mallow_redirects\u001b[39m\u001b[39m\"\u001b[39m: allow_redirects,\n\u001b[1;32m    587\u001b[0m }\n\u001b[1;32m    588\u001b[0m send_kwargs\u001b[39m.\u001b[39mupdate(settings)\n\u001b[0;32m--> 589\u001b[0m resp \u001b[39m=\u001b[39m \u001b[39mself\u001b[39;49m\u001b[39m.\u001b[39;49msend(prep, \u001b[39m*\u001b[39;49m\u001b[39m*\u001b[39;49msend_kwargs)\n\u001b[1;32m    591\u001b[0m \u001b[39mreturn\u001b[39;00m resp\n",
      "File \u001b[0;32m~/.local/lib/python3.8/site-packages/requests/sessions.py:703\u001b[0m, in \u001b[0;36mSession.send\u001b[0;34m(self, request, **kwargs)\u001b[0m\n\u001b[1;32m    700\u001b[0m start \u001b[39m=\u001b[39m preferred_clock()\n\u001b[1;32m    702\u001b[0m \u001b[39m# Send the request\u001b[39;00m\n\u001b[0;32m--> 703\u001b[0m r \u001b[39m=\u001b[39m adapter\u001b[39m.\u001b[39;49msend(request, \u001b[39m*\u001b[39;49m\u001b[39m*\u001b[39;49mkwargs)\n\u001b[1;32m    705\u001b[0m \u001b[39m# Total elapsed time of the request (approximately)\u001b[39;00m\n\u001b[1;32m    706\u001b[0m elapsed \u001b[39m=\u001b[39m preferred_clock() \u001b[39m-\u001b[39m start\n",
      "File \u001b[0;32m~/.local/lib/python3.8/site-packages/requests/adapters.py:486\u001b[0m, in \u001b[0;36mHTTPAdapter.send\u001b[0;34m(self, request, stream, timeout, verify, cert, proxies)\u001b[0m\n\u001b[1;32m    483\u001b[0m     timeout \u001b[39m=\u001b[39m TimeoutSauce(connect\u001b[39m=\u001b[39mtimeout, read\u001b[39m=\u001b[39mtimeout)\n\u001b[1;32m    485\u001b[0m \u001b[39mtry\u001b[39;00m:\n\u001b[0;32m--> 486\u001b[0m     resp \u001b[39m=\u001b[39m conn\u001b[39m.\u001b[39;49murlopen(\n\u001b[1;32m    487\u001b[0m         method\u001b[39m=\u001b[39;49mrequest\u001b[39m.\u001b[39;49mmethod,\n\u001b[1;32m    488\u001b[0m         url\u001b[39m=\u001b[39;49murl,\n\u001b[1;32m    489\u001b[0m         body\u001b[39m=\u001b[39;49mrequest\u001b[39m.\u001b[39;49mbody,\n\u001b[1;32m    490\u001b[0m         headers\u001b[39m=\u001b[39;49mrequest\u001b[39m.\u001b[39;49mheaders,\n\u001b[1;32m    491\u001b[0m         redirect\u001b[39m=\u001b[39;49m\u001b[39mFalse\u001b[39;49;00m,\n\u001b[1;32m    492\u001b[0m         assert_same_host\u001b[39m=\u001b[39;49m\u001b[39mFalse\u001b[39;49;00m,\n\u001b[1;32m    493\u001b[0m         preload_content\u001b[39m=\u001b[39;49m\u001b[39mFalse\u001b[39;49;00m,\n\u001b[1;32m    494\u001b[0m         decode_content\u001b[39m=\u001b[39;49m\u001b[39mFalse\u001b[39;49;00m,\n\u001b[1;32m    495\u001b[0m         retries\u001b[39m=\u001b[39;49m\u001b[39mself\u001b[39;49m\u001b[39m.\u001b[39;49mmax_retries,\n\u001b[1;32m    496\u001b[0m         timeout\u001b[39m=\u001b[39;49mtimeout,\n\u001b[1;32m    497\u001b[0m         chunked\u001b[39m=\u001b[39;49mchunked,\n\u001b[1;32m    498\u001b[0m     )\n\u001b[1;32m    500\u001b[0m \u001b[39mexcept\u001b[39;00m (ProtocolError, \u001b[39mOSError\u001b[39;00m) \u001b[39mas\u001b[39;00m err:\n\u001b[1;32m    501\u001b[0m     \u001b[39mraise\u001b[39;00m \u001b[39mConnectionError\u001b[39;00m(err, request\u001b[39m=\u001b[39mrequest)\n",
      "File \u001b[0;32m/usr/local/lib/python3.8/dist-packages/urllib3/connectionpool.py:714\u001b[0m, in \u001b[0;36mHTTPConnectionPool.urlopen\u001b[0;34m(self, method, url, body, headers, retries, redirect, assert_same_host, timeout, pool_timeout, release_conn, chunked, body_pos, **response_kw)\u001b[0m\n\u001b[1;32m    711\u001b[0m     \u001b[39mself\u001b[39m\u001b[39m.\u001b[39m_prepare_proxy(conn)\n\u001b[1;32m    713\u001b[0m \u001b[39m# Make the request on the httplib connection object.\u001b[39;00m\n\u001b[0;32m--> 714\u001b[0m httplib_response \u001b[39m=\u001b[39m \u001b[39mself\u001b[39;49m\u001b[39m.\u001b[39;49m_make_request(\n\u001b[1;32m    715\u001b[0m     conn,\n\u001b[1;32m    716\u001b[0m     method,\n\u001b[1;32m    717\u001b[0m     url,\n\u001b[1;32m    718\u001b[0m     timeout\u001b[39m=\u001b[39;49mtimeout_obj,\n\u001b[1;32m    719\u001b[0m     body\u001b[39m=\u001b[39;49mbody,\n\u001b[1;32m    720\u001b[0m     headers\u001b[39m=\u001b[39;49mheaders,\n\u001b[1;32m    721\u001b[0m     chunked\u001b[39m=\u001b[39;49mchunked,\n\u001b[1;32m    722\u001b[0m )\n\u001b[1;32m    724\u001b[0m \u001b[39m# If we're going to release the connection in ``finally:``, then\u001b[39;00m\n\u001b[1;32m    725\u001b[0m \u001b[39m# the response doesn't need to know about the connection. Otherwise\u001b[39;00m\n\u001b[1;32m    726\u001b[0m \u001b[39m# it will also try to release it and we'll have a double-release\u001b[39;00m\n\u001b[1;32m    727\u001b[0m \u001b[39m# mess.\u001b[39;00m\n\u001b[1;32m    728\u001b[0m response_conn \u001b[39m=\u001b[39m conn \u001b[39mif\u001b[39;00m \u001b[39mnot\u001b[39;00m release_conn \u001b[39melse\u001b[39;00m \u001b[39mNone\u001b[39;00m\n",
      "File \u001b[0;32m/usr/local/lib/python3.8/dist-packages/urllib3/connectionpool.py:466\u001b[0m, in \u001b[0;36mHTTPConnectionPool._make_request\u001b[0;34m(self, conn, method, url, timeout, chunked, **httplib_request_kw)\u001b[0m\n\u001b[1;32m    461\u001b[0m             httplib_response \u001b[39m=\u001b[39m conn\u001b[39m.\u001b[39mgetresponse()\n\u001b[1;32m    462\u001b[0m         \u001b[39mexcept\u001b[39;00m \u001b[39mBaseException\u001b[39;00m \u001b[39mas\u001b[39;00m e:\n\u001b[1;32m    463\u001b[0m             \u001b[39m# Remove the TypeError from the exception chain in\u001b[39;00m\n\u001b[1;32m    464\u001b[0m             \u001b[39m# Python 3 (including for exceptions like SystemExit).\u001b[39;00m\n\u001b[1;32m    465\u001b[0m             \u001b[39m# Otherwise it looks like a bug in the code.\u001b[39;00m\n\u001b[0;32m--> 466\u001b[0m             six\u001b[39m.\u001b[39;49mraise_from(e, \u001b[39mNone\u001b[39;49;00m)\n\u001b[1;32m    467\u001b[0m \u001b[39mexcept\u001b[39;00m (SocketTimeout, BaseSSLError, SocketError) \u001b[39mas\u001b[39;00m e:\n\u001b[1;32m    468\u001b[0m     \u001b[39mself\u001b[39m\u001b[39m.\u001b[39m_raise_timeout(err\u001b[39m=\u001b[39me, url\u001b[39m=\u001b[39murl, timeout_value\u001b[39m=\u001b[39mread_timeout)\n",
      "File \u001b[0;32m<string>:3\u001b[0m, in \u001b[0;36mraise_from\u001b[0;34m(value, from_value)\u001b[0m\n",
      "File \u001b[0;32m/usr/local/lib/python3.8/dist-packages/urllib3/connectionpool.py:461\u001b[0m, in \u001b[0;36mHTTPConnectionPool._make_request\u001b[0;34m(self, conn, method, url, timeout, chunked, **httplib_request_kw)\u001b[0m\n\u001b[1;32m    458\u001b[0m \u001b[39mexcept\u001b[39;00m \u001b[39mTypeError\u001b[39;00m:\n\u001b[1;32m    459\u001b[0m     \u001b[39m# Python 3\u001b[39;00m\n\u001b[1;32m    460\u001b[0m     \u001b[39mtry\u001b[39;00m:\n\u001b[0;32m--> 461\u001b[0m         httplib_response \u001b[39m=\u001b[39m conn\u001b[39m.\u001b[39;49mgetresponse()\n\u001b[1;32m    462\u001b[0m     \u001b[39mexcept\u001b[39;00m \u001b[39mBaseException\u001b[39;00m \u001b[39mas\u001b[39;00m e:\n\u001b[1;32m    463\u001b[0m         \u001b[39m# Remove the TypeError from the exception chain in\u001b[39;00m\n\u001b[1;32m    464\u001b[0m         \u001b[39m# Python 3 (including for exceptions like SystemExit).\u001b[39;00m\n\u001b[1;32m    465\u001b[0m         \u001b[39m# Otherwise it looks like a bug in the code.\u001b[39;00m\n\u001b[1;32m    466\u001b[0m         six\u001b[39m.\u001b[39mraise_from(e, \u001b[39mNone\u001b[39;00m)\n",
      "File \u001b[0;32m/usr/lib/python3.8/http/client.py:1348\u001b[0m, in \u001b[0;36mHTTPConnection.getresponse\u001b[0;34m(self)\u001b[0m\n\u001b[1;32m   1346\u001b[0m \u001b[39mtry\u001b[39;00m:\n\u001b[1;32m   1347\u001b[0m     \u001b[39mtry\u001b[39;00m:\n\u001b[0;32m-> 1348\u001b[0m         response\u001b[39m.\u001b[39;49mbegin()\n\u001b[1;32m   1349\u001b[0m     \u001b[39mexcept\u001b[39;00m \u001b[39mConnectionError\u001b[39;00m:\n\u001b[1;32m   1350\u001b[0m         \u001b[39mself\u001b[39m\u001b[39m.\u001b[39mclose()\n",
      "File \u001b[0;32m/usr/lib/python3.8/http/client.py:316\u001b[0m, in \u001b[0;36mHTTPResponse.begin\u001b[0;34m(self)\u001b[0m\n\u001b[1;32m    314\u001b[0m \u001b[39m# read until we get a non-100 response\u001b[39;00m\n\u001b[1;32m    315\u001b[0m \u001b[39mwhile\u001b[39;00m \u001b[39mTrue\u001b[39;00m:\n\u001b[0;32m--> 316\u001b[0m     version, status, reason \u001b[39m=\u001b[39m \u001b[39mself\u001b[39;49m\u001b[39m.\u001b[39;49m_read_status()\n\u001b[1;32m    317\u001b[0m     \u001b[39mif\u001b[39;00m status \u001b[39m!=\u001b[39m CONTINUE:\n\u001b[1;32m    318\u001b[0m         \u001b[39mbreak\u001b[39;00m\n",
      "File \u001b[0;32m/usr/lib/python3.8/http/client.py:277\u001b[0m, in \u001b[0;36mHTTPResponse._read_status\u001b[0;34m(self)\u001b[0m\n\u001b[1;32m    276\u001b[0m \u001b[39mdef\u001b[39;00m \u001b[39m_read_status\u001b[39m(\u001b[39mself\u001b[39m):\n\u001b[0;32m--> 277\u001b[0m     line \u001b[39m=\u001b[39m \u001b[39mstr\u001b[39m(\u001b[39mself\u001b[39;49m\u001b[39m.\u001b[39;49mfp\u001b[39m.\u001b[39;49mreadline(_MAXLINE \u001b[39m+\u001b[39;49m \u001b[39m1\u001b[39;49m), \u001b[39m\"\u001b[39m\u001b[39miso-8859-1\u001b[39m\u001b[39m\"\u001b[39m)\n\u001b[1;32m    278\u001b[0m     \u001b[39mif\u001b[39;00m \u001b[39mlen\u001b[39m(line) \u001b[39m>\u001b[39m _MAXLINE:\n\u001b[1;32m    279\u001b[0m         \u001b[39mraise\u001b[39;00m LineTooLong(\u001b[39m\"\u001b[39m\u001b[39mstatus line\u001b[39m\u001b[39m\"\u001b[39m)\n",
      "File \u001b[0;32m/usr/lib/python3.8/socket.py:669\u001b[0m, in \u001b[0;36mSocketIO.readinto\u001b[0;34m(self, b)\u001b[0m\n\u001b[1;32m    667\u001b[0m \u001b[39mwhile\u001b[39;00m \u001b[39mTrue\u001b[39;00m:\n\u001b[1;32m    668\u001b[0m     \u001b[39mtry\u001b[39;00m:\n\u001b[0;32m--> 669\u001b[0m         \u001b[39mreturn\u001b[39;00m \u001b[39mself\u001b[39;49m\u001b[39m.\u001b[39;49m_sock\u001b[39m.\u001b[39;49mrecv_into(b)\n\u001b[1;32m    670\u001b[0m     \u001b[39mexcept\u001b[39;00m timeout:\n\u001b[1;32m    671\u001b[0m         \u001b[39mself\u001b[39m\u001b[39m.\u001b[39m_timeout_occurred \u001b[39m=\u001b[39m \u001b[39mTrue\u001b[39;00m\n",
      "File \u001b[0;32m/usr/lib/python3.8/ssl.py:1241\u001b[0m, in \u001b[0;36mSSLSocket.recv_into\u001b[0;34m(self, buffer, nbytes, flags)\u001b[0m\n\u001b[1;32m   1237\u001b[0m     \u001b[39mif\u001b[39;00m flags \u001b[39m!=\u001b[39m \u001b[39m0\u001b[39m:\n\u001b[1;32m   1238\u001b[0m         \u001b[39mraise\u001b[39;00m \u001b[39mValueError\u001b[39;00m(\n\u001b[1;32m   1239\u001b[0m           \u001b[39m\"\u001b[39m\u001b[39mnon-zero flags not allowed in calls to recv_into() on \u001b[39m\u001b[39m%s\u001b[39;00m\u001b[39m\"\u001b[39m \u001b[39m%\u001b[39m\n\u001b[1;32m   1240\u001b[0m           \u001b[39mself\u001b[39m\u001b[39m.\u001b[39m\u001b[39m__class__\u001b[39m)\n\u001b[0;32m-> 1241\u001b[0m     \u001b[39mreturn\u001b[39;00m \u001b[39mself\u001b[39;49m\u001b[39m.\u001b[39;49mread(nbytes, buffer)\n\u001b[1;32m   1242\u001b[0m \u001b[39melse\u001b[39;00m:\n\u001b[1;32m   1243\u001b[0m     \u001b[39mreturn\u001b[39;00m \u001b[39msuper\u001b[39m()\u001b[39m.\u001b[39mrecv_into(buffer, nbytes, flags)\n",
      "File \u001b[0;32m/usr/lib/python3.8/ssl.py:1099\u001b[0m, in \u001b[0;36mSSLSocket.read\u001b[0;34m(self, len, buffer)\u001b[0m\n\u001b[1;32m   1097\u001b[0m \u001b[39mtry\u001b[39;00m:\n\u001b[1;32m   1098\u001b[0m     \u001b[39mif\u001b[39;00m buffer \u001b[39mis\u001b[39;00m \u001b[39mnot\u001b[39;00m \u001b[39mNone\u001b[39;00m:\n\u001b[0;32m-> 1099\u001b[0m         \u001b[39mreturn\u001b[39;00m \u001b[39mself\u001b[39;49m\u001b[39m.\u001b[39;49m_sslobj\u001b[39m.\u001b[39;49mread(\u001b[39mlen\u001b[39;49m, buffer)\n\u001b[1;32m   1100\u001b[0m     \u001b[39melse\u001b[39;00m:\n\u001b[1;32m   1101\u001b[0m         \u001b[39mreturn\u001b[39;00m \u001b[39mself\u001b[39m\u001b[39m.\u001b[39m_sslobj\u001b[39m.\u001b[39mread(\u001b[39mlen\u001b[39m)\n",
      "\u001b[0;31mKeyboardInterrupt\u001b[0m: "
     ]
    }
   ],
   "source": [
    "import json\n",
    "import requests\n",
    "import pandas as pd\n",
    "\n",
    "#data = {'temperature':'24.3'}\n",
    "#data_json = json.dumps(data)\n",
    "\n",
    "df = pd.read_csv('/data/api/cnwapi/cnwls_obsap/ksp/employee.csv', delimiter=';')\n",
    "\n",
    "mylist = df.values.tolist()\n",
    "\n",
    "#print(mylist)\n",
    "urldata = \"https://192.168.250.10:50000/b1s/v1/\"\n",
    "appSession = requests.Session()\n",
    "\n",
    "#########################\n",
    "# LOGIN\n",
    "#########################\n",
    "\n",
    "url = urldata + \"Login\"\n",
    "\n",
    "\n",
    "payload = { \"CompanyDB\" :\"KSP01\" ,\n",
    "\t\t\t\"UserName\" : \"manager\" ,\n",
    "\t\t\t\"Password\" : \"12345\"\n",
    "\t\t\t}\n",
    "response = appSession.post(url, json=payload,verify=False)\n",
    "\n",
    "print(response.text)\n",
    "\n",
    "\t\n",
    "#########################\n",
    "# ADD CUSTOMER \n",
    "#########################\n",
    "\n",
    "\n",
    "url = urldata + \"BusinessPartners\"\n",
    "\n",
    "for line in mylist : \n",
    "\n",
    " \n",
    "\tpayload = {\n",
    "\t\t\t\t\"CarDCode\" : line[0],\n",
    "\t\t\t\t\"CardName\" : line[1],\n",
    "\t\t\t\t\"CardType\" : \"cSupplier\",\n",
    "\t\t\t\t\"CardForeignName\" : line[1],   \n",
    "\t\t\t\t\"CreditLimit\" : 10000000,\n",
    "\t\t\t\t\"U_locktimeout\" : \"2\",\n",
    "\t\t\t\t \n",
    "\t\t\t}               \n",
    "\n",
    "\trsp = appSession.post(url,json=payload,verify=False)\n",
    "\t#print(line[0])\n",
    "\tprint(rsp.json())\n",
    "\n",
    "\t#apdp = rsp.json()\n",
    "\t\n",
    "\n",
    "\n",
    "\n",
    "\n",
    "\n",
    "\t \n",
    "# \n",
    "#response_Json = r.json() \n",
    "#print(type(json.dumps(payload)))\n",
    "#print(r)\n",
    "#print(response_Json)"
   ]
  }
 ],
 "metadata": {
  "kernelspec": {
   "display_name": "Python 3.8.10 64-bit",
   "language": "python",
   "name": "python3"
  },
  "language_info": {
   "codemirror_mode": {
    "name": "ipython",
    "version": 3
   },
   "file_extension": ".py",
   "mimetype": "text/x-python",
   "name": "python",
   "nbconvert_exporter": "python",
   "pygments_lexer": "ipython3",
   "version": "3.8.10"
  },
  "orig_nbformat": 4,
  "vscode": {
   "interpreter": {
    "hash": "916dbcbb3f70747c44a77c7bcd40155683ae19c65e1c03b4aa3499c5328201f1"
   }
  }
 },
 "nbformat": 4,
 "nbformat_minor": 2
}
