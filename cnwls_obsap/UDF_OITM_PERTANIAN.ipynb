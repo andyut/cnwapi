{
 "cells": [
  {
   "cell_type": "code",
   "execution_count": 27,
   "metadata": {},
   "outputs": [
    {
     "name": "stdout",
     "output_type": "stream",
     "text": [
      "{'CompanyDB': 'IGU_NEW', 'UserName': 'manager', 'Password': 'password'}\n",
      "{'error': {'code': 100000027, 'message': {'lang': 'en-us', 'value': 'Login failed'}}}\n",
      "https://192.168.250.40:50000/b1s/v1/UserFieldsMD\n",
      "{'Name': 'pertanian', 'Type': 'db_Alpha', 'Size': 100, 'Description': 'Rpt Pertanian', 'SubType': 'st_None', 'TableName': 'OITM'}\n",
      "{'error': {'code': 301, 'message': {'lang': 'en-us', 'value': 'Invalid session or session already timeout.'}}}\n",
      "https://192.168.250.40:50000/b1s/v1/UserFieldsMD\n",
      "{'Name': 'pertanian', 'Type': 'db_Alpha', 'Size': 100, 'Description': 'Rpt Pertanian', 'SubType': 'st_None', 'TableName': 'OITM'}\n",
      "{'error': {'code': 301, 'message': {'lang': 'en-us', 'value': 'Invalid session or session already timeout.'}}}\n"
     ]
    }
   ],
   "source": [
    "import json\n",
    "import requests\n",
    "import pandas as pd\n",
    "from requests.packages.urllib3.exceptions import InsecureRequestWarning\n",
    "\n",
    "requests.packages.urllib3.disable_warnings(InsecureRequestWarning)\n",
    "\n",
    "#df = pd.read_csv('/data/cnwls/cnwls_obsap/TF_DATA.csv', delimiter=';')\n",
    "\n",
    "\n",
    "CompanyDB = \"IGU_NEW\" \n",
    "UserName =  \"manager\"\n",
    "Password = \"8610550\"\n",
    "url =  \"https://192.168.250.40:50000/b1s/v1/\"\n",
    "\n",
    "#mylist = df.values.tolist()\n",
    "\n",
    "#print(mylist)\n",
    "\n",
    "appSession = requests.Session()\n",
    "\n",
    "#########################\n",
    "# LOGIN\n",
    "#########################\n",
    "\n",
    "urllogin = url + \"Login\"\n",
    "\n",
    "\n",
    "payload = { \"CompanyDB\" :CompanyDB ,\n",
    "\t\t\t\"UserName\" : UserName,\n",
    "\t\t\t\"Password\" : Password\n",
    "\t\t\t}\n",
    "response = appSession.post(urllogin, json=payload,verify=False)\n",
    "print(payload)\n",
    "print(response.json())\n",
    "\n",
    "\n",
    "#########################\n",
    "# UPDATE TF\n",
    "#########################\n",
    "\n",
    " \n",
    "\n",
    "urlbp = url + \"UserFieldsMD\"\n",
    "\n",
    "payload = {\n",
    "\t\t\t\"Name\" : \"pertanian\",\n",
    "\t\t\t\"Type\" : \"db_Alpha\" ,\n",
    "\t\t\t\"Size\" : 100,\n",
    "\t\t\t\"Description\" :\"Rpt Pertanian\" ,\n",
    "\t\t\t\"SubType\" : \"st_None\",\n",
    "\t\t\t\"TableName\" : \"OITM\"\n",
    "\t\t\t\n",
    "\t\t}               \n",
    "\n",
    "rsp = appSession.post(urlbp,json=payload,verify=False)\n",
    "print(urlbp)\n",
    "print(payload)\n",
    "print(rsp.json())\n",
    "#print(rsp.status_code)\n",
    "if rsp.status_code >=400 :\n",
    "\tprint(urlbp)\n",
    "\tprint(payload)\n",
    "\tprint(rsp.json())\n",
    "\n",
    "\t#apdp = rsp.json()\n",
    "\n",
    "\n",
    "urllogout = url + \"Logout\"\n",
    "rsplogout = appSession.post(urllogout,json=payload,verify=False)\n",
    "\n"
   ]
  }
 ],
 "metadata": {
  "kernelspec": {
   "display_name": "Python 3.8.10 64-bit",
   "language": "python",
   "name": "python3"
  },
  "language_info": {
   "codemirror_mode": {
    "name": "ipython",
    "version": 3
   },
   "file_extension": ".py",
   "mimetype": "text/x-python",
   "name": "python",
   "nbconvert_exporter": "python",
   "pygments_lexer": "ipython3",
   "version": "3.8.10"
  },
  "orig_nbformat": 4,
  "vscode": {
   "interpreter": {
    "hash": "916dbcbb3f70747c44a77c7bcd40155683ae19c65e1c03b4aa3499c5328201f1"
   }
  }
 },
 "nbformat": 4,
 "nbformat_minor": 2
}
