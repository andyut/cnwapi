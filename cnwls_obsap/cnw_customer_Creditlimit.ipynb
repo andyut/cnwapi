{
 "cells": [
  {
   "cell_type": "code",
   "execution_count": 60,
   "metadata": {},
   "outputs": [
    {
     "name": "stderr",
     "output_type": "stream",
     "text": [
      "/usr/lib/python3/dist-packages/urllib3/connectionpool.py:999: InsecureRequestWarning: Unverified HTTPS request is being made to host '192.168.250.40'. Adding certificate verification is strongly advised. See: https://urllib3.readthedocs.io/en/latest/advanced-usage.html#ssl-warnings\n",
      "  warnings.warn(\n",
      "/usr/lib/python3/dist-packages/urllib3/connectionpool.py:999: InsecureRequestWarning: Unverified HTTPS request is being made to host '192.168.250.40'. Adding certificate verification is strongly advised. See: https://urllib3.readthedocs.io/en/latest/advanced-usage.html#ssl-warnings\n",
      "  warnings.warn(\n",
      "/usr/lib/python3/dist-packages/urllib3/connectionpool.py:999: InsecureRequestWarning: Unverified HTTPS request is being made to host '192.168.250.40'. Adding certificate verification is strongly advised. See: https://urllib3.readthedocs.io/en/latest/advanced-usage.html#ssl-warnings\n",
      "  warnings.warn(\n"
     ]
    },
    {
     "name": "stdout",
     "output_type": "stream",
     "text": [
      "{\n",
      "   \"odata.metadata\" : \"https://192.168.250.40:50000/b1s/v1/$metadata#B1Sessions/@Element\",\n",
      "   \"SessionId\" : \"30537688-881a-11ed-8000-089204b66136\",\n",
      "   \"Version\" : \"1000180\",\n",
      "   \"SessionTimeout\" : 30\n",
      "}\n",
      "\n",
      "[['RS2579', 60000000.0, 20000000.0], ['RS2591', 500000000.0, 150000000.0], ['RS2592', 150000000.0, 45000000.0], ['RS2603', 75000000.0, 30000000.0], ['RS2606', 80000000.0, 10000000.0], ['RS2608', 200000000.0, 50000000.0], ['RS2609', 30000000.0, 10000000.0], ['RS2620', 2500000000.0, 200000000.0], ['RS2652', 20000000.0, 5000000.0], ['RS2655', 35000000.0, 10000000.0], ['RS2675', 50000000.0, 20000000.0], ['RS2703', 600000000.0, 400000000.0], ['RS2708', 30000000.0, 10000000.0], ['RS2724', 50000000.0, 10000000.0], ['RS2725', 100000000.0, 20000000.0], ['RS2729', 35000000.0, 10000000.0], ['RS2735', 50000000.0, 20000000.0], ['RS2743', 85000000.0, 50000000.0], ['RS2749', 100000000.0, 20000000.0], ['RS2757', 200000000.0, 80000000.0], ['RS2759', 200000000.0, 70000000.0], ['RS2763', 100000000.0, 30000000.0], ['RS2776', 800000000.0, 400000000.0], ['RS2778', 80000000.0, 30000000.0], ['RS2780', 500000000.0, 200000000.0], ['RS2782', 60000000.0, 20000000.0], ['RS2787', 100000000.0, 20000000.0], ['RS2789', 150000000.0, 80000000.0], ['RS2791', 900000000.0, 350000000.0], ['RS2797', 50000000.0, 10000000.0], ['RS2834', 100000000.0, 20000000.0], ['RS2837', 500000000.0, 150000000.0], ['RS2840', 30000000.0, 5000000.0], ['RS2842', 100000000.0, 15000000.0], ['RS2843', 100000000.0, 20000000.0], ['RS2861', 200000000.0, 30000000.0], ['RS2896', 200000000.0, 35000000.0], ['RS2903', 100000000.0, 50000000.0], ['RS2905', 200000000.0, 50000000.0], ['RS2907', 100000000.0, 1000000.0], ['RS2921', 100000000.0, 30000000.0], ['RS2925', 60000000.0, 50000000.0], ['RS2927', 750000000.0, 40000000.0], ['RS2933', 100000000.0, 85000000.0], ['RS2937', 80000000.0, 30000000.0], ['RS2941', 80000000.0, 30000000.0], ['RS2957', 200000000.0, 30000000.0], ['RS2958', 30000000.0, 10000000.0], ['RS2963', 80000000.0, 30000000.0], ['RS2964', 60000000.0, 30000000.0], ['RS2972', 75000000.0, 10000000.0], ['RS2986', 40000000.0, 10000000.0], ['RS2990', 300000000.0, 30000000.0], ['RS3021', 1000000000.0, 850000000.0], ['SM0010', 100000000.0, 30000000.0], ['SM0056', 1500000000.0, 700000000.0], ['SM0076', 5500000000.0, 4500000000.0], ['SM0089', 50000000.0, 30000000.0], ['SM0111', 125000000.0, 30000000.0], ['SM0133', 100000000.0, 60000000.0], ['SM0151', 200000000.0, 100000000.0], ['SM0162', 700000000.0, 120000000.0], ['SM0178', 100000000.0, 30000000.0], ['SM0179', 450000000.0, 150000000.0], ['SM0193', 200000000.0, 75000000.0], ['SM0205', 75000000.0, 50000000.0], ['SM0209', 200000000.0, 100000000.0], ['SM0210', 200000000.0, 75000000.0], ['SM0221', 100000000.0, 50000000.0], ['UM0103', 100000000.0, 30000000.0], ['UM0162', 200000000.0, 90000000.0], ['UM0234', 15000000.0, 7500000.0], ['UM0256', 40000000.0, 20000000.0], ['UM0337', 100000000.0, 75000000.0], ['UM0414', 4000000000.0, 2000000000.0], ['UM0531', 1500000000.0, 500000000.0], ['UM0609', 100000000.0, 30000000.0], ['UM0615', 20000000.0, 10000000.0], ['UM0639', 100000000.0, 30000000.0], ['UM0736', 100000000.0, 15000000.0], ['UM0797', 100000000.0, 10000000.0], ['UM0904', 100000000.0, 10000000.0], ['UM0949', 100000000.0, 30000000.0]]\n",
      "https://192.168.250.40:50000/b1s/v1/BusinessPartners('RS2579')\n",
      "{'CreditLimit': 60000000.0, 'MaxCommitment': 60000000.0}\n",
      "<Response [204]>\n",
      "https://192.168.250.40:50000/b1s/v1/BusinessPartners('RS2591')\n",
      "{'CreditLimit': 500000000.0, 'MaxCommitment': 500000000.0}\n",
      "<Response [204]>\n",
      "https://192.168.250.40:50000/b1s/v1/BusinessPartners('RS2592')\n",
      "{'CreditLimit': 150000000.0, 'MaxCommitment': 150000000.0}\n",
      "<Response [204]>\n",
      "https://192.168.250.40:50000/b1s/v1/BusinessPartners('RS2603')\n",
      "{'CreditLimit': 75000000.0, 'MaxCommitment': 75000000.0}\n",
      "<Response [204]>\n",
      "https://192.168.250.40:50000/b1s/v1/BusinessPartners('RS2606')\n",
      "{'CreditLimit': 80000000.0, 'MaxCommitment': 80000000.0}\n"
     ]
    },
    {
     "name": "stderr",
     "output_type": "stream",
     "text": [
      "/usr/lib/python3/dist-packages/urllib3/connectionpool.py:999: InsecureRequestWarning: Unverified HTTPS request is being made to host '192.168.250.40'. Adding certificate verification is strongly advised. See: https://urllib3.readthedocs.io/en/latest/advanced-usage.html#ssl-warnings\n",
      "  warnings.warn(\n",
      "/usr/lib/python3/dist-packages/urllib3/connectionpool.py:999: InsecureRequestWarning: Unverified HTTPS request is being made to host '192.168.250.40'. Adding certificate verification is strongly advised. See: https://urllib3.readthedocs.io/en/latest/advanced-usage.html#ssl-warnings\n",
      "  warnings.warn(\n",
      "/usr/lib/python3/dist-packages/urllib3/connectionpool.py:999: InsecureRequestWarning: Unverified HTTPS request is being made to host '192.168.250.40'. Adding certificate verification is strongly advised. See: https://urllib3.readthedocs.io/en/latest/advanced-usage.html#ssl-warnings\n",
      "  warnings.warn(\n",
      "/usr/lib/python3/dist-packages/urllib3/connectionpool.py:999: InsecureRequestWarning: Unverified HTTPS request is being made to host '192.168.250.40'. Adding certificate verification is strongly advised. See: https://urllib3.readthedocs.io/en/latest/advanced-usage.html#ssl-warnings\n",
      "  warnings.warn(\n",
      "/usr/lib/python3/dist-packages/urllib3/connectionpool.py:999: InsecureRequestWarning: Unverified HTTPS request is being made to host '192.168.250.40'. Adding certificate verification is strongly advised. See: https://urllib3.readthedocs.io/en/latest/advanced-usage.html#ssl-warnings\n",
      "  warnings.warn(\n"
     ]
    },
    {
     "name": "stdout",
     "output_type": "stream",
     "text": [
      "<Response [204]>\n",
      "https://192.168.250.40:50000/b1s/v1/BusinessPartners('RS2608')\n",
      "{'CreditLimit': 200000000.0, 'MaxCommitment': 200000000.0}\n",
      "<Response [204]>\n",
      "https://192.168.250.40:50000/b1s/v1/BusinessPartners('RS2609')\n",
      "{'CreditLimit': 30000000.0, 'MaxCommitment': 30000000.0}\n",
      "<Response [204]>\n",
      "https://192.168.250.40:50000/b1s/v1/BusinessPartners('RS2620')\n",
      "{'CreditLimit': 2500000000.0, 'MaxCommitment': 2500000000.0}\n",
      "<Response [204]>\n",
      "https://192.168.250.40:50000/b1s/v1/BusinessPartners('RS2652')\n",
      "{'CreditLimit': 20000000.0, 'MaxCommitment': 20000000.0}\n"
     ]
    },
    {
     "name": "stderr",
     "output_type": "stream",
     "text": [
      "/usr/lib/python3/dist-packages/urllib3/connectionpool.py:999: InsecureRequestWarning: Unverified HTTPS request is being made to host '192.168.250.40'. Adding certificate verification is strongly advised. See: https://urllib3.readthedocs.io/en/latest/advanced-usage.html#ssl-warnings\n",
      "  warnings.warn(\n",
      "/usr/lib/python3/dist-packages/urllib3/connectionpool.py:999: InsecureRequestWarning: Unverified HTTPS request is being made to host '192.168.250.40'. Adding certificate verification is strongly advised. See: https://urllib3.readthedocs.io/en/latest/advanced-usage.html#ssl-warnings\n",
      "  warnings.warn(\n",
      "/usr/lib/python3/dist-packages/urllib3/connectionpool.py:999: InsecureRequestWarning: Unverified HTTPS request is being made to host '192.168.250.40'. Adding certificate verification is strongly advised. See: https://urllib3.readthedocs.io/en/latest/advanced-usage.html#ssl-warnings\n",
      "  warnings.warn(\n",
      "/usr/lib/python3/dist-packages/urllib3/connectionpool.py:999: InsecureRequestWarning: Unverified HTTPS request is being made to host '192.168.250.40'. Adding certificate verification is strongly advised. See: https://urllib3.readthedocs.io/en/latest/advanced-usage.html#ssl-warnings\n",
      "  warnings.warn(\n"
     ]
    },
    {
     "name": "stdout",
     "output_type": "stream",
     "text": [
      "<Response [204]>\n",
      "https://192.168.250.40:50000/b1s/v1/BusinessPartners('RS2655')\n",
      "{'CreditLimit': 35000000.0, 'MaxCommitment': 35000000.0}\n",
      "<Response [204]>\n",
      "https://192.168.250.40:50000/b1s/v1/BusinessPartners('RS2675')\n",
      "{'CreditLimit': 50000000.0, 'MaxCommitment': 50000000.0}\n",
      "<Response [204]>\n",
      "https://192.168.250.40:50000/b1s/v1/BusinessPartners('RS2703')\n",
      "{'CreditLimit': 600000000.0, 'MaxCommitment': 600000000.0}\n",
      "<Response [204]>\n",
      "https://192.168.250.40:50000/b1s/v1/BusinessPartners('RS2708')\n",
      "{'CreditLimit': 30000000.0, 'MaxCommitment': 30000000.0}\n"
     ]
    },
    {
     "name": "stderr",
     "output_type": "stream",
     "text": [
      "/usr/lib/python3/dist-packages/urllib3/connectionpool.py:999: InsecureRequestWarning: Unverified HTTPS request is being made to host '192.168.250.40'. Adding certificate verification is strongly advised. See: https://urllib3.readthedocs.io/en/latest/advanced-usage.html#ssl-warnings\n",
      "  warnings.warn(\n",
      "/usr/lib/python3/dist-packages/urllib3/connectionpool.py:999: InsecureRequestWarning: Unverified HTTPS request is being made to host '192.168.250.40'. Adding certificate verification is strongly advised. See: https://urllib3.readthedocs.io/en/latest/advanced-usage.html#ssl-warnings\n",
      "  warnings.warn(\n",
      "/usr/lib/python3/dist-packages/urllib3/connectionpool.py:999: InsecureRequestWarning: Unverified HTTPS request is being made to host '192.168.250.40'. Adding certificate verification is strongly advised. See: https://urllib3.readthedocs.io/en/latest/advanced-usage.html#ssl-warnings\n",
      "  warnings.warn(\n",
      "/usr/lib/python3/dist-packages/urllib3/connectionpool.py:999: InsecureRequestWarning: Unverified HTTPS request is being made to host '192.168.250.40'. Adding certificate verification is strongly advised. See: https://urllib3.readthedocs.io/en/latest/advanced-usage.html#ssl-warnings\n",
      "  warnings.warn(\n"
     ]
    },
    {
     "name": "stdout",
     "output_type": "stream",
     "text": [
      "<Response [204]>\n",
      "https://192.168.250.40:50000/b1s/v1/BusinessPartners('RS2724')\n",
      "{'CreditLimit': 50000000.0, 'MaxCommitment': 50000000.0}\n",
      "<Response [204]>\n",
      "https://192.168.250.40:50000/b1s/v1/BusinessPartners('RS2725')\n",
      "{'CreditLimit': 100000000.0, 'MaxCommitment': 100000000.0}\n",
      "<Response [204]>\n",
      "https://192.168.250.40:50000/b1s/v1/BusinessPartners('RS2729')\n",
      "{'CreditLimit': 35000000.0, 'MaxCommitment': 35000000.0}\n",
      "<Response [204]>\n",
      "https://192.168.250.40:50000/b1s/v1/BusinessPartners('RS2735')\n",
      "{'CreditLimit': 50000000.0, 'MaxCommitment': 50000000.0}\n",
      "<Response [204]>\n",
      "https://192.168.250.40:50000/b1s/v1/BusinessPartners('RS2743')\n",
      "{'CreditLimit': 85000000.0, 'MaxCommitment': 85000000.0}\n"
     ]
    },
    {
     "name": "stderr",
     "output_type": "stream",
     "text": [
      "/usr/lib/python3/dist-packages/urllib3/connectionpool.py:999: InsecureRequestWarning: Unverified HTTPS request is being made to host '192.168.250.40'. Adding certificate verification is strongly advised. See: https://urllib3.readthedocs.io/en/latest/advanced-usage.html#ssl-warnings\n",
      "  warnings.warn(\n",
      "/usr/lib/python3/dist-packages/urllib3/connectionpool.py:999: InsecureRequestWarning: Unverified HTTPS request is being made to host '192.168.250.40'. Adding certificate verification is strongly advised. See: https://urllib3.readthedocs.io/en/latest/advanced-usage.html#ssl-warnings\n",
      "  warnings.warn(\n",
      "/usr/lib/python3/dist-packages/urllib3/connectionpool.py:999: InsecureRequestWarning: Unverified HTTPS request is being made to host '192.168.250.40'. Adding certificate verification is strongly advised. See: https://urllib3.readthedocs.io/en/latest/advanced-usage.html#ssl-warnings\n",
      "  warnings.warn(\n",
      "/usr/lib/python3/dist-packages/urllib3/connectionpool.py:999: InsecureRequestWarning: Unverified HTTPS request is being made to host '192.168.250.40'. Adding certificate verification is strongly advised. See: https://urllib3.readthedocs.io/en/latest/advanced-usage.html#ssl-warnings\n",
      "  warnings.warn(\n",
      "/usr/lib/python3/dist-packages/urllib3/connectionpool.py:999: InsecureRequestWarning: Unverified HTTPS request is being made to host '192.168.250.40'. Adding certificate verification is strongly advised. See: https://urllib3.readthedocs.io/en/latest/advanced-usage.html#ssl-warnings\n",
      "  warnings.warn(\n"
     ]
    },
    {
     "name": "stdout",
     "output_type": "stream",
     "text": [
      "<Response [204]>\n",
      "https://192.168.250.40:50000/b1s/v1/BusinessPartners('RS2749')\n",
      "{'CreditLimit': 100000000.0, 'MaxCommitment': 100000000.0}\n",
      "<Response [204]>\n",
      "https://192.168.250.40:50000/b1s/v1/BusinessPartners('RS2757')\n",
      "{'CreditLimit': 200000000.0, 'MaxCommitment': 200000000.0}\n",
      "<Response [204]>\n",
      "https://192.168.250.40:50000/b1s/v1/BusinessPartners('RS2759')\n",
      "{'CreditLimit': 200000000.0, 'MaxCommitment': 200000000.0}\n",
      "<Response [204]>\n",
      "https://192.168.250.40:50000/b1s/v1/BusinessPartners('RS2763')\n",
      "{'CreditLimit': 100000000.0, 'MaxCommitment': 100000000.0}\n",
      "<Response [204]>\n",
      "https://192.168.250.40:50000/b1s/v1/BusinessPartners('RS2776')\n",
      "{'CreditLimit': 800000000.0, 'MaxCommitment': 800000000.0}\n"
     ]
    },
    {
     "name": "stderr",
     "output_type": "stream",
     "text": [
      "/usr/lib/python3/dist-packages/urllib3/connectionpool.py:999: InsecureRequestWarning: Unverified HTTPS request is being made to host '192.168.250.40'. Adding certificate verification is strongly advised. See: https://urllib3.readthedocs.io/en/latest/advanced-usage.html#ssl-warnings\n",
      "  warnings.warn(\n",
      "/usr/lib/python3/dist-packages/urllib3/connectionpool.py:999: InsecureRequestWarning: Unverified HTTPS request is being made to host '192.168.250.40'. Adding certificate verification is strongly advised. See: https://urllib3.readthedocs.io/en/latest/advanced-usage.html#ssl-warnings\n",
      "  warnings.warn(\n",
      "/usr/lib/python3/dist-packages/urllib3/connectionpool.py:999: InsecureRequestWarning: Unverified HTTPS request is being made to host '192.168.250.40'. Adding certificate verification is strongly advised. See: https://urllib3.readthedocs.io/en/latest/advanced-usage.html#ssl-warnings\n",
      "  warnings.warn(\n",
      "/usr/lib/python3/dist-packages/urllib3/connectionpool.py:999: InsecureRequestWarning: Unverified HTTPS request is being made to host '192.168.250.40'. Adding certificate verification is strongly advised. See: https://urllib3.readthedocs.io/en/latest/advanced-usage.html#ssl-warnings\n",
      "  warnings.warn(\n",
      "/usr/lib/python3/dist-packages/urllib3/connectionpool.py:999: InsecureRequestWarning: Unverified HTTPS request is being made to host '192.168.250.40'. Adding certificate verification is strongly advised. See: https://urllib3.readthedocs.io/en/latest/advanced-usage.html#ssl-warnings\n",
      "  warnings.warn(\n"
     ]
    },
    {
     "name": "stdout",
     "output_type": "stream",
     "text": [
      "<Response [204]>\n",
      "https://192.168.250.40:50000/b1s/v1/BusinessPartners('RS2778')\n",
      "{'CreditLimit': 80000000.0, 'MaxCommitment': 80000000.0}\n",
      "<Response [204]>\n",
      "https://192.168.250.40:50000/b1s/v1/BusinessPartners('RS2780')\n",
      "{'CreditLimit': 500000000.0, 'MaxCommitment': 500000000.0}\n",
      "<Response [204]>\n",
      "https://192.168.250.40:50000/b1s/v1/BusinessPartners('RS2782')\n",
      "{'CreditLimit': 60000000.0, 'MaxCommitment': 60000000.0}\n",
      "<Response [204]>\n",
      "https://192.168.250.40:50000/b1s/v1/BusinessPartners('RS2787')\n",
      "{'CreditLimit': 100000000.0, 'MaxCommitment': 100000000.0}\n",
      "<Response [204]>\n",
      "https://192.168.250.40:50000/b1s/v1/BusinessPartners('RS2789')\n",
      "{'CreditLimit': 150000000.0, 'MaxCommitment': 150000000.0}\n"
     ]
    },
    {
     "name": "stderr",
     "output_type": "stream",
     "text": [
      "/usr/lib/python3/dist-packages/urllib3/connectionpool.py:999: InsecureRequestWarning: Unverified HTTPS request is being made to host '192.168.250.40'. Adding certificate verification is strongly advised. See: https://urllib3.readthedocs.io/en/latest/advanced-usage.html#ssl-warnings\n",
      "  warnings.warn(\n",
      "/usr/lib/python3/dist-packages/urllib3/connectionpool.py:999: InsecureRequestWarning: Unverified HTTPS request is being made to host '192.168.250.40'. Adding certificate verification is strongly advised. See: https://urllib3.readthedocs.io/en/latest/advanced-usage.html#ssl-warnings\n",
      "  warnings.warn(\n",
      "/usr/lib/python3/dist-packages/urllib3/connectionpool.py:999: InsecureRequestWarning: Unverified HTTPS request is being made to host '192.168.250.40'. Adding certificate verification is strongly advised. See: https://urllib3.readthedocs.io/en/latest/advanced-usage.html#ssl-warnings\n",
      "  warnings.warn(\n",
      "/usr/lib/python3/dist-packages/urllib3/connectionpool.py:999: InsecureRequestWarning: Unverified HTTPS request is being made to host '192.168.250.40'. Adding certificate verification is strongly advised. See: https://urllib3.readthedocs.io/en/latest/advanced-usage.html#ssl-warnings\n",
      "  warnings.warn(\n",
      "/usr/lib/python3/dist-packages/urllib3/connectionpool.py:999: InsecureRequestWarning: Unverified HTTPS request is being made to host '192.168.250.40'. Adding certificate verification is strongly advised. See: https://urllib3.readthedocs.io/en/latest/advanced-usage.html#ssl-warnings\n",
      "  warnings.warn(\n"
     ]
    },
    {
     "name": "stdout",
     "output_type": "stream",
     "text": [
      "<Response [204]>\n",
      "https://192.168.250.40:50000/b1s/v1/BusinessPartners('RS2791')\n",
      "{'CreditLimit': 900000000.0, 'MaxCommitment': 900000000.0}\n",
      "<Response [204]>\n",
      "https://192.168.250.40:50000/b1s/v1/BusinessPartners('RS2797')\n",
      "{'CreditLimit': 50000000.0, 'MaxCommitment': 50000000.0}\n",
      "<Response [204]>\n",
      "https://192.168.250.40:50000/b1s/v1/BusinessPartners('RS2834')\n",
      "{'CreditLimit': 100000000.0, 'MaxCommitment': 100000000.0}\n",
      "<Response [204]>\n",
      "https://192.168.250.40:50000/b1s/v1/BusinessPartners('RS2837')\n",
      "{'CreditLimit': 500000000.0, 'MaxCommitment': 500000000.0}\n",
      "<Response [204]>\n",
      "https://192.168.250.40:50000/b1s/v1/BusinessPartners('RS2840')\n",
      "{'CreditLimit': 30000000.0, 'MaxCommitment': 30000000.0}\n"
     ]
    },
    {
     "name": "stderr",
     "output_type": "stream",
     "text": [
      "/usr/lib/python3/dist-packages/urllib3/connectionpool.py:999: InsecureRequestWarning: Unverified HTTPS request is being made to host '192.168.250.40'. Adding certificate verification is strongly advised. See: https://urllib3.readthedocs.io/en/latest/advanced-usage.html#ssl-warnings\n",
      "  warnings.warn(\n",
      "/usr/lib/python3/dist-packages/urllib3/connectionpool.py:999: InsecureRequestWarning: Unverified HTTPS request is being made to host '192.168.250.40'. Adding certificate verification is strongly advised. See: https://urllib3.readthedocs.io/en/latest/advanced-usage.html#ssl-warnings\n",
      "  warnings.warn(\n",
      "/usr/lib/python3/dist-packages/urllib3/connectionpool.py:999: InsecureRequestWarning: Unverified HTTPS request is being made to host '192.168.250.40'. Adding certificate verification is strongly advised. See: https://urllib3.readthedocs.io/en/latest/advanced-usage.html#ssl-warnings\n",
      "  warnings.warn(\n",
      "/usr/lib/python3/dist-packages/urllib3/connectionpool.py:999: InsecureRequestWarning: Unverified HTTPS request is being made to host '192.168.250.40'. Adding certificate verification is strongly advised. See: https://urllib3.readthedocs.io/en/latest/advanced-usage.html#ssl-warnings\n",
      "  warnings.warn(\n",
      "/usr/lib/python3/dist-packages/urllib3/connectionpool.py:999: InsecureRequestWarning: Unverified HTTPS request is being made to host '192.168.250.40'. Adding certificate verification is strongly advised. See: https://urllib3.readthedocs.io/en/latest/advanced-usage.html#ssl-warnings\n",
      "  warnings.warn(\n"
     ]
    },
    {
     "name": "stdout",
     "output_type": "stream",
     "text": [
      "<Response [204]>\n",
      "https://192.168.250.40:50000/b1s/v1/BusinessPartners('RS2842')\n",
      "{'CreditLimit': 100000000.0, 'MaxCommitment': 100000000.0}\n",
      "<Response [204]>\n",
      "https://192.168.250.40:50000/b1s/v1/BusinessPartners('RS2843')\n",
      "{'CreditLimit': 100000000.0, 'MaxCommitment': 100000000.0}\n",
      "<Response [204]>\n",
      "https://192.168.250.40:50000/b1s/v1/BusinessPartners('RS2861')\n",
      "{'CreditLimit': 200000000.0, 'MaxCommitment': 200000000.0}\n"
     ]
    },
    {
     "name": "stderr",
     "output_type": "stream",
     "text": [
      "/usr/lib/python3/dist-packages/urllib3/connectionpool.py:999: InsecureRequestWarning: Unverified HTTPS request is being made to host '192.168.250.40'. Adding certificate verification is strongly advised. See: https://urllib3.readthedocs.io/en/latest/advanced-usage.html#ssl-warnings\n",
      "  warnings.warn(\n",
      "/usr/lib/python3/dist-packages/urllib3/connectionpool.py:999: InsecureRequestWarning: Unverified HTTPS request is being made to host '192.168.250.40'. Adding certificate verification is strongly advised. See: https://urllib3.readthedocs.io/en/latest/advanced-usage.html#ssl-warnings\n",
      "  warnings.warn(\n",
      "/usr/lib/python3/dist-packages/urllib3/connectionpool.py:999: InsecureRequestWarning: Unverified HTTPS request is being made to host '192.168.250.40'. Adding certificate verification is strongly advised. See: https://urllib3.readthedocs.io/en/latest/advanced-usage.html#ssl-warnings\n",
      "  warnings.warn(\n"
     ]
    },
    {
     "name": "stdout",
     "output_type": "stream",
     "text": [
      "<Response [204]>\n",
      "https://192.168.250.40:50000/b1s/v1/BusinessPartners('RS2896')\n",
      "{'CreditLimit': 200000000.0, 'MaxCommitment': 200000000.0}\n",
      "<Response [204]>\n",
      "https://192.168.250.40:50000/b1s/v1/BusinessPartners('RS2903')\n",
      "{'CreditLimit': 100000000.0, 'MaxCommitment': 100000000.0}\n",
      "<Response [204]>\n",
      "https://192.168.250.40:50000/b1s/v1/BusinessPartners('RS2905')\n",
      "{'CreditLimit': 200000000.0, 'MaxCommitment': 200000000.0}\n"
     ]
    },
    {
     "name": "stderr",
     "output_type": "stream",
     "text": [
      "/usr/lib/python3/dist-packages/urllib3/connectionpool.py:999: InsecureRequestWarning: Unverified HTTPS request is being made to host '192.168.250.40'. Adding certificate verification is strongly advised. See: https://urllib3.readthedocs.io/en/latest/advanced-usage.html#ssl-warnings\n",
      "  warnings.warn(\n",
      "/usr/lib/python3/dist-packages/urllib3/connectionpool.py:999: InsecureRequestWarning: Unverified HTTPS request is being made to host '192.168.250.40'. Adding certificate verification is strongly advised. See: https://urllib3.readthedocs.io/en/latest/advanced-usage.html#ssl-warnings\n",
      "  warnings.warn(\n",
      "/usr/lib/python3/dist-packages/urllib3/connectionpool.py:999: InsecureRequestWarning: Unverified HTTPS request is being made to host '192.168.250.40'. Adding certificate verification is strongly advised. See: https://urllib3.readthedocs.io/en/latest/advanced-usage.html#ssl-warnings\n",
      "  warnings.warn(\n",
      "/usr/lib/python3/dist-packages/urllib3/connectionpool.py:999: InsecureRequestWarning: Unverified HTTPS request is being made to host '192.168.250.40'. Adding certificate verification is strongly advised. See: https://urllib3.readthedocs.io/en/latest/advanced-usage.html#ssl-warnings\n",
      "  warnings.warn(\n"
     ]
    },
    {
     "name": "stdout",
     "output_type": "stream",
     "text": [
      "<Response [204]>\n",
      "https://192.168.250.40:50000/b1s/v1/BusinessPartners('RS2907')\n",
      "{'CreditLimit': 100000000.0, 'MaxCommitment': 100000000.0}\n",
      "<Response [204]>\n",
      "https://192.168.250.40:50000/b1s/v1/BusinessPartners('RS2921')\n",
      "{'CreditLimit': 100000000.0, 'MaxCommitment': 100000000.0}\n",
      "<Response [204]>\n",
      "https://192.168.250.40:50000/b1s/v1/BusinessPartners('RS2925')\n",
      "{'CreditLimit': 60000000.0, 'MaxCommitment': 60000000.0}\n",
      "<Response [204]>\n",
      "https://192.168.250.40:50000/b1s/v1/BusinessPartners('RS2927')\n",
      "{'CreditLimit': 750000000.0, 'MaxCommitment': 750000000.0}\n",
      "<Response [204]>\n",
      "https://192.168.250.40:50000/b1s/v1/BusinessPartners('RS2933')\n",
      "{'CreditLimit': 100000000.0, 'MaxCommitment': 100000000.0}\n"
     ]
    },
    {
     "name": "stderr",
     "output_type": "stream",
     "text": [
      "/usr/lib/python3/dist-packages/urllib3/connectionpool.py:999: InsecureRequestWarning: Unverified HTTPS request is being made to host '192.168.250.40'. Adding certificate verification is strongly advised. See: https://urllib3.readthedocs.io/en/latest/advanced-usage.html#ssl-warnings\n",
      "  warnings.warn(\n",
      "/usr/lib/python3/dist-packages/urllib3/connectionpool.py:999: InsecureRequestWarning: Unverified HTTPS request is being made to host '192.168.250.40'. Adding certificate verification is strongly advised. See: https://urllib3.readthedocs.io/en/latest/advanced-usage.html#ssl-warnings\n",
      "  warnings.warn(\n",
      "/usr/lib/python3/dist-packages/urllib3/connectionpool.py:999: InsecureRequestWarning: Unverified HTTPS request is being made to host '192.168.250.40'. Adding certificate verification is strongly advised. See: https://urllib3.readthedocs.io/en/latest/advanced-usage.html#ssl-warnings\n",
      "  warnings.warn(\n",
      "/usr/lib/python3/dist-packages/urllib3/connectionpool.py:999: InsecureRequestWarning: Unverified HTTPS request is being made to host '192.168.250.40'. Adding certificate verification is strongly advised. See: https://urllib3.readthedocs.io/en/latest/advanced-usage.html#ssl-warnings\n",
      "  warnings.warn(\n",
      "/usr/lib/python3/dist-packages/urllib3/connectionpool.py:999: InsecureRequestWarning: Unverified HTTPS request is being made to host '192.168.250.40'. Adding certificate verification is strongly advised. See: https://urllib3.readthedocs.io/en/latest/advanced-usage.html#ssl-warnings\n",
      "  warnings.warn(\n"
     ]
    },
    {
     "name": "stdout",
     "output_type": "stream",
     "text": [
      "<Response [204]>\n",
      "https://192.168.250.40:50000/b1s/v1/BusinessPartners('RS2937')\n",
      "{'CreditLimit': 80000000.0, 'MaxCommitment': 80000000.0}\n",
      "<Response [204]>\n",
      "https://192.168.250.40:50000/b1s/v1/BusinessPartners('RS2941')\n",
      "{'CreditLimit': 80000000.0, 'MaxCommitment': 80000000.0}\n",
      "<Response [204]>\n",
      "https://192.168.250.40:50000/b1s/v1/BusinessPartners('RS2957')\n",
      "{'CreditLimit': 200000000.0, 'MaxCommitment': 200000000.0}\n",
      "<Response [204]>\n",
      "https://192.168.250.40:50000/b1s/v1/BusinessPartners('RS2958')\n",
      "{'CreditLimit': 30000000.0, 'MaxCommitment': 30000000.0}\n",
      "<Response [204]>\n",
      "https://192.168.250.40:50000/b1s/v1/BusinessPartners('RS2963')\n",
      "{'CreditLimit': 80000000.0, 'MaxCommitment': 80000000.0}\n"
     ]
    },
    {
     "name": "stderr",
     "output_type": "stream",
     "text": [
      "/usr/lib/python3/dist-packages/urllib3/connectionpool.py:999: InsecureRequestWarning: Unverified HTTPS request is being made to host '192.168.250.40'. Adding certificate verification is strongly advised. See: https://urllib3.readthedocs.io/en/latest/advanced-usage.html#ssl-warnings\n",
      "  warnings.warn(\n",
      "/usr/lib/python3/dist-packages/urllib3/connectionpool.py:999: InsecureRequestWarning: Unverified HTTPS request is being made to host '192.168.250.40'. Adding certificate verification is strongly advised. See: https://urllib3.readthedocs.io/en/latest/advanced-usage.html#ssl-warnings\n",
      "  warnings.warn(\n",
      "/usr/lib/python3/dist-packages/urllib3/connectionpool.py:999: InsecureRequestWarning: Unverified HTTPS request is being made to host '192.168.250.40'. Adding certificate verification is strongly advised. See: https://urllib3.readthedocs.io/en/latest/advanced-usage.html#ssl-warnings\n",
      "  warnings.warn(\n",
      "/usr/lib/python3/dist-packages/urllib3/connectionpool.py:999: InsecureRequestWarning: Unverified HTTPS request is being made to host '192.168.250.40'. Adding certificate verification is strongly advised. See: https://urllib3.readthedocs.io/en/latest/advanced-usage.html#ssl-warnings\n",
      "  warnings.warn(\n"
     ]
    },
    {
     "name": "stdout",
     "output_type": "stream",
     "text": [
      "<Response [204]>\n",
      "https://192.168.250.40:50000/b1s/v1/BusinessPartners('RS2964')\n",
      "{'CreditLimit': 60000000.0, 'MaxCommitment': 60000000.0}\n",
      "<Response [204]>\n",
      "https://192.168.250.40:50000/b1s/v1/BusinessPartners('RS2972')\n",
      "{'CreditLimit': 75000000.0, 'MaxCommitment': 75000000.0}\n",
      "<Response [204]>\n",
      "https://192.168.250.40:50000/b1s/v1/BusinessPartners('RS2986')\n",
      "{'CreditLimit': 40000000.0, 'MaxCommitment': 40000000.0}\n",
      "<Response [204]>\n",
      "https://192.168.250.40:50000/b1s/v1/BusinessPartners('RS2990')\n",
      "{'CreditLimit': 300000000.0, 'MaxCommitment': 300000000.0}\n"
     ]
    },
    {
     "name": "stderr",
     "output_type": "stream",
     "text": [
      "/usr/lib/python3/dist-packages/urllib3/connectionpool.py:999: InsecureRequestWarning: Unverified HTTPS request is being made to host '192.168.250.40'. Adding certificate verification is strongly advised. See: https://urllib3.readthedocs.io/en/latest/advanced-usage.html#ssl-warnings\n",
      "  warnings.warn(\n",
      "/usr/lib/python3/dist-packages/urllib3/connectionpool.py:999: InsecureRequestWarning: Unverified HTTPS request is being made to host '192.168.250.40'. Adding certificate verification is strongly advised. See: https://urllib3.readthedocs.io/en/latest/advanced-usage.html#ssl-warnings\n",
      "  warnings.warn(\n",
      "/usr/lib/python3/dist-packages/urllib3/connectionpool.py:999: InsecureRequestWarning: Unverified HTTPS request is being made to host '192.168.250.40'. Adding certificate verification is strongly advised. See: https://urllib3.readthedocs.io/en/latest/advanced-usage.html#ssl-warnings\n",
      "  warnings.warn(\n",
      "/usr/lib/python3/dist-packages/urllib3/connectionpool.py:999: InsecureRequestWarning: Unverified HTTPS request is being made to host '192.168.250.40'. Adding certificate verification is strongly advised. See: https://urllib3.readthedocs.io/en/latest/advanced-usage.html#ssl-warnings\n",
      "  warnings.warn(\n",
      "/usr/lib/python3/dist-packages/urllib3/connectionpool.py:999: InsecureRequestWarning: Unverified HTTPS request is being made to host '192.168.250.40'. Adding certificate verification is strongly advised. See: https://urllib3.readthedocs.io/en/latest/advanced-usage.html#ssl-warnings\n",
      "  warnings.warn(\n"
     ]
    },
    {
     "name": "stdout",
     "output_type": "stream",
     "text": [
      "<Response [204]>\n",
      "https://192.168.250.40:50000/b1s/v1/BusinessPartners('RS3021')\n",
      "{'CreditLimit': 1000000000.0, 'MaxCommitment': 1000000000.0}\n",
      "<Response [204]>\n",
      "https://192.168.250.40:50000/b1s/v1/BusinessPartners('SM0010')\n",
      "{'CreditLimit': 100000000.0, 'MaxCommitment': 100000000.0}\n",
      "<Response [204]>\n",
      "https://192.168.250.40:50000/b1s/v1/BusinessPartners('SM0056')\n",
      "{'CreditLimit': 1500000000.0, 'MaxCommitment': 1500000000.0}\n",
      "<Response [204]>\n",
      "https://192.168.250.40:50000/b1s/v1/BusinessPartners('SM0076')\n",
      "{'CreditLimit': 5500000000.0, 'MaxCommitment': 5500000000.0}\n",
      "<Response [204]>\n",
      "https://192.168.250.40:50000/b1s/v1/BusinessPartners('SM0089')\n",
      "{'CreditLimit': 50000000.0, 'MaxCommitment': 50000000.0}\n"
     ]
    },
    {
     "name": "stderr",
     "output_type": "stream",
     "text": [
      "/usr/lib/python3/dist-packages/urllib3/connectionpool.py:999: InsecureRequestWarning: Unverified HTTPS request is being made to host '192.168.250.40'. Adding certificate verification is strongly advised. See: https://urllib3.readthedocs.io/en/latest/advanced-usage.html#ssl-warnings\n",
      "  warnings.warn(\n",
      "/usr/lib/python3/dist-packages/urllib3/connectionpool.py:999: InsecureRequestWarning: Unverified HTTPS request is being made to host '192.168.250.40'. Adding certificate verification is strongly advised. See: https://urllib3.readthedocs.io/en/latest/advanced-usage.html#ssl-warnings\n",
      "  warnings.warn(\n",
      "/usr/lib/python3/dist-packages/urllib3/connectionpool.py:999: InsecureRequestWarning: Unverified HTTPS request is being made to host '192.168.250.40'. Adding certificate verification is strongly advised. See: https://urllib3.readthedocs.io/en/latest/advanced-usage.html#ssl-warnings\n",
      "  warnings.warn(\n",
      "/usr/lib/python3/dist-packages/urllib3/connectionpool.py:999: InsecureRequestWarning: Unverified HTTPS request is being made to host '192.168.250.40'. Adding certificate verification is strongly advised. See: https://urllib3.readthedocs.io/en/latest/advanced-usage.html#ssl-warnings\n",
      "  warnings.warn(\n",
      "/usr/lib/python3/dist-packages/urllib3/connectionpool.py:999: InsecureRequestWarning: Unverified HTTPS request is being made to host '192.168.250.40'. Adding certificate verification is strongly advised. See: https://urllib3.readthedocs.io/en/latest/advanced-usage.html#ssl-warnings\n",
      "  warnings.warn(\n"
     ]
    },
    {
     "name": "stdout",
     "output_type": "stream",
     "text": [
      "<Response [204]>\n",
      "https://192.168.250.40:50000/b1s/v1/BusinessPartners('SM0111')\n",
      "{'CreditLimit': 125000000.0, 'MaxCommitment': 125000000.0}\n",
      "<Response [204]>\n",
      "https://192.168.250.40:50000/b1s/v1/BusinessPartners('SM0133')\n",
      "{'CreditLimit': 100000000.0, 'MaxCommitment': 100000000.0}\n",
      "<Response [204]>\n",
      "https://192.168.250.40:50000/b1s/v1/BusinessPartners('SM0151')\n",
      "{'CreditLimit': 200000000.0, 'MaxCommitment': 200000000.0}\n",
      "<Response [204]>\n",
      "https://192.168.250.40:50000/b1s/v1/BusinessPartners('SM0162')\n",
      "{'CreditLimit': 700000000.0, 'MaxCommitment': 700000000.0}\n",
      "<Response [204]>\n",
      "https://192.168.250.40:50000/b1s/v1/BusinessPartners('SM0178')\n",
      "{'CreditLimit': 100000000.0, 'MaxCommitment': 100000000.0}\n"
     ]
    },
    {
     "name": "stderr",
     "output_type": "stream",
     "text": [
      "/usr/lib/python3/dist-packages/urllib3/connectionpool.py:999: InsecureRequestWarning: Unverified HTTPS request is being made to host '192.168.250.40'. Adding certificate verification is strongly advised. See: https://urllib3.readthedocs.io/en/latest/advanced-usage.html#ssl-warnings\n",
      "  warnings.warn(\n",
      "/usr/lib/python3/dist-packages/urllib3/connectionpool.py:999: InsecureRequestWarning: Unverified HTTPS request is being made to host '192.168.250.40'. Adding certificate verification is strongly advised. See: https://urllib3.readthedocs.io/en/latest/advanced-usage.html#ssl-warnings\n",
      "  warnings.warn(\n",
      "/usr/lib/python3/dist-packages/urllib3/connectionpool.py:999: InsecureRequestWarning: Unverified HTTPS request is being made to host '192.168.250.40'. Adding certificate verification is strongly advised. See: https://urllib3.readthedocs.io/en/latest/advanced-usage.html#ssl-warnings\n",
      "  warnings.warn(\n",
      "/usr/lib/python3/dist-packages/urllib3/connectionpool.py:999: InsecureRequestWarning: Unverified HTTPS request is being made to host '192.168.250.40'. Adding certificate verification is strongly advised. See: https://urllib3.readthedocs.io/en/latest/advanced-usage.html#ssl-warnings\n",
      "  warnings.warn(\n",
      "/usr/lib/python3/dist-packages/urllib3/connectionpool.py:999: InsecureRequestWarning: Unverified HTTPS request is being made to host '192.168.250.40'. Adding certificate verification is strongly advised. See: https://urllib3.readthedocs.io/en/latest/advanced-usage.html#ssl-warnings\n",
      "  warnings.warn(\n"
     ]
    },
    {
     "name": "stdout",
     "output_type": "stream",
     "text": [
      "<Response [204]>\n",
      "https://192.168.250.40:50000/b1s/v1/BusinessPartners('SM0179')\n",
      "{'CreditLimit': 450000000.0, 'MaxCommitment': 450000000.0}\n",
      "<Response [204]>\n",
      "https://192.168.250.40:50000/b1s/v1/BusinessPartners('SM0193')\n",
      "{'CreditLimit': 200000000.0, 'MaxCommitment': 200000000.0}\n",
      "<Response [204]>\n",
      "https://192.168.250.40:50000/b1s/v1/BusinessPartners('SM0205')\n",
      "{'CreditLimit': 75000000.0, 'MaxCommitment': 75000000.0}\n",
      "<Response [204]>\n",
      "https://192.168.250.40:50000/b1s/v1/BusinessPartners('SM0209')\n",
      "{'CreditLimit': 200000000.0, 'MaxCommitment': 200000000.0}\n"
     ]
    },
    {
     "name": "stderr",
     "output_type": "stream",
     "text": [
      "/usr/lib/python3/dist-packages/urllib3/connectionpool.py:999: InsecureRequestWarning: Unverified HTTPS request is being made to host '192.168.250.40'. Adding certificate verification is strongly advised. See: https://urllib3.readthedocs.io/en/latest/advanced-usage.html#ssl-warnings\n",
      "  warnings.warn(\n",
      "/usr/lib/python3/dist-packages/urllib3/connectionpool.py:999: InsecureRequestWarning: Unverified HTTPS request is being made to host '192.168.250.40'. Adding certificate verification is strongly advised. See: https://urllib3.readthedocs.io/en/latest/advanced-usage.html#ssl-warnings\n",
      "  warnings.warn(\n",
      "/usr/lib/python3/dist-packages/urllib3/connectionpool.py:999: InsecureRequestWarning: Unverified HTTPS request is being made to host '192.168.250.40'. Adding certificate verification is strongly advised. See: https://urllib3.readthedocs.io/en/latest/advanced-usage.html#ssl-warnings\n",
      "  warnings.warn(\n",
      "/usr/lib/python3/dist-packages/urllib3/connectionpool.py:999: InsecureRequestWarning: Unverified HTTPS request is being made to host '192.168.250.40'. Adding certificate verification is strongly advised. See: https://urllib3.readthedocs.io/en/latest/advanced-usage.html#ssl-warnings\n",
      "  warnings.warn(\n"
     ]
    },
    {
     "name": "stdout",
     "output_type": "stream",
     "text": [
      "<Response [204]>\n",
      "https://192.168.250.40:50000/b1s/v1/BusinessPartners('SM0210')\n",
      "{'CreditLimit': 200000000.0, 'MaxCommitment': 200000000.0}\n",
      "<Response [204]>\n",
      "https://192.168.250.40:50000/b1s/v1/BusinessPartners('SM0221')\n",
      "{'CreditLimit': 100000000.0, 'MaxCommitment': 100000000.0}\n",
      "<Response [204]>\n",
      "https://192.168.250.40:50000/b1s/v1/BusinessPartners('UM0103')\n",
      "{'CreditLimit': 100000000.0, 'MaxCommitment': 100000000.0}\n",
      "<Response [204]>\n",
      "https://192.168.250.40:50000/b1s/v1/BusinessPartners('UM0162')\n",
      "{'CreditLimit': 200000000.0, 'MaxCommitment': 200000000.0}\n",
      "<Response [204]>\n",
      "https://192.168.250.40:50000/b1s/v1/BusinessPartners('UM0234')\n",
      "{'CreditLimit': 15000000.0, 'MaxCommitment': 15000000.0}\n"
     ]
    },
    {
     "name": "stderr",
     "output_type": "stream",
     "text": [
      "/usr/lib/python3/dist-packages/urllib3/connectionpool.py:999: InsecureRequestWarning: Unverified HTTPS request is being made to host '192.168.250.40'. Adding certificate verification is strongly advised. See: https://urllib3.readthedocs.io/en/latest/advanced-usage.html#ssl-warnings\n",
      "  warnings.warn(\n",
      "/usr/lib/python3/dist-packages/urllib3/connectionpool.py:999: InsecureRequestWarning: Unverified HTTPS request is being made to host '192.168.250.40'. Adding certificate verification is strongly advised. See: https://urllib3.readthedocs.io/en/latest/advanced-usage.html#ssl-warnings\n",
      "  warnings.warn(\n",
      "/usr/lib/python3/dist-packages/urllib3/connectionpool.py:999: InsecureRequestWarning: Unverified HTTPS request is being made to host '192.168.250.40'. Adding certificate verification is strongly advised. See: https://urllib3.readthedocs.io/en/latest/advanced-usage.html#ssl-warnings\n",
      "  warnings.warn(\n",
      "/usr/lib/python3/dist-packages/urllib3/connectionpool.py:999: InsecureRequestWarning: Unverified HTTPS request is being made to host '192.168.250.40'. Adding certificate verification is strongly advised. See: https://urllib3.readthedocs.io/en/latest/advanced-usage.html#ssl-warnings\n",
      "  warnings.warn(\n",
      "/usr/lib/python3/dist-packages/urllib3/connectionpool.py:999: InsecureRequestWarning: Unverified HTTPS request is being made to host '192.168.250.40'. Adding certificate verification is strongly advised. See: https://urllib3.readthedocs.io/en/latest/advanced-usage.html#ssl-warnings\n",
      "  warnings.warn(\n"
     ]
    },
    {
     "name": "stdout",
     "output_type": "stream",
     "text": [
      "<Response [204]>\n",
      "https://192.168.250.40:50000/b1s/v1/BusinessPartners('UM0256')\n",
      "{'CreditLimit': 40000000.0, 'MaxCommitment': 40000000.0}\n",
      "<Response [204]>\n",
      "https://192.168.250.40:50000/b1s/v1/BusinessPartners('UM0337')\n",
      "{'CreditLimit': 100000000.0, 'MaxCommitment': 100000000.0}\n",
      "<Response [204]>\n",
      "https://192.168.250.40:50000/b1s/v1/BusinessPartners('UM0414')\n",
      "{'CreditLimit': 4000000000.0, 'MaxCommitment': 4000000000.0}\n",
      "<Response [204]>\n",
      "https://192.168.250.40:50000/b1s/v1/BusinessPartners('UM0531')\n",
      "{'CreditLimit': 1500000000.0, 'MaxCommitment': 1500000000.0}\n",
      "<Response [204]>\n",
      "https://192.168.250.40:50000/b1s/v1/BusinessPartners('UM0609')\n",
      "{'CreditLimit': 100000000.0, 'MaxCommitment': 100000000.0}\n"
     ]
    },
    {
     "name": "stderr",
     "output_type": "stream",
     "text": [
      "/usr/lib/python3/dist-packages/urllib3/connectionpool.py:999: InsecureRequestWarning: Unverified HTTPS request is being made to host '192.168.250.40'. Adding certificate verification is strongly advised. See: https://urllib3.readthedocs.io/en/latest/advanced-usage.html#ssl-warnings\n",
      "  warnings.warn(\n",
      "/usr/lib/python3/dist-packages/urllib3/connectionpool.py:999: InsecureRequestWarning: Unverified HTTPS request is being made to host '192.168.250.40'. Adding certificate verification is strongly advised. See: https://urllib3.readthedocs.io/en/latest/advanced-usage.html#ssl-warnings\n",
      "  warnings.warn(\n",
      "/usr/lib/python3/dist-packages/urllib3/connectionpool.py:999: InsecureRequestWarning: Unverified HTTPS request is being made to host '192.168.250.40'. Adding certificate verification is strongly advised. See: https://urllib3.readthedocs.io/en/latest/advanced-usage.html#ssl-warnings\n",
      "  warnings.warn(\n",
      "/usr/lib/python3/dist-packages/urllib3/connectionpool.py:999: InsecureRequestWarning: Unverified HTTPS request is being made to host '192.168.250.40'. Adding certificate verification is strongly advised. See: https://urllib3.readthedocs.io/en/latest/advanced-usage.html#ssl-warnings\n",
      "  warnings.warn(\n",
      "/usr/lib/python3/dist-packages/urllib3/connectionpool.py:999: InsecureRequestWarning: Unverified HTTPS request is being made to host '192.168.250.40'. Adding certificate verification is strongly advised. See: https://urllib3.readthedocs.io/en/latest/advanced-usage.html#ssl-warnings\n",
      "  warnings.warn(\n"
     ]
    },
    {
     "name": "stdout",
     "output_type": "stream",
     "text": [
      "<Response [204]>\n",
      "https://192.168.250.40:50000/b1s/v1/BusinessPartners('UM0615')\n",
      "{'CreditLimit': 20000000.0, 'MaxCommitment': 20000000.0}\n",
      "<Response [204]>\n",
      "https://192.168.250.40:50000/b1s/v1/BusinessPartners('UM0639')\n",
      "{'CreditLimit': 100000000.0, 'MaxCommitment': 100000000.0}\n",
      "<Response [204]>\n",
      "https://192.168.250.40:50000/b1s/v1/BusinessPartners('UM0736')\n",
      "{'CreditLimit': 100000000.0, 'MaxCommitment': 100000000.0}\n",
      "<Response [204]>\n",
      "https://192.168.250.40:50000/b1s/v1/BusinessPartners('UM0797')\n",
      "{'CreditLimit': 100000000.0, 'MaxCommitment': 100000000.0}\n",
      "<Response [204]>\n",
      "https://192.168.250.40:50000/b1s/v1/BusinessPartners('UM0904')\n",
      "{'CreditLimit': 100000000.0, 'MaxCommitment': 100000000.0}\n",
      "<Response [204]>\n",
      "https://192.168.250.40:50000/b1s/v1/BusinessPartners('UM0949')\n",
      "{'CreditLimit': 100000000.0, 'MaxCommitment': 100000000.0}\n",
      "<Response [204]>\n"
     ]
    },
    {
     "name": "stderr",
     "output_type": "stream",
     "text": [
      "/usr/lib/python3/dist-packages/urllib3/connectionpool.py:999: InsecureRequestWarning: Unverified HTTPS request is being made to host '192.168.250.40'. Adding certificate verification is strongly advised. See: https://urllib3.readthedocs.io/en/latest/advanced-usage.html#ssl-warnings\n",
      "  warnings.warn(\n",
      "/usr/lib/python3/dist-packages/urllib3/connectionpool.py:999: InsecureRequestWarning: Unverified HTTPS request is being made to host '192.168.250.40'. Adding certificate verification is strongly advised. See: https://urllib3.readthedocs.io/en/latest/advanced-usage.html#ssl-warnings\n",
      "  warnings.warn(\n",
      "/usr/lib/python3/dist-packages/urllib3/connectionpool.py:999: InsecureRequestWarning: Unverified HTTPS request is being made to host '192.168.250.40'. Adding certificate verification is strongly advised. See: https://urllib3.readthedocs.io/en/latest/advanced-usage.html#ssl-warnings\n",
      "  warnings.warn(\n"
     ]
    }
   ],
   "source": [
    "import requests\n",
    "import json\n",
    "import numpy as np\n",
    "import pandas as pd\n",
    "import pandas.io.sql\n",
    "import pymssql   \n",
    "\n",
    "import pymssql\n",
    "datacompany = (\n",
    "                {'host':'192.168.250.40' , 'dbname':'IGU_LIVE_20221204','user':'sa','password':'B1admin'} ,\n",
    "                )\n",
    "                \n",
    "datalist=[]\n",
    "listcom = []\n",
    "for company in datacompany:\n",
    "    \n",
    "    msg_sql=  \"\"\"\n",
    "                    SELECT  top 100 a.CardCode, a.CreditLine,b.CreditLine\n",
    "                        FROM OCRD a\n",
    "                        inner join IGU_NEW.DBO.ocrd b on a.cardcode = b.cardcode \n",
    "                    WHERE a.CARDTYPE = 'C'\n",
    "                        and a.creditline<>b.creditline\n",
    "                        and a.cardcode in (select a.cardcode from ordr a where year(docdate) in ('2020','2021','2022'))\n",
    "                         \n",
    "\n",
    "                \"\"\"\n",
    "     \n",
    "    listcom.append(company[\"dbname\"])\n",
    "    conn = pymssql.connect(host=company[\"host\"] , user=company[\"user\"] , password=company[\"password\"], database=company[\"dbname\"] )\n",
    "    cursor = conn.cursor()     \n",
    "    data = pandas.io.sql.read_sql(msg_sql,conn)\n",
    "    datalist.append(data)\n",
    "\n",
    "df = pd.concat(datalist)  \n",
    "\n",
    "listvalue = df.values.tolist()\n",
    "\n",
    "\n",
    "\n",
    "#print (listvalue)\n",
    "\n",
    "appSession = requests.Session()\n",
    "\n",
    "url = \"https://192.168.250.40:50000/b1s/v1/Login\"\n",
    "\n",
    "\n",
    "payload = { \"CompanyDB\" :\"IGU_NEW\" ,\n",
    "\t\t\t\"UserName\" : \"manager\" ,\n",
    "\t\t\t\"Password\" : \"8610550\"\n",
    "\t\t\t}\n",
    "response = appSession.post(url, json=payload,verify=False)\n",
    "\n",
    "print(response.text)\n",
    "print(listvalue)\n",
    "# DocumentLines =[]\n",
    "for line in listvalue :\n",
    "    CardCode = line[0]\n",
    "    CreditLine =  line[1]\n",
    "     \n",
    "    url = \"https://192.168.250.40:50000/b1s/v1/BusinessPartners('\" + CardCode + \"')\"\n",
    "\n",
    " \n",
    "    \n",
    "    payload = {\n",
    "                \"CreditLimit\" :line[1] ,\n",
    "                \"MaxCommitment\" : line[1]\n",
    "                }                \n",
    "    print(url)\n",
    "    print (payload)\n",
    "    response2 = appSession.patch(url,json=payload,verify=False)\n",
    "    print(response2)    \n",
    "    \n",
    "    \n",
    "    \n",
    "\n",
    "# apdp = rsp.json()\n",
    "\n",
    " \n",
    "\n",
    "# print(apdp[\"DocEntry\"])\n",
    "# print(DocumentLines)\n",
    "# url = \"https://192.168.250.40:50000/b1s/v1/VendorPayments\"\n",
    "\n",
    "# payload2 = {\n",
    "#             \"DocType\": \"rSupplier\",\n",
    "#             \"TransferAccount\" :\"21200001\",\n",
    "#             \"DocDate\" :DocDate,\n",
    "#             \"CardCode\" :CardCode,\n",
    "#             \"CardName\" :CardName,\n",
    "#             \"TransferAccount\": \"2120001\", \n",
    "#             \"U_TransType\": \"BK\",\n",
    "#             \"U_Trans_No\": \"BK2110000009\",\n",
    "#             \"U_Double\": \"Y\",\n",
    "#             \"TransferDate\" :DocDate,\n",
    "#             \"DocCurrency\" :DocCurrency,\n",
    "#             \"TransferSum\" :DocTotal,   \n",
    "#             \"DocObjectCode\": \"bopot_OutgoingPayments\",\n",
    "#             \"DocTypte\": \"rSupplier\",\n",
    "#             \"AuthorizationStatus\": \"pasWithout\",\n",
    "#             \"PaymentInvoices\" :[{\n",
    "                                \n",
    "#                                 \"DocEntry\": apdp[\"DocEntry\"],\n",
    "#                                 \"SumApplied\": DocTotal,\n",
    "#                                 \"InvoiceType\": \"it_PurchaseDownPayment\"}]\n",
    "        \n",
    "#             }           \n",
    "\n",
    "# print(payload2)\n",
    "\n",
    "# rsp = appSession.post(url,json=payload2,verify=False)\n",
    "\n",
    "# print(rsp.json())\n",
    "\n",
    "#url = \"https://192.168.250.40:50000/b1s/v1/Logout\"\n",
    "\n",
    "\n",
    "#response = appSession.post(url,verify=False)\n",
    "# #df.to_csv(\"/data/.csv\")\n",
    "  \n",
    "# #df.to_excel(\"/data/penjualan-21.xlsx\")\n",
    "\n",
    "# #df.head(10).to_csv(\"/data/penjualantop10.csv\")\n",
    "\n",
    " \n",
    "\n",
    " "
   ]
  }
 ],
 "metadata": {
  "kernelspec": {
   "display_name": "Python 3.8.10 64-bit",
   "language": "python",
   "name": "python3"
  },
  "language_info": {
   "codemirror_mode": {
    "name": "ipython",
    "version": 3
   },
   "file_extension": ".py",
   "mimetype": "text/x-python",
   "name": "python",
   "nbconvert_exporter": "python",
   "pygments_lexer": "ipython3",
   "version": "3.8.10"
  },
  "orig_nbformat": 4,
  "vscode": {
   "interpreter": {
    "hash": "916dbcbb3f70747c44a77c7bcd40155683ae19c65e1c03b4aa3499c5328201f1"
   }
  }
 },
 "nbformat": 4,
 "nbformat_minor": 2
}
