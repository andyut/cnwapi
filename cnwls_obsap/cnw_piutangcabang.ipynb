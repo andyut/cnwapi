{
 "cells": [
  {
   "cell_type": "code",
   "execution_count": 9,
   "metadata": {},
   "outputs": [
    {
     "name": "stderr",
     "output_type": "stream",
     "text": [
      "/tmp/ipykernel_238617/3915939408.py:68: UserWarning: pandas only supports SQLAlchemy connectable (engine/connection) or database string URI or sqlite3 DBAPI2 connection. Other DBAPI2 objects are not tested. Please consider using SQLAlchemy.\n",
      "  data = pandas.io.sql.read_sql(msg_sql,conn)\n"
     ]
    }
   ],
   "source": [
    "import requests\n",
    "import xlsxwriter\n",
    "import numpy as np\n",
    "import pandas as pd\n",
    "import pandas.io.sql\n",
    "import pymssql   \n",
    "\n",
    "import pymssql\n",
    "datacompany = (\n",
    "                {'host':'192.168.250.40' , 'dbname':'IGU_NEW','user':'sa','password':'B1admin'} ,\n",
    "                )\n",
    "                \n",
    "datalist=[]\n",
    "listcom = []\n",
    "for company in datacompany:\n",
    "    \n",
    "    msg_sql=  \"\"\"\n",
    "                   select   iyear,\n",
    "                            imonth,\n",
    "                            iday,\n",
    "                            cardname ,\n",
    "                        sum( balance)balance\n",
    "                    from (\n",
    "                    SELECT year(a.docdate) iyear,\n",
    "                            month(a.docdate) imonth,\n",
    "                            right(convert(varchar,a.docdate,112),2) iday,\n",
    "                            b.cardname ,\n",
    "                        sum( a.DocTotal - a.PaidSys)balance\n",
    "                    FROM OINV A\n",
    "                    INNER JOIN OCRD B ON A.CARDCODE = B.CARDCODE \n",
    "                    INNER JOIN OCRG C ON B.GroupCode = C.GroupCode\n",
    "                    where c.groupcode ='117'\n",
    "                    group by year(a.docdate) ,\n",
    "                            month(a.docdate) ,\n",
    "                            right(convert(varchar,a.docdate,112),2) ,\n",
    "                            b.cardname \n",
    "                    having sum( a.DocTotal - a.PaidSys) <>0\n",
    "\n",
    "                    union all\n",
    "                    SELECT year(a.docdate) iyear,\n",
    "                            month(a.docdate) imonth,\n",
    "                            right(convert(varchar,a.docdate,112),2) iday,\n",
    "                            b.cardname ,\n",
    "                        -1 * sum( a.DocTotal - a.PaidSys)balance\n",
    "                    FROM orin A\n",
    "                    INNER JOIN OCRD B ON A.CARDCODE = B.CARDCODE \n",
    "                    INNER JOIN OCRG C ON B.GroupCode = C.GroupCode\n",
    "                    where c.groupcode ='117'\n",
    "                    group by year(a.docdate) ,\n",
    "                            month(a.docdate) ,\n",
    "                            right(convert(varchar,a.docdate,112),2) ,\n",
    "                            b.cardname \n",
    "                    having sum( a.DocTotal - a.PaidSys) <>0\n",
    "                    )as a\n",
    "                    group by iyear,\n",
    "                            imonth,\n",
    "                            iday,\n",
    "                            cardname\n",
    "                    order by   iyear,\n",
    "                            imonth,\n",
    "                            iday,\n",
    "                            cardname\n",
    "                \"\"\"\n",
    "   \n",
    "    listcom.append(company[\"dbname\"])\n",
    "    conn = pymssql.connect(host=company[\"host\"] , user=company[\"user\"] , password=company[\"password\"], database=company[\"dbname\"] )\n",
    "    cursor = conn.cursor()     \n",
    "    data = pandas.io.sql.read_sql(msg_sql,conn)\n",
    "    datalist.append(data)\n",
    "\n",
    "df = pd.concat(datalist)  \n",
    "\n",
    "df.pivot_table(index=['cardname'],columns=[\"iyear\",\"imonth\",\"iday\"],aggfunc=np.sum,  values=[\"balance\"],fill_value=\"0\",margins=True).to_excel(\"/data/cabang.xlsx\")\n",
    "df.pivot_table(index=[\"iyear\",\"imonth\",\"iday\"],columns=['cardname'],aggfunc=np.sum,  values=[\"balance\"],fill_value=\"0\",margins=True).to_excel(\"/data/cabang2.xlsx\")\n",
    " \n",
    " \n",
    " \n",
    "df.pivot_table(index=['cardname'],columns=[\"iyear\",\"imonth\"],aggfunc=np.sum,  values=[\"balance\"],fill_value=\"0\",margins=True).to_excel(\"/data/cabang3.xlsx\")\n",
    " \n",
    "\n",
    " "
   ]
  },
  {
   "cell_type": "code",
   "execution_count": null,
   "metadata": {},
   "outputs": [],
   "source": []
  }
 ],
 "metadata": {
  "kernelspec": {
   "display_name": "Python 3.8.10 64-bit",
   "language": "python",
   "name": "python3"
  },
  "language_info": {
   "codemirror_mode": {
    "name": "ipython",
    "version": 3
   },
   "file_extension": ".py",
   "mimetype": "text/x-python",
   "name": "python",
   "nbconvert_exporter": "python",
   "pygments_lexer": "ipython3",
   "version": "3.8.10"
  },
  "orig_nbformat": 4,
  "vscode": {
   "interpreter": {
    "hash": "916dbcbb3f70747c44a77c7bcd40155683ae19c65e1c03b4aa3499c5328201f1"
   }
  }
 },
 "nbformat": 4,
 "nbformat_minor": 2
}
