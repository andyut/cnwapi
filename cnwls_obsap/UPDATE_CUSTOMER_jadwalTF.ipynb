{
 "cells": [
  {
   "cell_type": "code",
   "execution_count": 2,
   "metadata": {},
   "outputs": [
    {
     "name": "stdout",
     "output_type": "stream",
     "text": [
      "{'odata.metadata': 'https://192.168.250.40:50000/b1s/v1/$metadata#B1Sessions/@Element', 'SessionId': '6c93a67e-97db-11ed-8000-089204b66136', 'Version': '1000180', 'SessionTimeout': 30}\n",
      "https://192.168.250.40:50000/b1s/v1/BusinessPartners('ps0180')\n",
      "{'error': {'code': -1, 'message': {'lang': 'en-us', 'value': \"[Microsoft][ODBC Driver 17 for SQL Server][SQL Server]Cannot insert the value NULL into column 'CardCode', table 'IGU_NEW.dbo.OCRD'; column does not allow nulls. INSERT fails.\"}}}\n",
      "https://192.168.250.40:50000/b1s/v1/BusinessPartners('rs3102')\n",
      "{'error': {'code': -1, 'message': {'lang': 'en-us', 'value': \"[Microsoft][ODBC Driver 17 for SQL Server][SQL Server]Cannot insert the value NULL into column 'CardCode', table 'IGU_NEW.dbo.OCRD'; column does not allow nulls. INSERT fails.\"}}}\n",
      "https://192.168.250.40:50000/b1s/v1/BusinessPartners('RS3040')\n",
      "{'error': {'code': -1, 'message': {'lang': 'en-us', 'value': 'BadFormat'}}}\n",
      "https://192.168.250.40:50000/b1s/v1/BusinessPartners('ps0371')\n",
      "{'error': {'code': -1, 'message': {'lang': 'en-us', 'value': \"[Microsoft][ODBC Driver 17 for SQL Server][SQL Server]Cannot insert the value NULL into column 'CardCode', table 'IGU_NEW.dbo.OCRD'; column does not allow nulls. INSERT fails.\"}}}\n",
      "https://192.168.250.40:50000/b1s/v1/BusinessPartners('ps1117')\n",
      "{'error': {'code': -1, 'message': {'lang': 'en-us', 'value': \"[Microsoft][ODBC Driver 17 for SQL Server][SQL Server]Cannot insert the value NULL into column 'CardCode', table 'IGU_NEW.dbo.OCRD'; column does not allow nulls. INSERT fails.\"}}}\n",
      "https://192.168.250.40:50000/b1s/v1/BusinessPartners('rs2315')\n",
      "{'error': {'code': -1, 'message': {'lang': 'en-us', 'value': \"[Microsoft][ODBC Driver 17 for SQL Server][SQL Server]Cannot insert the value NULL into column 'CardCode', table 'IGU_NEW.dbo.OCRD'; column does not allow nulls. INSERT fails.\"}}}\n",
      "https://192.168.250.40:50000/b1s/v1/BusinessPartners('rs1642')\n",
      "{'error': {'code': -1, 'message': {'lang': 'en-us', 'value': \"[Microsoft][ODBC Driver 17 for SQL Server][SQL Server]Cannot insert the value NULL into column 'CardCode', table 'IGU_NEW.dbo.OCRD'; column does not allow nulls. INSERT fails.\"}}}\n"
     ]
    }
   ],
   "source": [
    "import json\n",
    "import requests\n",
    "import pandas as pd\n",
    "from requests.packages.urllib3.exceptions import InsecureRequestWarning\n",
    "\n",
    "requests.packages.urllib3.disable_warnings(InsecureRequestWarning)\n",
    "\n",
    "df = pd.read_csv('/data/cnwls/cnwls_obsap/INDOGUNA_AR_JDWL_TFREVISI.csv', delimiter=';')\n",
    "\n",
    "\n",
    "CompanyDB = \"IGU_NEW\" \n",
    "UserName =  \"manager\"\n",
    "Password = \"8610550\"\n",
    "url =  \"https://192.168.250.40:50000/b1s/v1/\"\n",
    "\n",
    "mylist = df.values.tolist()\n",
    "\n",
    "#print(mylist)\n",
    "\n",
    "appSession = requests.Session()\n",
    "\n",
    "#########################\n",
    "# LOGIN\n",
    "#########################\n",
    "\n",
    "urllogin = url + \"Login\"\n",
    "\n",
    "headers= {\"B1S-ReplaceCollectionsOnPatch\":\"true\"}\n",
    "payload = { \"CompanyDB\" :CompanyDB ,\n",
    "\t\t\t\"UserName\" : UserName,\n",
    "\t\t\t\"Password\" : Password\n",
    "\t\t\t}\n",
    "response = appSession.post(urllogin, json=payload,verify=False)\n",
    "\n",
    "print(response.json())\n",
    "\n",
    "\n",
    "#########################\n",
    "# UPDATE UOM ORDER \n",
    "#########################\n",
    "\n",
    "\n",
    "\n",
    "\n",
    "for line in mylist : \n",
    "\n",
    "\turlbp = url + \"BusinessPartners('\" + line[0] +  \"')\"\n",
    "\t#iaddress = line[2] if line[2] else \"-\"\n",
    "\tpayload = { \"Notes\" : line[2] \n",
    "\t\t\t}               \n",
    "\n",
    "\trsp = appSession.patch(urlbp,json=payload,verify=False)\n",
    "\t#print(urlbp)\n",
    "\t#print(payload)\n",
    "\t#print(rsp.status_code)\n",
    "\tif rsp.status_code >=400 :\n",
    "\t\tprint(urlbp)\n",
    "\t\tprint(rsp.json())\n",
    "\n",
    "\t#apdp = rsp.json()\n",
    "\n",
    "\n",
    "urllogout = url + \"Logout\"\n",
    "rsplogout = appSession.post(urllogout,json=payload,verify=False)\n",
    "\n"
   ]
  }
 ],
 "metadata": {
  "kernelspec": {
   "display_name": "Python 3.8.10 64-bit",
   "language": "python",
   "name": "python3"
  },
  "language_info": {
   "codemirror_mode": {
    "name": "ipython",
    "version": 3
   },
   "file_extension": ".py",
   "mimetype": "text/x-python",
   "name": "python",
   "nbconvert_exporter": "python",
   "pygments_lexer": "ipython3",
   "version": "3.8.10"
  },
  "orig_nbformat": 4,
  "vscode": {
   "interpreter": {
    "hash": "916dbcbb3f70747c44a77c7bcd40155683ae19c65e1c03b4aa3499c5328201f1"
   }
  }
 },
 "nbformat": 4,
 "nbformat_minor": 2
}
